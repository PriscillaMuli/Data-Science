{
  "nbformat": 4,
  "nbformat_minor": 0,
  "metadata": {
    "colab": {
      "name": "Moringa_Data_Science_Prep_W3_Independent_Project_2021_02_Priscilla_Muli_PythonNotebook.ipynb",
      "provenance": [],
      "collapsed_sections": [],
      "include_colab_link": true
    },
    "kernelspec": {
      "name": "python3",
      "display_name": "Python 3"
    }
  },
  "cells": [
    {
      "cell_type": "markdown",
      "metadata": {
        "id": "view-in-github",
        "colab_type": "text"
      },
      "source": [
        "<a href=\"https://colab.research.google.com/github/PriscillaMuli/Data-Science/blob/main/Moringa_Data_Science_Prep_W3_Independent_Project_2021_02_Priscilla_Muli_PythonNotebook.ipynb\" target=\"_parent\"><img src=\"https://colab.research.google.com/assets/colab-badge.svg\" alt=\"Open In Colab\"/></a>"
      ]
    },
    {
      "cell_type": "markdown",
      "metadata": {
        "id": "jeddc1OYEJ_2"
      },
      "source": [
        "MTN UPGRADE STRATEGY"
      ]
    },
    {
      "cell_type": "markdown",
      "metadata": {
        "id": "1yOBi04vF_qg"
      },
      "source": [
        "ENVIRONMENT SET UP"
      ]
    },
    {
      "cell_type": "code",
      "metadata": {
        "id": "gJWupvqcAQ57"
      },
      "source": [
        "# Import csv, pandas and numpy libraries\r\n",
        "import pandas as pd\r\n",
        "import numpy as np\r\n",
        "import csv"
      ],
      "execution_count": null,
      "outputs": []
    },
    {
      "cell_type": "markdown",
      "metadata": {
        "id": "6dzy_MTZF317"
      },
      "source": [
        "LOADING DATASETS AND DATA SET DESCRIPTION"
      ]
    },
    {
      "cell_type": "code",
      "metadata": {
        "colab": {
          "base_uri": "https://localhost:8080/",
          "height": 419
        },
        "id": "njw7lEyaDSle",
        "outputId": "f75f6bb8-66fc-48b9-9178-e43b930c8a1e"
      },
      "source": [
        "# Loading telcom day 1 dataset\r\n",
        "tel1 = pd.read_csv('Telcom_dataset.csv')\r\n",
        "tel1.columns = ['PRODUCT', 'VALUE', 'DATE_TIME', 'CELL_ON_SITE', 'DW_A_NUMBER_INT', 'DW_B_NUMBER_INT', 'COUNTRY_A', 'COUNTRY_B', 'CELL_ID', 'SITE_ID']\r\n",
        "tel1"
      ],
      "execution_count": null,
      "outputs": [
        {
          "output_type": "execute_result",
          "data": {
            "text/html": [
              "<div>\n",
              "<style scoped>\n",
              "    .dataframe tbody tr th:only-of-type {\n",
              "        vertical-align: middle;\n",
              "    }\n",
              "\n",
              "    .dataframe tbody tr th {\n",
              "        vertical-align: top;\n",
              "    }\n",
              "\n",
              "    .dataframe thead th {\n",
              "        text-align: right;\n",
              "    }\n",
              "</style>\n",
              "<table border=\"1\" class=\"dataframe\">\n",
              "  <thead>\n",
              "    <tr style=\"text-align: right;\">\n",
              "      <th></th>\n",
              "      <th>PRODUCT</th>\n",
              "      <th>VALUE</th>\n",
              "      <th>DATE_TIME</th>\n",
              "      <th>CELL_ON_SITE</th>\n",
              "      <th>DW_A_NUMBER_INT</th>\n",
              "      <th>DW_B_NUMBER_INT</th>\n",
              "      <th>COUNTRY_A</th>\n",
              "      <th>COUNTRY_B</th>\n",
              "      <th>CELL_ID</th>\n",
              "      <th>SITE_ID</th>\n",
              "    </tr>\n",
              "  </thead>\n",
              "  <tbody>\n",
              "    <tr>\n",
              "      <th>0</th>\n",
              "      <td>Voice</td>\n",
              "      <td>0</td>\n",
              "      <td>2012-05-06 23:04:37.0</td>\n",
              "      <td>1</td>\n",
              "      <td>49fae048b547780</td>\n",
              "      <td>1a49f8b0ded9de6</td>\n",
              "      <td>19e2e</td>\n",
              "      <td>19e2e</td>\n",
              "      <td>/TJNe+Mmtu</td>\n",
              "      <td>/TJNe+Mmtu</td>\n",
              "    </tr>\n",
              "    <tr>\n",
              "      <th>1</th>\n",
              "      <td>sms</td>\n",
              "      <td>0</td>\n",
              "      <td>2012-05-06 23:05:25.0</td>\n",
              "      <td>0</td>\n",
              "      <td>7a54a6eaee19e65</td>\n",
              "      <td>93343ba6e41af95</td>\n",
              "      <td>19e2e</td>\n",
              "      <td>19e2e</td>\n",
              "      <td>/+cKZKIp41</td>\n",
              "      <td>/+cKZKIp41</td>\n",
              "    </tr>\n",
              "    <tr>\n",
              "      <th>2</th>\n",
              "      <td>sms</td>\n",
              "      <td>25</td>\n",
              "      <td>2012-05-06 23:05:41.0</td>\n",
              "      <td>0</td>\n",
              "      <td>6008887b0207d82</td>\n",
              "      <td>7aacc9709ce0a20</td>\n",
              "      <td>19e2e</td>\n",
              "      <td>19e2e</td>\n",
              "      <td>/u0FSD+ahi</td>\n",
              "      <td>/u0FSD+ahi</td>\n",
              "    </tr>\n",
              "    <tr>\n",
              "      <th>3</th>\n",
              "      <td>Voice</td>\n",
              "      <td>56</td>\n",
              "      <td>2012-05-06 23:05:42.0</td>\n",
              "      <td>1</td>\n",
              "      <td>7370032e20f4e96</td>\n",
              "      <td>6af4a60e74c91d3</td>\n",
              "      <td>19e2e</td>\n",
              "      <td>19e2e</td>\n",
              "      <td>+cNeJzsTp3</td>\n",
              "      <td>+cNeJzsTp3</td>\n",
              "    </tr>\n",
              "    <tr>\n",
              "      <th>4</th>\n",
              "      <td>Voice</td>\n",
              "      <td>14</td>\n",
              "      <td>2012-05-06 23:06:29.0</td>\n",
              "      <td>1</td>\n",
              "      <td>966ba4656e38e62</td>\n",
              "      <td>02aa736ee555d5c</td>\n",
              "      <td>19e2e</td>\n",
              "      <td>19e2e</td>\n",
              "      <td>051KhYDCpv</td>\n",
              "      <td>051KhYDCpv</td>\n",
              "    </tr>\n",
              "    <tr>\n",
              "      <th>...</th>\n",
              "      <td>...</td>\n",
              "      <td>...</td>\n",
              "      <td>...</td>\n",
              "      <td>...</td>\n",
              "      <td>...</td>\n",
              "      <td>...</td>\n",
              "      <td>...</td>\n",
              "      <td>...</td>\n",
              "      <td>...</td>\n",
              "      <td>...</td>\n",
              "    </tr>\n",
              "    <tr>\n",
              "      <th>4996</th>\n",
              "      <td>sms</td>\n",
              "      <td>100</td>\n",
              "      <td>2012-05-07 00:01:54.0</td>\n",
              "      <td>0</td>\n",
              "      <td>92e367d671f45c5</td>\n",
              "      <td>38811081cf82c90</td>\n",
              "      <td>19e2e</td>\n",
              "      <td>OTHER</td>\n",
              "      <td>0c2371d9bc</td>\n",
              "      <td>1e751d08a4</td>\n",
              "    </tr>\n",
              "    <tr>\n",
              "      <th>4997</th>\n",
              "      <td>Voice</td>\n",
              "      <td>1</td>\n",
              "      <td>2012-05-07 00:01:54.0</td>\n",
              "      <td>1</td>\n",
              "      <td>83b44b18238e602</td>\n",
              "      <td>6ec63d4aa5de5dd</td>\n",
              "      <td>19e2e</td>\n",
              "      <td>19e2e</td>\n",
              "      <td>5fb791cf56</td>\n",
              "      <td>65efe2bc62</td>\n",
              "    </tr>\n",
              "    <tr>\n",
              "      <th>4998</th>\n",
              "      <td>Voice</td>\n",
              "      <td>0</td>\n",
              "      <td>2012-05-07 00:01:54.0</td>\n",
              "      <td>1</td>\n",
              "      <td>49fae048b547780</td>\n",
              "      <td>1a49f8b0ded9de6</td>\n",
              "      <td>19e2e</td>\n",
              "      <td>19e2e</td>\n",
              "      <td>7773627c12</td>\n",
              "      <td>9ef9616350</td>\n",
              "    </tr>\n",
              "    <tr>\n",
              "      <th>4999</th>\n",
              "      <td>Voice</td>\n",
              "      <td>0</td>\n",
              "      <td>2012-05-07 00:01:54.0</td>\n",
              "      <td>0</td>\n",
              "      <td>a1613f1a992716a</td>\n",
              "      <td>bd663f07b6c8bcd</td>\n",
              "      <td>19e2e</td>\n",
              "      <td>19e2e</td>\n",
              "      <td>3f4af49d6c</td>\n",
              "      <td>969b8d0e39</td>\n",
              "    </tr>\n",
              "    <tr>\n",
              "      <th>5000</th>\n",
              "      <td>Voice</td>\n",
              "      <td>7</td>\n",
              "      <td>2012-05-07 00:01:54.0</td>\n",
              "      <td>2</td>\n",
              "      <td>1670a5f7c22f4ed</td>\n",
              "      <td>3600efd094f2225</td>\n",
              "      <td>19e2e</td>\n",
              "      <td>19e2e</td>\n",
              "      <td>6f4d9b77a5</td>\n",
              "      <td>ebfc58af70</td>\n",
              "    </tr>\n",
              "  </tbody>\n",
              "</table>\n",
              "<p>5001 rows × 10 columns</p>\n",
              "</div>"
            ],
            "text/plain": [
              "     PRODUCT  VALUE              DATE_TIME  ... COUNTRY_B     CELL_ID     SITE_ID\n",
              "0      Voice      0  2012-05-06 23:04:37.0  ...     19e2e  /TJNe+Mmtu  /TJNe+Mmtu\n",
              "1        sms      0  2012-05-06 23:05:25.0  ...     19e2e  /+cKZKIp41  /+cKZKIp41\n",
              "2        sms     25  2012-05-06 23:05:41.0  ...     19e2e  /u0FSD+ahi  /u0FSD+ahi\n",
              "3      Voice     56  2012-05-06 23:05:42.0  ...     19e2e  +cNeJzsTp3  +cNeJzsTp3\n",
              "4      Voice     14  2012-05-06 23:06:29.0  ...     19e2e  051KhYDCpv  051KhYDCpv\n",
              "...      ...    ...                    ...  ...       ...         ...         ...\n",
              "4996     sms    100  2012-05-07 00:01:54.0  ...     OTHER  0c2371d9bc  1e751d08a4\n",
              "4997   Voice      1  2012-05-07 00:01:54.0  ...     19e2e  5fb791cf56  65efe2bc62\n",
              "4998   Voice      0  2012-05-07 00:01:54.0  ...     19e2e  7773627c12  9ef9616350\n",
              "4999   Voice      0  2012-05-07 00:01:54.0  ...     19e2e  3f4af49d6c  969b8d0e39\n",
              "5000   Voice      7  2012-05-07 00:01:54.0  ...     19e2e  6f4d9b77a5  ebfc58af70\n",
              "\n",
              "[5001 rows x 10 columns]"
            ]
          },
          "metadata": {
            "tags": []
          },
          "execution_count": 18
        }
      ]
    },
    {
      "cell_type": "code",
      "metadata": {
        "colab": {
          "base_uri": "https://localhost:8080/",
          "height": 297
        },
        "id": "VUwaLisFtrVU",
        "outputId": "51c0bd19-b797-4b26-f9ad-d8c6f804680c"
      },
      "source": [
        "# Describing telcom day 1 dataset\r\n",
        "tel1.describe()"
      ],
      "execution_count": null,
      "outputs": [
        {
          "output_type": "execute_result",
          "data": {
            "text/html": [
              "<div>\n",
              "<style scoped>\n",
              "    .dataframe tbody tr th:only-of-type {\n",
              "        vertical-align: middle;\n",
              "    }\n",
              "\n",
              "    .dataframe tbody tr th {\n",
              "        vertical-align: top;\n",
              "    }\n",
              "\n",
              "    .dataframe thead th {\n",
              "        text-align: right;\n",
              "    }\n",
              "</style>\n",
              "<table border=\"1\" class=\"dataframe\">\n",
              "  <thead>\n",
              "    <tr style=\"text-align: right;\">\n",
              "      <th></th>\n",
              "      <th>PRICE</th>\n",
              "    </tr>\n",
              "  </thead>\n",
              "  <tbody>\n",
              "    <tr>\n",
              "      <th>count</th>\n",
              "      <td>5001.000000</td>\n",
              "    </tr>\n",
              "    <tr>\n",
              "      <th>mean</th>\n",
              "      <td>25.869626</td>\n",
              "    </tr>\n",
              "    <tr>\n",
              "      <th>std</th>\n",
              "      <td>101.934502</td>\n",
              "    </tr>\n",
              "    <tr>\n",
              "      <th>min</th>\n",
              "      <td>0.000000</td>\n",
              "    </tr>\n",
              "    <tr>\n",
              "      <th>25%</th>\n",
              "      <td>0.000000</td>\n",
              "    </tr>\n",
              "    <tr>\n",
              "      <th>50%</th>\n",
              "      <td>0.000000</td>\n",
              "    </tr>\n",
              "    <tr>\n",
              "      <th>75%</th>\n",
              "      <td>25.000000</td>\n",
              "    </tr>\n",
              "    <tr>\n",
              "      <th>max</th>\n",
              "      <td>4440.000000</td>\n",
              "    </tr>\n",
              "  </tbody>\n",
              "</table>\n",
              "</div>"
            ],
            "text/plain": [
              "             PRICE\n",
              "count  5001.000000\n",
              "mean     25.869626\n",
              "std     101.934502\n",
              "min       0.000000\n",
              "25%       0.000000\n",
              "50%       0.000000\n",
              "75%      25.000000\n",
              "max    4440.000000"
            ]
          },
          "metadata": {
            "tags": []
          },
          "execution_count": 88
        }
      ]
    },
    {
      "cell_type": "code",
      "metadata": {
        "colab": {
          "base_uri": "https://localhost:8080/",
          "height": 419
        },
        "id": "Hw5KE6YMDfIT",
        "outputId": "3e8fb5a2-f269-4849-d544-6b3d4e9aa4ad"
      },
      "source": [
        "# Loading telcom day 2 dataset\r\n",
        "tel2 = pd.read_csv('Telcom_dataset2.csv') \r\n",
        "tel2.columns = ['PRODUCT', 'VALUE', 'DATE_TIME', 'CELL_ON_SITE' , 'DW_A_NUMBER_INT', 'DW_B_NUMBER_INT', 'COUNTRY_A', 'COUNTRY_B', 'CELL_ID', 'SITE_ID']\r\n",
        "tel2"
      ],
      "execution_count": null,
      "outputs": [
        {
          "output_type": "execute_result",
          "data": {
            "text/html": [
              "<div>\n",
              "<style scoped>\n",
              "    .dataframe tbody tr th:only-of-type {\n",
              "        vertical-align: middle;\n",
              "    }\n",
              "\n",
              "    .dataframe tbody tr th {\n",
              "        vertical-align: top;\n",
              "    }\n",
              "\n",
              "    .dataframe thead th {\n",
              "        text-align: right;\n",
              "    }\n",
              "</style>\n",
              "<table border=\"1\" class=\"dataframe\">\n",
              "  <thead>\n",
              "    <tr style=\"text-align: right;\">\n",
              "      <th></th>\n",
              "      <th>PRODUCT</th>\n",
              "      <th>VALUE</th>\n",
              "      <th>DATE_TIME</th>\n",
              "      <th>CELL_ON_SITE</th>\n",
              "      <th>DW_A_NUMBER_INT</th>\n",
              "      <th>DW_B_NUMBER_INT</th>\n",
              "      <th>COUNTRY_A</th>\n",
              "      <th>COUNTRY_B</th>\n",
              "      <th>CELL_ID</th>\n",
              "      <th>SITE_ID</th>\n",
              "    </tr>\n",
              "  </thead>\n",
              "  <tbody>\n",
              "    <tr>\n",
              "      <th>0</th>\n",
              "      <td>sms</td>\n",
              "      <td>0</td>\n",
              "      <td>2012-05-07 23:02:06.0</td>\n",
              "      <td>2</td>\n",
              "      <td>32255675c3b6fe3</td>\n",
              "      <td>1aa7ae01386e9fb</td>\n",
              "      <td>19e2e</td>\n",
              "      <td>19e2e</td>\n",
              "      <td>+854AcBQT2</td>\n",
              "      <td>+854AcBQT2</td>\n",
              "    </tr>\n",
              "    <tr>\n",
              "      <th>1</th>\n",
              "      <td>Voice</td>\n",
              "      <td>0</td>\n",
              "      <td>2012-05-07 23:03:44.0</td>\n",
              "      <td>1</td>\n",
              "      <td>ff16d6ac74c1c64</td>\n",
              "      <td>87d87309c15a8c9</td>\n",
              "      <td>19e2e</td>\n",
              "      <td>19e2e</td>\n",
              "      <td>+854AcBQT2</td>\n",
              "      <td>+854AcBQT2</td>\n",
              "    </tr>\n",
              "    <tr>\n",
              "      <th>2</th>\n",
              "      <td>sms</td>\n",
              "      <td>0</td>\n",
              "      <td>2012-05-07 23:04:06.0</td>\n",
              "      <td>0</td>\n",
              "      <td>98d9f2fb5ff624b</td>\n",
              "      <td>93343ba6e41af95</td>\n",
              "      <td>19e2e</td>\n",
              "      <td>19e2e</td>\n",
              "      <td>+laSrk7g6q</td>\n",
              "      <td>+laSrk7g6q</td>\n",
              "    </tr>\n",
              "    <tr>\n",
              "      <th>3</th>\n",
              "      <td>Voice</td>\n",
              "      <td>37</td>\n",
              "      <td>2012-05-07 23:04:48.0</td>\n",
              "      <td>1</td>\n",
              "      <td>3f9c8a33ec7be1f</td>\n",
              "      <td>7d05a38f89c49d8</td>\n",
              "      <td>19e2e</td>\n",
              "      <td>19e2e</td>\n",
              "      <td>/xvRrCVKoQ</td>\n",
              "      <td>/xvRrCVKoQ</td>\n",
              "    </tr>\n",
              "    <tr>\n",
              "      <th>4</th>\n",
              "      <td>sms</td>\n",
              "      <td>25</td>\n",
              "      <td>2012-05-07 23:04:58.0</td>\n",
              "      <td>1</td>\n",
              "      <td>7bcccc03adf3864</td>\n",
              "      <td>56a5d5430d2fa86</td>\n",
              "      <td>19e2e</td>\n",
              "      <td>19e2e</td>\n",
              "      <td>+bO+qkSonO</td>\n",
              "      <td>+bO+qkSonO</td>\n",
              "    </tr>\n",
              "    <tr>\n",
              "      <th>...</th>\n",
              "      <td>...</td>\n",
              "      <td>...</td>\n",
              "      <td>...</td>\n",
              "      <td>...</td>\n",
              "      <td>...</td>\n",
              "      <td>...</td>\n",
              "      <td>...</td>\n",
              "      <td>...</td>\n",
              "      <td>...</td>\n",
              "      <td>...</td>\n",
              "    </tr>\n",
              "    <tr>\n",
              "      <th>4996</th>\n",
              "      <td>sms</td>\n",
              "      <td>0</td>\n",
              "      <td>2012-05-08 00:01:53.0</td>\n",
              "      <td>8</td>\n",
              "      <td>22ffbbb8ac8cde1</td>\n",
              "      <td>8db839a0c08bd54</td>\n",
              "      <td>19e2e</td>\n",
              "      <td>19e2e</td>\n",
              "      <td>896459aace</td>\n",
              "      <td>b7d00e59e4</td>\n",
              "    </tr>\n",
              "    <tr>\n",
              "      <th>4997</th>\n",
              "      <td>sms</td>\n",
              "      <td>25</td>\n",
              "      <td>2012-05-08 00:01:53.0</td>\n",
              "      <td>0</td>\n",
              "      <td>bcf512a3542d42c</td>\n",
              "      <td>5a2848d6f983c31</td>\n",
              "      <td>19e2e</td>\n",
              "      <td>19e2e</td>\n",
              "      <td>7e90b35166</td>\n",
              "      <td>211015b14d</td>\n",
              "    </tr>\n",
              "    <tr>\n",
              "      <th>4998</th>\n",
              "      <td>sms</td>\n",
              "      <td>0</td>\n",
              "      <td>2012-05-08 00:01:53.0</td>\n",
              "      <td>0</td>\n",
              "      <td>05e3c3d41628a9f</td>\n",
              "      <td>7185a95077eae9e</td>\n",
              "      <td>19e2e</td>\n",
              "      <td>19e2e</td>\n",
              "      <td>fe70e431df</td>\n",
              "      <td>c7ea989264</td>\n",
              "    </tr>\n",
              "    <tr>\n",
              "      <th>4999</th>\n",
              "      <td>data</td>\n",
              "      <td>0</td>\n",
              "      <td>2012-05-08 00:01:53.0</td>\n",
              "      <td>_</td>\n",
              "      <td>86a4dbf018f6f24</td>\n",
              "      <td>5a4dc9e82deb309</td>\n",
              "      <td>19e2e</td>\n",
              "      <td>OTHER</td>\n",
              "      <td>ffa6759bb2</td>\n",
              "      <td>NaN</td>\n",
              "    </tr>\n",
              "    <tr>\n",
              "      <th>5000</th>\n",
              "      <td>Voice</td>\n",
              "      <td>0</td>\n",
              "      <td>2012-05-08 00:01:53.0</td>\n",
              "      <td>0</td>\n",
              "      <td>a03c9837c62a5b9</td>\n",
              "      <td>de590e98879fa37</td>\n",
              "      <td>19e2e</td>\n",
              "      <td>19e2e</td>\n",
              "      <td>8630058aca</td>\n",
              "      <td>b47a998a3e</td>\n",
              "    </tr>\n",
              "  </tbody>\n",
              "</table>\n",
              "<p>5001 rows × 10 columns</p>\n",
              "</div>"
            ],
            "text/plain": [
              "     PRODUCT  VALUE              DATE_TIME  ... COUNTRY_B     CELL_ID     SITE_ID\n",
              "0        sms      0  2012-05-07 23:02:06.0  ...     19e2e  +854AcBQT2  +854AcBQT2\n",
              "1      Voice      0  2012-05-07 23:03:44.0  ...     19e2e  +854AcBQT2  +854AcBQT2\n",
              "2        sms      0  2012-05-07 23:04:06.0  ...     19e2e  +laSrk7g6q  +laSrk7g6q\n",
              "3      Voice     37  2012-05-07 23:04:48.0  ...     19e2e  /xvRrCVKoQ  /xvRrCVKoQ\n",
              "4        sms     25  2012-05-07 23:04:58.0  ...     19e2e  +bO+qkSonO  +bO+qkSonO\n",
              "...      ...    ...                    ...  ...       ...         ...         ...\n",
              "4996     sms      0  2012-05-08 00:01:53.0  ...     19e2e  896459aace  b7d00e59e4\n",
              "4997     sms     25  2012-05-08 00:01:53.0  ...     19e2e  7e90b35166  211015b14d\n",
              "4998     sms      0  2012-05-08 00:01:53.0  ...     19e2e  fe70e431df  c7ea989264\n",
              "4999    data      0  2012-05-08 00:01:53.0  ...     OTHER  ffa6759bb2         NaN\n",
              "5000   Voice      0  2012-05-08 00:01:53.0  ...     19e2e  8630058aca  b47a998a3e\n",
              "\n",
              "[5001 rows x 10 columns]"
            ]
          },
          "metadata": {
            "tags": []
          },
          "execution_count": 15
        }
      ]
    },
    {
      "cell_type": "code",
      "metadata": {
        "colab": {
          "base_uri": "https://localhost:8080/",
          "height": 297
        },
        "id": "g3Fq3hzItvxp",
        "outputId": "19de3bf5-5809-432b-e7ea-b2810ec36cbc"
      },
      "source": [
        "# Describing telcom day 2 dataset\r\n",
        "tel2.describe()"
      ],
      "execution_count": null,
      "outputs": [
        {
          "output_type": "execute_result",
          "data": {
            "text/html": [
              "<div>\n",
              "<style scoped>\n",
              "    .dataframe tbody tr th:only-of-type {\n",
              "        vertical-align: middle;\n",
              "    }\n",
              "\n",
              "    .dataframe tbody tr th {\n",
              "        vertical-align: top;\n",
              "    }\n",
              "\n",
              "    .dataframe thead th {\n",
              "        text-align: right;\n",
              "    }\n",
              "</style>\n",
              "<table border=\"1\" class=\"dataframe\">\n",
              "  <thead>\n",
              "    <tr style=\"text-align: right;\">\n",
              "      <th></th>\n",
              "      <th>PRICE</th>\n",
              "    </tr>\n",
              "  </thead>\n",
              "  <tbody>\n",
              "    <tr>\n",
              "      <th>count</th>\n",
              "      <td>5001.000000</td>\n",
              "    </tr>\n",
              "    <tr>\n",
              "      <th>mean</th>\n",
              "      <td>24.334933</td>\n",
              "    </tr>\n",
              "    <tr>\n",
              "      <th>std</th>\n",
              "      <td>97.471586</td>\n",
              "    </tr>\n",
              "    <tr>\n",
              "      <th>min</th>\n",
              "      <td>0.000000</td>\n",
              "    </tr>\n",
              "    <tr>\n",
              "      <th>25%</th>\n",
              "      <td>0.000000</td>\n",
              "    </tr>\n",
              "    <tr>\n",
              "      <th>50%</th>\n",
              "      <td>0.000000</td>\n",
              "    </tr>\n",
              "    <tr>\n",
              "      <th>75%</th>\n",
              "      <td>25.000000</td>\n",
              "    </tr>\n",
              "    <tr>\n",
              "      <th>max</th>\n",
              "      <td>3380.000000</td>\n",
              "    </tr>\n",
              "  </tbody>\n",
              "</table>\n",
              "</div>"
            ],
            "text/plain": [
              "             PRICE\n",
              "count  5001.000000\n",
              "mean     24.334933\n",
              "std      97.471586\n",
              "min       0.000000\n",
              "25%       0.000000\n",
              "50%       0.000000\n",
              "75%      25.000000\n",
              "max    3380.000000"
            ]
          },
          "metadata": {
            "tags": []
          },
          "execution_count": 89
        }
      ]
    },
    {
      "cell_type": "code",
      "metadata": {
        "colab": {
          "base_uri": "https://localhost:8080/",
          "height": 419
        },
        "id": "m5CKIbgmDjLe",
        "outputId": "c4f82277-e73c-40ec-9321-f47da3191563"
      },
      "source": [
        "# Loading telcom day 3 dataset\r\n",
        "tel3 = pd.read_csv('Telcom_dataset3.csv') \r\n",
        "tel3.columns = ['PRODUCT', 'VALUE', 'DATE_TIME', 'CELL_ON_SITE', 'DW_A_NUMBER_INT', 'DW_B_NUMBER_INT', 'COUNTRY_A', 'COUNTRY_B', 'CELL_ID', 'SITE_ID']\r\n",
        "tel3"
      ],
      "execution_count": null,
      "outputs": [
        {
          "output_type": "execute_result",
          "data": {
            "text/html": [
              "<div>\n",
              "<style scoped>\n",
              "    .dataframe tbody tr th:only-of-type {\n",
              "        vertical-align: middle;\n",
              "    }\n",
              "\n",
              "    .dataframe tbody tr th {\n",
              "        vertical-align: top;\n",
              "    }\n",
              "\n",
              "    .dataframe thead th {\n",
              "        text-align: right;\n",
              "    }\n",
              "</style>\n",
              "<table border=\"1\" class=\"dataframe\">\n",
              "  <thead>\n",
              "    <tr style=\"text-align: right;\">\n",
              "      <th></th>\n",
              "      <th>PRODUCT</th>\n",
              "      <th>VALUE</th>\n",
              "      <th>DATE_TIME</th>\n",
              "      <th>CELL_ON_SITE</th>\n",
              "      <th>DW_A_NUMBER_INT</th>\n",
              "      <th>DW_B_NUMBER_INT</th>\n",
              "      <th>COUNTRY_A</th>\n",
              "      <th>COUNTRY_B</th>\n",
              "      <th>CELL_ID</th>\n",
              "      <th>SITE_ID</th>\n",
              "    </tr>\n",
              "  </thead>\n",
              "  <tbody>\n",
              "    <tr>\n",
              "      <th>0</th>\n",
              "      <td>Voice</td>\n",
              "      <td>61</td>\n",
              "      <td>2012-05-08 23:01:28.0</td>\n",
              "      <td>2</td>\n",
              "      <td>966f68353622feb</td>\n",
              "      <td>ffd53a3bb2db6f1</td>\n",
              "      <td>19e2e</td>\n",
              "      <td>19e2e</td>\n",
              "      <td>+38u2u/rfx</td>\n",
              "      <td>+38u2u/rfx</td>\n",
              "    </tr>\n",
              "    <tr>\n",
              "      <th>1</th>\n",
              "      <td>sms</td>\n",
              "      <td>0</td>\n",
              "      <td>2012-05-08 23:01:31.0</td>\n",
              "      <td>1</td>\n",
              "      <td>a0a597384c612d7</td>\n",
              "      <td>cf3b218f1dde792</td>\n",
              "      <td>19e2e</td>\n",
              "      <td>19e2e</td>\n",
              "      <td>+Fs4mTvdKx</td>\n",
              "      <td>+Fs4mTvdKx</td>\n",
              "    </tr>\n",
              "    <tr>\n",
              "      <th>2</th>\n",
              "      <td>Voice</td>\n",
              "      <td>10</td>\n",
              "      <td>2012-05-08 23:02:59.0</td>\n",
              "      <td>1</td>\n",
              "      <td>5441a9a58c97132</td>\n",
              "      <td>52f8b299515b9b7</td>\n",
              "      <td>19e2e</td>\n",
              "      <td>19e2e</td>\n",
              "      <td>+ZaaZozy/+</td>\n",
              "      <td>+ZaaZozy/+</td>\n",
              "    </tr>\n",
              "    <tr>\n",
              "      <th>3</th>\n",
              "      <td>sms</td>\n",
              "      <td>0</td>\n",
              "      <td>2012-05-08 23:03:04.0</td>\n",
              "      <td>0</td>\n",
              "      <td>8ab8b9ed6989f61</td>\n",
              "      <td>e09e736e46c5c3d</td>\n",
              "      <td>19e2e</td>\n",
              "      <td>19e2e</td>\n",
              "      <td>+cNeJzsTp3</td>\n",
              "      <td>+cNeJzsTp3</td>\n",
              "    </tr>\n",
              "    <tr>\n",
              "      <th>4</th>\n",
              "      <td>Voice</td>\n",
              "      <td>22</td>\n",
              "      <td>2012-05-08 23:03:16.0</td>\n",
              "      <td>4</td>\n",
              "      <td>52662a62b199334</td>\n",
              "      <td>2186273faab4602</td>\n",
              "      <td>19e2e</td>\n",
              "      <td>19e2e</td>\n",
              "      <td>/eeMklgyJA</td>\n",
              "      <td>/eeMklgyJA</td>\n",
              "    </tr>\n",
              "    <tr>\n",
              "      <th>...</th>\n",
              "      <td>...</td>\n",
              "      <td>...</td>\n",
              "      <td>...</td>\n",
              "      <td>...</td>\n",
              "      <td>...</td>\n",
              "      <td>...</td>\n",
              "      <td>...</td>\n",
              "      <td>...</td>\n",
              "      <td>...</td>\n",
              "      <td>...</td>\n",
              "    </tr>\n",
              "    <tr>\n",
              "      <th>4996</th>\n",
              "      <td>Voice</td>\n",
              "      <td>0</td>\n",
              "      <td>2012-05-09 00:01:43.0</td>\n",
              "      <td>3</td>\n",
              "      <td>467333ade2b4b9c</td>\n",
              "      <td>0ab2acd804d01fe</td>\n",
              "      <td>19e2e</td>\n",
              "      <td>19e2e</td>\n",
              "      <td>2aa04dcab7</td>\n",
              "      <td>f7d63a29e5</td>\n",
              "    </tr>\n",
              "    <tr>\n",
              "      <th>4997</th>\n",
              "      <td>Voice</td>\n",
              "      <td>62</td>\n",
              "      <td>2012-05-09 00:01:43.0</td>\n",
              "      <td>1</td>\n",
              "      <td>e077a6b74c5053c</td>\n",
              "      <td>4c8098eb6ea1a41</td>\n",
              "      <td>19e2e</td>\n",
              "      <td>19e2e</td>\n",
              "      <td>7f1f2f889f</td>\n",
              "      <td>b4ddb9e93c</td>\n",
              "    </tr>\n",
              "    <tr>\n",
              "      <th>4998</th>\n",
              "      <td>Voice</td>\n",
              "      <td>32</td>\n",
              "      <td>2012-05-09 00:01:43.0</td>\n",
              "      <td>1</td>\n",
              "      <td>77f53c39d27c050</td>\n",
              "      <td>9d064f013e2cab2</td>\n",
              "      <td>19e2e</td>\n",
              "      <td>19e2e</td>\n",
              "      <td>a4731e780e</td>\n",
              "      <td>d68260ef50</td>\n",
              "    </tr>\n",
              "    <tr>\n",
              "      <th>4999</th>\n",
              "      <td>Voice</td>\n",
              "      <td>30</td>\n",
              "      <td>2012-05-09 00:01:43.0</td>\n",
              "      <td>2</td>\n",
              "      <td>672ce74c418aa7a</td>\n",
              "      <td>f9ff5af59cf0d68</td>\n",
              "      <td>19e2e</td>\n",
              "      <td>19e2e</td>\n",
              "      <td>98ed726da2</td>\n",
              "      <td>b4130b54ab</td>\n",
              "    </tr>\n",
              "    <tr>\n",
              "      <th>5000</th>\n",
              "      <td>Voice</td>\n",
              "      <td>60</td>\n",
              "      <td>2012-05-09 00:01:43.0</td>\n",
              "      <td>2</td>\n",
              "      <td>6edeb4c55714650</td>\n",
              "      <td>7e60838216482a7</td>\n",
              "      <td>19e2e</td>\n",
              "      <td>19e2e</td>\n",
              "      <td>1c11a2fcbb</td>\n",
              "      <td>6d70dae094</td>\n",
              "    </tr>\n",
              "  </tbody>\n",
              "</table>\n",
              "<p>5001 rows × 10 columns</p>\n",
              "</div>"
            ],
            "text/plain": [
              "     PRODUCT  VALUE              DATE_TIME  ... COUNTRY_B     CELL_ID     SITE_ID\n",
              "0      Voice     61  2012-05-08 23:01:28.0  ...     19e2e  +38u2u/rfx  +38u2u/rfx\n",
              "1        sms      0  2012-05-08 23:01:31.0  ...     19e2e  +Fs4mTvdKx  +Fs4mTvdKx\n",
              "2      Voice     10  2012-05-08 23:02:59.0  ...     19e2e  +ZaaZozy/+  +ZaaZozy/+\n",
              "3        sms      0  2012-05-08 23:03:04.0  ...     19e2e  +cNeJzsTp3  +cNeJzsTp3\n",
              "4      Voice     22  2012-05-08 23:03:16.0  ...     19e2e  /eeMklgyJA  /eeMklgyJA\n",
              "...      ...    ...                    ...  ...       ...         ...         ...\n",
              "4996   Voice      0  2012-05-09 00:01:43.0  ...     19e2e  2aa04dcab7  f7d63a29e5\n",
              "4997   Voice     62  2012-05-09 00:01:43.0  ...     19e2e  7f1f2f889f  b4ddb9e93c\n",
              "4998   Voice     32  2012-05-09 00:01:43.0  ...     19e2e  a4731e780e  d68260ef50\n",
              "4999   Voice     30  2012-05-09 00:01:43.0  ...     19e2e  98ed726da2  b4130b54ab\n",
              "5000   Voice     60  2012-05-09 00:01:43.0  ...     19e2e  1c11a2fcbb  6d70dae094\n",
              "\n",
              "[5001 rows x 10 columns]"
            ]
          },
          "metadata": {
            "tags": []
          },
          "execution_count": 16
        }
      ]
    },
    {
      "cell_type": "code",
      "metadata": {
        "colab": {
          "base_uri": "https://localhost:8080/",
          "height": 297
        },
        "id": "QV3Bi5Vst2Qw",
        "outputId": "0d1e34d9-7962-48d7-d9a1-11c8a3ed2d5a"
      },
      "source": [
        "# Describing telcom day 3 dataset\r\n",
        "tel3.describe()"
      ],
      "execution_count": null,
      "outputs": [
        {
          "output_type": "execute_result",
          "data": {
            "text/html": [
              "<div>\n",
              "<style scoped>\n",
              "    .dataframe tbody tr th:only-of-type {\n",
              "        vertical-align: middle;\n",
              "    }\n",
              "\n",
              "    .dataframe tbody tr th {\n",
              "        vertical-align: top;\n",
              "    }\n",
              "\n",
              "    .dataframe thead th {\n",
              "        text-align: right;\n",
              "    }\n",
              "</style>\n",
              "<table border=\"1\" class=\"dataframe\">\n",
              "  <thead>\n",
              "    <tr style=\"text-align: right;\">\n",
              "      <th></th>\n",
              "      <th>PRICE</th>\n",
              "    </tr>\n",
              "  </thead>\n",
              "  <tbody>\n",
              "    <tr>\n",
              "      <th>count</th>\n",
              "      <td>5001.000000</td>\n",
              "    </tr>\n",
              "    <tr>\n",
              "      <th>mean</th>\n",
              "      <td>26.441512</td>\n",
              "    </tr>\n",
              "    <tr>\n",
              "      <th>std</th>\n",
              "      <td>224.200217</td>\n",
              "    </tr>\n",
              "    <tr>\n",
              "      <th>min</th>\n",
              "      <td>0.000000</td>\n",
              "    </tr>\n",
              "    <tr>\n",
              "      <th>25%</th>\n",
              "      <td>0.000000</td>\n",
              "    </tr>\n",
              "    <tr>\n",
              "      <th>50%</th>\n",
              "      <td>0.000000</td>\n",
              "    </tr>\n",
              "    <tr>\n",
              "      <th>75%</th>\n",
              "      <td>25.000000</td>\n",
              "    </tr>\n",
              "    <tr>\n",
              "      <th>max</th>\n",
              "      <td>12900.000000</td>\n",
              "    </tr>\n",
              "  </tbody>\n",
              "</table>\n",
              "</div>"
            ],
            "text/plain": [
              "              PRICE\n",
              "count   5001.000000\n",
              "mean      26.441512\n",
              "std      224.200217\n",
              "min        0.000000\n",
              "25%        0.000000\n",
              "50%        0.000000\n",
              "75%       25.000000\n",
              "max    12900.000000"
            ]
          },
          "metadata": {
            "tags": []
          },
          "execution_count": 90
        }
      ]
    },
    {
      "cell_type": "code",
      "metadata": {
        "colab": {
          "base_uri": "https://localhost:8080/",
          "height": 419
        },
        "id": "mMKCjutnDreU",
        "outputId": "b5aa45b4-df04-4048-82c2-d93c1c4cce99"
      },
      "source": [
        "# Loading the cells_geo.csv dataset\r\n",
        "# Renaming columns\r\n",
        "cells_geo= pd.read_csv('cells_geo.csv', delimiter = \";\") \r\n",
        "cells_geo.rename(columns = {'Unnamed: 0':'INDEX' ,'VILLES':'CITY','LOCALISATION':'IN/OUT_OF_ABIDJAN','DECOUPZONE':'GEOZONE'}, inplace=True)\r\n",
        "cells_geo"
      ],
      "execution_count": null,
      "outputs": [
        {
          "output_type": "execute_result",
          "data": {
            "text/html": [
              "<div>\n",
              "<style scoped>\n",
              "    .dataframe tbody tr th:only-of-type {\n",
              "        vertical-align: middle;\n",
              "    }\n",
              "\n",
              "    .dataframe tbody tr th {\n",
              "        vertical-align: top;\n",
              "    }\n",
              "\n",
              "    .dataframe thead th {\n",
              "        text-align: right;\n",
              "    }\n",
              "</style>\n",
              "<table border=\"1\" class=\"dataframe\">\n",
              "  <thead>\n",
              "    <tr style=\"text-align: right;\">\n",
              "      <th></th>\n",
              "      <th>INDEX</th>\n",
              "      <th>CITY</th>\n",
              "      <th>STATUS</th>\n",
              "      <th>IN/OUT_OF_ABIDJAN</th>\n",
              "      <th>GEOZONE</th>\n",
              "      <th>ZONENAME</th>\n",
              "      <th>LONGITUDE</th>\n",
              "      <th>LATITUDE</th>\n",
              "      <th>REGION</th>\n",
              "      <th>AREA</th>\n",
              "      <th>CELL_ID</th>\n",
              "      <th>SITE_CODE</th>\n",
              "    </tr>\n",
              "  </thead>\n",
              "  <tbody>\n",
              "    <tr>\n",
              "      <th>0</th>\n",
              "      <td>0</td>\n",
              "      <td>ADJAME</td>\n",
              "      <td>In Service</td>\n",
              "      <td>ABIDJAN</td>\n",
              "      <td>\"Abidjan_EST</td>\n",
              "      <td>AGBANNEW</td>\n",
              "      <td>-4.000667</td>\n",
              "      <td>5.368194</td>\n",
              "      <td>LAGUNE</td>\n",
              "      <td>NaN</td>\n",
              "      <td>fbb2e75af3</td>\n",
              "      <td>0bb492ef17</td>\n",
              "    </tr>\n",
              "    <tr>\n",
              "      <th>1</th>\n",
              "      <td>1</td>\n",
              "      <td>ADJAME</td>\n",
              "      <td>In Service</td>\n",
              "      <td>ABIDJAN</td>\n",
              "      <td>\"Abidjan_EST</td>\n",
              "      <td>AGBANNEW</td>\n",
              "      <td>-4.000667</td>\n",
              "      <td>5.368194</td>\n",
              "      <td>LAGUNE</td>\n",
              "      <td>NaN</td>\n",
              "      <td>1502501d78</td>\n",
              "      <td>0bb492ef17</td>\n",
              "    </tr>\n",
              "    <tr>\n",
              "      <th>2</th>\n",
              "      <td>2</td>\n",
              "      <td>ADJAME</td>\n",
              "      <td>In Service</td>\n",
              "      <td>ABIDJAN</td>\n",
              "      <td>\"Abidjan_EST</td>\n",
              "      <td>AGBANNEW</td>\n",
              "      <td>-4.000667</td>\n",
              "      <td>5.368194</td>\n",
              "      <td>LAGUNE</td>\n",
              "      <td>NaN</td>\n",
              "      <td>0c2e182a0c</td>\n",
              "      <td>0bb492ef17</td>\n",
              "    </tr>\n",
              "    <tr>\n",
              "      <th>3</th>\n",
              "      <td>3</td>\n",
              "      <td>ASSINIE</td>\n",
              "      <td>In Service</td>\n",
              "      <td>INTERIEUR</td>\n",
              "      <td>Grand-EST</td>\n",
              "      <td>ASSINIE\"</td>\n",
              "      <td>-3.488467</td>\n",
              "      <td>5.158761</td>\n",
              "      <td>SUD COMOE</td>\n",
              "      <td>NaN</td>\n",
              "      <td>69bdfc69fd</td>\n",
              "      <td>8a1e6ce31f</td>\n",
              "    </tr>\n",
              "    <tr>\n",
              "      <th>4</th>\n",
              "      <td>4</td>\n",
              "      <td>ASSINIE</td>\n",
              "      <td>In Service</td>\n",
              "      <td>INTERIEUR</td>\n",
              "      <td>Grand-EST</td>\n",
              "      <td>ASSINIE\"</td>\n",
              "      <td>-3.488467</td>\n",
              "      <td>5.158761</td>\n",
              "      <td>SUD COMOE</td>\n",
              "      <td>NaN</td>\n",
              "      <td>7a1029d2ab</td>\n",
              "      <td>8a1e6ce31f</td>\n",
              "    </tr>\n",
              "    <tr>\n",
              "      <th>...</th>\n",
              "      <td>...</td>\n",
              "      <td>...</td>\n",
              "      <td>...</td>\n",
              "      <td>...</td>\n",
              "      <td>...</td>\n",
              "      <td>...</td>\n",
              "      <td>...</td>\n",
              "      <td>...</td>\n",
              "      <td>...</td>\n",
              "      <td>...</td>\n",
              "      <td>...</td>\n",
              "      <td>...</td>\n",
              "    </tr>\n",
              "    <tr>\n",
              "      <th>3969</th>\n",
              "      <td>3969</td>\n",
              "      <td>ZUENOULA</td>\n",
              "      <td>In Service</td>\n",
              "      <td>INTERIEUR</td>\n",
              "      <td>Grand-NORD</td>\n",
              "      <td>ZONE A - Grand-NORD</td>\n",
              "      <td>-6.039694</td>\n",
              "      <td>7.428611</td>\n",
              "      <td>MARAHOUE</td>\n",
              "      <td>CENTRE NORTH</td>\n",
              "      <td>1cfc2d7ab1</td>\n",
              "      <td>f91ed8d2e9</td>\n",
              "    </tr>\n",
              "    <tr>\n",
              "      <th>3970</th>\n",
              "      <td>3970</td>\n",
              "      <td>ZUENOULA</td>\n",
              "      <td>In Service</td>\n",
              "      <td>INTERIEUR</td>\n",
              "      <td>Grand-NORD</td>\n",
              "      <td>ZONE A - Grand-NORD</td>\n",
              "      <td>-6.039694</td>\n",
              "      <td>7.428611</td>\n",
              "      <td>MARAHOUE</td>\n",
              "      <td>CENTRE NORTH</td>\n",
              "      <td>3ae1708153</td>\n",
              "      <td>f91ed8d2e9</td>\n",
              "    </tr>\n",
              "    <tr>\n",
              "      <th>3971</th>\n",
              "      <td>3971</td>\n",
              "      <td>ZUENOULA</td>\n",
              "      <td>In Service</td>\n",
              "      <td>INTERIEUR</td>\n",
              "      <td>Grand-NORD</td>\n",
              "      <td>ZONE A - Grand-NORD</td>\n",
              "      <td>-6.065450</td>\n",
              "      <td>7.444592</td>\n",
              "      <td>MARAHOUE</td>\n",
              "      <td>CENTRE NORTH</td>\n",
              "      <td>cb71f8a29c</td>\n",
              "      <td>61bee9c70c</td>\n",
              "    </tr>\n",
              "    <tr>\n",
              "      <th>3972</th>\n",
              "      <td>3972</td>\n",
              "      <td>ZUENOULA</td>\n",
              "      <td>In Service</td>\n",
              "      <td>INTERIEUR</td>\n",
              "      <td>Grand-NORD</td>\n",
              "      <td>ZONE A - Grand-NORD</td>\n",
              "      <td>-6.065450</td>\n",
              "      <td>7.444592</td>\n",
              "      <td>MARAHOUE</td>\n",
              "      <td>CENTRE NORTH</td>\n",
              "      <td>d4a6a0b645</td>\n",
              "      <td>61bee9c70c</td>\n",
              "    </tr>\n",
              "    <tr>\n",
              "      <th>3973</th>\n",
              "      <td>3973</td>\n",
              "      <td>ZUENOULA</td>\n",
              "      <td>In Service</td>\n",
              "      <td>INTERIEUR</td>\n",
              "      <td>Grand-NORD</td>\n",
              "      <td>ZONE A - Grand-NORD</td>\n",
              "      <td>-6.065450</td>\n",
              "      <td>7.444592</td>\n",
              "      <td>MARAHOUE</td>\n",
              "      <td>CENTRE NORTH</td>\n",
              "      <td>f9f3e42589</td>\n",
              "      <td>61bee9c70c</td>\n",
              "    </tr>\n",
              "  </tbody>\n",
              "</table>\n",
              "<p>3974 rows × 12 columns</p>\n",
              "</div>"
            ],
            "text/plain": [
              "      INDEX      CITY      STATUS  ...          AREA     CELL_ID   SITE_CODE\n",
              "0         0    ADJAME  In Service  ...           NaN  fbb2e75af3  0bb492ef17\n",
              "1         1    ADJAME  In Service  ...           NaN  1502501d78  0bb492ef17\n",
              "2         2    ADJAME  In Service  ...           NaN  0c2e182a0c  0bb492ef17\n",
              "3         3   ASSINIE  In Service  ...           NaN  69bdfc69fd  8a1e6ce31f\n",
              "4         4   ASSINIE  In Service  ...           NaN  7a1029d2ab  8a1e6ce31f\n",
              "...     ...       ...         ...  ...           ...         ...         ...\n",
              "3969   3969  ZUENOULA  In Service  ...  CENTRE NORTH  1cfc2d7ab1  f91ed8d2e9\n",
              "3970   3970  ZUENOULA  In Service  ...  CENTRE NORTH  3ae1708153  f91ed8d2e9\n",
              "3971   3971  ZUENOULA  In Service  ...  CENTRE NORTH  cb71f8a29c  61bee9c70c\n",
              "3972   3972  ZUENOULA  In Service  ...  CENTRE NORTH  d4a6a0b645  61bee9c70c\n",
              "3973   3973  ZUENOULA  In Service  ...  CENTRE NORTH  f9f3e42589  61bee9c70c\n",
              "\n",
              "[3974 rows x 12 columns]"
            ]
          },
          "metadata": {
            "tags": []
          },
          "execution_count": 45
        }
      ]
    },
    {
      "cell_type": "code",
      "metadata": {
        "colab": {
          "base_uri": "https://localhost:8080/",
          "height": 359
        },
        "id": "CrwdQKqUEQ2O",
        "outputId": "e85784a0-06b3-49f5-d7b9-9d2e3bbcf738"
      },
      "source": [
        "# Loading CDR_description file\r\n",
        "CDR_description = pd.read_excel('CDR_description.xlsx')\r\n",
        "CDR_description"
      ],
      "execution_count": null,
      "outputs": [
        {
          "output_type": "execute_result",
          "data": {
            "text/html": [
              "<div>\n",
              "<style scoped>\n",
              "    .dataframe tbody tr th:only-of-type {\n",
              "        vertical-align: middle;\n",
              "    }\n",
              "\n",
              "    .dataframe tbody tr th {\n",
              "        vertical-align: top;\n",
              "    }\n",
              "\n",
              "    .dataframe thead th {\n",
              "        text-align: right;\n",
              "    }\n",
              "</style>\n",
              "<table border=\"1\" class=\"dataframe\">\n",
              "  <thead>\n",
              "    <tr style=\"text-align: right;\">\n",
              "      <th></th>\n",
              "      <th>Column name</th>\n",
              "      <th>Description</th>\n",
              "      <th>Format</th>\n",
              "    </tr>\n",
              "  </thead>\n",
              "  <tbody>\n",
              "    <tr>\n",
              "      <th>0</th>\n",
              "      <td>PRODUCT</td>\n",
              "      <td>Voice or SMS</td>\n",
              "      <td>String</td>\n",
              "    </tr>\n",
              "    <tr>\n",
              "      <th>1</th>\n",
              "      <td>VALUE</td>\n",
              "      <td>Billing price</td>\n",
              "      <td>Integer</td>\n",
              "    </tr>\n",
              "    <tr>\n",
              "      <th>2</th>\n",
              "      <td>DATE_TIME</td>\n",
              "      <td>Time in format yyyy-MM-dd hh:mm:ss.0</td>\n",
              "      <td>String</td>\n",
              "    </tr>\n",
              "    <tr>\n",
              "      <th>3</th>\n",
              "      <td>CELL_ON_SITE</td>\n",
              "      <td>Which cell in the site was used (not needed here)</td>\n",
              "      <td>Integer</td>\n",
              "    </tr>\n",
              "    <tr>\n",
              "      <th>4</th>\n",
              "      <td>DW_A_NUMBER_INT</td>\n",
              "      <td>Anonymized phone number of the person for whic...</td>\n",
              "      <td>String</td>\n",
              "    </tr>\n",
              "    <tr>\n",
              "      <th>5</th>\n",
              "      <td>DW_B_NUMBER_INT</td>\n",
              "      <td>Anonymized phone number of the counterparty</td>\n",
              "      <td>String</td>\n",
              "    </tr>\n",
              "    <tr>\n",
              "      <th>6</th>\n",
              "      <td>COUNTRY_A</td>\n",
              "      <td>Country of party A (useless here)</td>\n",
              "      <td>String</td>\n",
              "    </tr>\n",
              "    <tr>\n",
              "      <th>7</th>\n",
              "      <td>COUNTRY_B</td>\n",
              "      <td>Country of party B (useless here)</td>\n",
              "      <td>String</td>\n",
              "    </tr>\n",
              "    <tr>\n",
              "      <th>8</th>\n",
              "      <td>CELL_ID</td>\n",
              "      <td>ID of the cell</td>\n",
              "      <td>String</td>\n",
              "    </tr>\n",
              "    <tr>\n",
              "      <th>9</th>\n",
              "      <td>SITE_ID</td>\n",
              "      <td>ID of the SITE</td>\n",
              "      <td>String</td>\n",
              "    </tr>\n",
              "  </tbody>\n",
              "</table>\n",
              "</div>"
            ],
            "text/plain": [
              "       Column name                                        Description   Format\n",
              "0          PRODUCT                                       Voice or SMS   String\n",
              "1            VALUE                                      Billing price  Integer\n",
              "2        DATE_TIME               Time in format yyyy-MM-dd hh:mm:ss.0   String\n",
              "3     CELL_ON_SITE  Which cell in the site was used (not needed here)  Integer\n",
              "4  DW_A_NUMBER_INT  Anonymized phone number of the person for whic...   String\n",
              "5  DW_B_NUMBER_INT        Anonymized phone number of the counterparty   String\n",
              "6        COUNTRY_A                  Country of party A (useless here)   String\n",
              "7        COUNTRY_B                  Country of party B (useless here)   String\n",
              "8          CELL_ID                                     ID of the cell   String\n",
              "9          SITE_ID                                     ID of the SITE   String"
            ]
          },
          "metadata": {
            "tags": []
          },
          "execution_count": 94
        }
      ]
    },
    {
      "cell_type": "code",
      "metadata": {
        "colab": {
          "base_uri": "https://localhost:8080/",
          "height": 359
        },
        "id": "zHkr01sgFlkI",
        "outputId": "7fe1fc20-b193-43d6-83b2-17a96a543668"
      },
      "source": [
        "# Loading cells_geo_description dataset\r\n",
        "cells_geo_description = pd.read_excel('cells_geo_description.xlsx')\r\n",
        "cells_geo_description.head(10)\r\n"
      ],
      "execution_count": null,
      "outputs": [
        {
          "output_type": "execute_result",
          "data": {
            "text/html": [
              "<div>\n",
              "<style scoped>\n",
              "    .dataframe tbody tr th:only-of-type {\n",
              "        vertical-align: middle;\n",
              "    }\n",
              "\n",
              "    .dataframe tbody tr th {\n",
              "        vertical-align: top;\n",
              "    }\n",
              "\n",
              "    .dataframe thead th {\n",
              "        text-align: right;\n",
              "    }\n",
              "</style>\n",
              "<table border=\"1\" class=\"dataframe\">\n",
              "  <thead>\n",
              "    <tr style=\"text-align: right;\">\n",
              "      <th></th>\n",
              "      <th>Column name</th>\n",
              "      <th>Description</th>\n",
              "      <th>Format</th>\n",
              "    </tr>\n",
              "  </thead>\n",
              "  <tbody>\n",
              "    <tr>\n",
              "      <th>0</th>\n",
              "      <td>VILLES</td>\n",
              "      <td>City</td>\n",
              "      <td>String</td>\n",
              "    </tr>\n",
              "    <tr>\n",
              "      <th>1</th>\n",
              "      <td>STATUS</td>\n",
              "      <td>In Service or not</td>\n",
              "      <td>String</td>\n",
              "    </tr>\n",
              "    <tr>\n",
              "      <th>2</th>\n",
              "      <td>LOCALISATION</td>\n",
              "      <td>in ABIDJAN or not</td>\n",
              "      <td>String</td>\n",
              "    </tr>\n",
              "    <tr>\n",
              "      <th>3</th>\n",
              "      <td>DECOUPZONE</td>\n",
              "      <td>Geographical Zone</td>\n",
              "      <td>String</td>\n",
              "    </tr>\n",
              "    <tr>\n",
              "      <th>4</th>\n",
              "      <td>ZONENAME</td>\n",
              "      <td>Name of Zone</td>\n",
              "      <td>String</td>\n",
              "    </tr>\n",
              "    <tr>\n",
              "      <th>5</th>\n",
              "      <td>LONGITUDE</td>\n",
              "      <td>Longitude</td>\n",
              "      <td>Float</td>\n",
              "    </tr>\n",
              "    <tr>\n",
              "      <th>6</th>\n",
              "      <td>LATITUDE</td>\n",
              "      <td>Latitude</td>\n",
              "      <td>Float</td>\n",
              "    </tr>\n",
              "    <tr>\n",
              "      <th>7</th>\n",
              "      <td>REGION</td>\n",
              "      <td>Region</td>\n",
              "      <td>String</td>\n",
              "    </tr>\n",
              "    <tr>\n",
              "      <th>8</th>\n",
              "      <td>AREA</td>\n",
              "      <td>Area</td>\n",
              "      <td>String</td>\n",
              "    </tr>\n",
              "    <tr>\n",
              "      <th>9</th>\n",
              "      <td>CELL_ID</td>\n",
              "      <td>ID of the cell</td>\n",
              "      <td>String</td>\n",
              "    </tr>\n",
              "  </tbody>\n",
              "</table>\n",
              "</div>"
            ],
            "text/plain": [
              "    Column name        Description  Format\n",
              "0        VILLES               City  String\n",
              "1        STATUS  In Service or not  String\n",
              "2  LOCALISATION  in ABIDJAN or not  String\n",
              "3    DECOUPZONE  Geographical Zone  String\n",
              "4      ZONENAME       Name of Zone  String\n",
              "5     LONGITUDE          Longitude   Float\n",
              "6      LATITUDE           Latitude   Float\n",
              "7        REGION             Region  String\n",
              "8          AREA               Area  String\n",
              "9       CELL_ID     ID of the cell  String"
            ]
          },
          "metadata": {
            "tags": []
          },
          "execution_count": 95
        }
      ]
    },
    {
      "cell_type": "markdown",
      "metadata": {
        "id": "JwHsc-A3Ioj7"
      },
      "source": [
        "DATA UNDERSTANDING"
      ]
    },
    {
      "cell_type": "code",
      "metadata": {
        "colab": {
          "base_uri": "https://localhost:8080/"
        },
        "id": "aq3rew3jILr0",
        "outputId": "f6c01d3c-c8f9-4964-f293-ee410ee34df5"
      },
      "source": [
        "# Getting general information about the data\r\n",
        "# One Telcom dataset is needed because Telecom dataset 1, 2 and 3 have the same data structure\r\n",
        "tel1.info()"
      ],
      "execution_count": null,
      "outputs": [
        {
          "output_type": "stream",
          "text": [
            "<class 'pandas.core.frame.DataFrame'>\n",
            "RangeIndex: 5001 entries, 0 to 5000\n",
            "Data columns (total 10 columns):\n",
            " #   Column               Non-Null Count  Dtype \n",
            "---  ------               --------------  ----- \n",
            " 0   PRODUCT              5001 non-null   object\n",
            " 1   PRICE                5001 non-null   int64 \n",
            " 2   DATETIME             5001 non-null   object\n",
            " 3   CELL_ON_SITE         5001 non-null   object\n",
            " 4   CALLER               5001 non-null   object\n",
            " 5   RECEIVER             5001 non-null   object\n",
            " 6   COUNTRY_OF_CALLER    5001 non-null   object\n",
            " 7   COUNTRY_OF_RECEIVER  5001 non-null   object\n",
            " 8   CELL_ID              5001 non-null   object\n",
            " 9   SITE_ID              4285 non-null   object\n",
            "dtypes: int64(1), object(9)\n",
            "memory usage: 390.8+ KB\n"
          ],
          "name": "stdout"
        }
      ]
    },
    {
      "cell_type": "code",
      "metadata": {
        "colab": {
          "base_uri": "https://localhost:8080/"
        },
        "id": "P5c4Amj7IH4L",
        "outputId": "b5c7c584-2d5e-4cce-f017-e4723d470df3"
      },
      "source": [
        "# Viewing the dimensions of dataset 1\r\n",
        "# To determine the number of columns and rows in our dataset\r\n",
        "tel1.shape"
      ],
      "execution_count": null,
      "outputs": [
        {
          "output_type": "execute_result",
          "data": {
            "text/plain": [
              "(5001, 10)"
            ]
          },
          "metadata": {
            "tags": []
          },
          "execution_count": 10
        }
      ]
    },
    {
      "cell_type": "code",
      "metadata": {
        "colab": {
          "base_uri": "https://localhost:8080/"
        },
        "id": "CFTxGnkUIi85",
        "outputId": "d193b542-d40d-48eb-952f-bdf2ccd0abfa"
      },
      "source": [
        "# Viewing the dimensions of dataset 2\r\n",
        "# To determine the number of columns and rows in our dataset\r\n",
        "tel2.shape"
      ],
      "execution_count": null,
      "outputs": [
        {
          "output_type": "execute_result",
          "data": {
            "text/plain": [
              "(5001, 10)"
            ]
          },
          "metadata": {
            "tags": []
          },
          "execution_count": 13
        }
      ]
    },
    {
      "cell_type": "code",
      "metadata": {
        "colab": {
          "base_uri": "https://localhost:8080/"
        },
        "id": "l-8Rd0AkIq3i",
        "outputId": "25e252f2-06dd-4130-f6d5-f1356569120a"
      },
      "source": [
        "# Viewing the dimensions of dataset 3\r\n",
        "# To determine the number of columns and rows in our dataset\r\n",
        "tel3.shape"
      ],
      "execution_count": null,
      "outputs": [
        {
          "output_type": "execute_result",
          "data": {
            "text/plain": [
              "(5001, 10)"
            ]
          },
          "metadata": {
            "tags": []
          },
          "execution_count": 15
        }
      ]
    },
    {
      "cell_type": "code",
      "metadata": {
        "colab": {
          "base_uri": "https://localhost:8080/"
        },
        "id": "Rl8ykepwJCUy",
        "outputId": "90025a31-acf3-4ac7-ca85-47313449db66"
      },
      "source": [
        "# Getting general information about the cells_geo data set\r\n",
        "geo.info()"
      ],
      "execution_count": null,
      "outputs": [
        {
          "output_type": "stream",
          "text": [
            "<class 'pandas.core.frame.DataFrame'>\n",
            "RangeIndex: 3974 entries, 0 to 3973\n",
            "Data columns (total 12 columns):\n",
            " #   Column             Non-Null Count  Dtype  \n",
            "---  ------             --------------  -----  \n",
            " 0   INDEX              3974 non-null   int64  \n",
            " 1   CITY               3974 non-null   object \n",
            " 2   STATUS             3907 non-null   object \n",
            " 3   IN/OUT_OF_ABIDJAN  3974 non-null   object \n",
            " 4   GEOZONE            3974 non-null   object \n",
            " 5   ZONENAME           3968 non-null   object \n",
            " 6   LONGITUDE          3974 non-null   float64\n",
            " 7   LATITUDE           3974 non-null   float64\n",
            " 8   REGION             3974 non-null   object \n",
            " 9   AREA               3951 non-null   object \n",
            " 10  CELL_ID            3974 non-null   object \n",
            " 11  SITE_CODE          3974 non-null   object \n",
            "dtypes: float64(2), int64(1), object(9)\n",
            "memory usage: 372.7+ KB\n"
          ],
          "name": "stdout"
        }
      ]
    },
    {
      "cell_type": "code",
      "metadata": {
        "colab": {
          "base_uri": "https://localhost:8080/"
        },
        "id": "Kj0MJe8iJHL8",
        "outputId": "8599ef6a-c3a1-4523-8918-616eabda2d95"
      },
      "source": [
        "# Viewing the dimensions of cellsgeo dataset\r\n",
        "# To determine the number of columns and rows in our dataset\r\n",
        "geo.shape"
      ],
      "execution_count": null,
      "outputs": [
        {
          "output_type": "execute_result",
          "data": {
            "text/plain": [
              "(3974, 12)"
            ]
          },
          "metadata": {
            "tags": []
          },
          "execution_count": 17
        }
      ]
    },
    {
      "cell_type": "markdown",
      "metadata": {
        "id": "kVksrSyGJ6Ry"
      },
      "source": [
        "MERGING THE THREE TELCOM DATASETS"
      ]
    },
    {
      "cell_type": "code",
      "metadata": {
        "colab": {
          "base_uri": "https://localhost:8080/",
          "height": 419
        },
        "id": "v2ThNU_upKoN",
        "outputId": "43bb67c0-e702-44d6-f028-a0decf026006"
      },
      "source": [
        "# Merging the three Telcom dataset tables into one large table\r\n",
        "tel_merged = pd.concat([tel1,tel2,tel3], axis=0)\r\n",
        "tel_merged"
      ],
      "execution_count": null,
      "outputs": [
        {
          "output_type": "execute_result",
          "data": {
            "text/html": [
              "<div>\n",
              "<style scoped>\n",
              "    .dataframe tbody tr th:only-of-type {\n",
              "        vertical-align: middle;\n",
              "    }\n",
              "\n",
              "    .dataframe tbody tr th {\n",
              "        vertical-align: top;\n",
              "    }\n",
              "\n",
              "    .dataframe thead th {\n",
              "        text-align: right;\n",
              "    }\n",
              "</style>\n",
              "<table border=\"1\" class=\"dataframe\">\n",
              "  <thead>\n",
              "    <tr style=\"text-align: right;\">\n",
              "      <th></th>\n",
              "      <th>PRODUCT</th>\n",
              "      <th>VALUE</th>\n",
              "      <th>DATE_TIME</th>\n",
              "      <th>CELL_ON_SITE</th>\n",
              "      <th>DW_A_NUMBER_INT</th>\n",
              "      <th>DW_B_NUMBER_INT</th>\n",
              "      <th>COUNTRY_A</th>\n",
              "      <th>COUNTRY_B</th>\n",
              "      <th>CELL_ID</th>\n",
              "      <th>SITE_ID</th>\n",
              "    </tr>\n",
              "  </thead>\n",
              "  <tbody>\n",
              "    <tr>\n",
              "      <th>0</th>\n",
              "      <td>Voice</td>\n",
              "      <td>0</td>\n",
              "      <td>2012-05-06 23:04:37.0</td>\n",
              "      <td>1</td>\n",
              "      <td>49fae048b547780</td>\n",
              "      <td>1a49f8b0ded9de6</td>\n",
              "      <td>19e2e</td>\n",
              "      <td>19e2e</td>\n",
              "      <td>/TJNe+Mmtu</td>\n",
              "      <td>/TJNe+Mmtu</td>\n",
              "    </tr>\n",
              "    <tr>\n",
              "      <th>1</th>\n",
              "      <td>sms</td>\n",
              "      <td>0</td>\n",
              "      <td>2012-05-06 23:05:25.0</td>\n",
              "      <td>0</td>\n",
              "      <td>7a54a6eaee19e65</td>\n",
              "      <td>93343ba6e41af95</td>\n",
              "      <td>19e2e</td>\n",
              "      <td>19e2e</td>\n",
              "      <td>/+cKZKIp41</td>\n",
              "      <td>/+cKZKIp41</td>\n",
              "    </tr>\n",
              "    <tr>\n",
              "      <th>2</th>\n",
              "      <td>sms</td>\n",
              "      <td>25</td>\n",
              "      <td>2012-05-06 23:05:41.0</td>\n",
              "      <td>0</td>\n",
              "      <td>6008887b0207d82</td>\n",
              "      <td>7aacc9709ce0a20</td>\n",
              "      <td>19e2e</td>\n",
              "      <td>19e2e</td>\n",
              "      <td>/u0FSD+ahi</td>\n",
              "      <td>/u0FSD+ahi</td>\n",
              "    </tr>\n",
              "    <tr>\n",
              "      <th>3</th>\n",
              "      <td>Voice</td>\n",
              "      <td>56</td>\n",
              "      <td>2012-05-06 23:05:42.0</td>\n",
              "      <td>1</td>\n",
              "      <td>7370032e20f4e96</td>\n",
              "      <td>6af4a60e74c91d3</td>\n",
              "      <td>19e2e</td>\n",
              "      <td>19e2e</td>\n",
              "      <td>+cNeJzsTp3</td>\n",
              "      <td>+cNeJzsTp3</td>\n",
              "    </tr>\n",
              "    <tr>\n",
              "      <th>4</th>\n",
              "      <td>Voice</td>\n",
              "      <td>14</td>\n",
              "      <td>2012-05-06 23:06:29.0</td>\n",
              "      <td>1</td>\n",
              "      <td>966ba4656e38e62</td>\n",
              "      <td>02aa736ee555d5c</td>\n",
              "      <td>19e2e</td>\n",
              "      <td>19e2e</td>\n",
              "      <td>051KhYDCpv</td>\n",
              "      <td>051KhYDCpv</td>\n",
              "    </tr>\n",
              "    <tr>\n",
              "      <th>...</th>\n",
              "      <td>...</td>\n",
              "      <td>...</td>\n",
              "      <td>...</td>\n",
              "      <td>...</td>\n",
              "      <td>...</td>\n",
              "      <td>...</td>\n",
              "      <td>...</td>\n",
              "      <td>...</td>\n",
              "      <td>...</td>\n",
              "      <td>...</td>\n",
              "    </tr>\n",
              "    <tr>\n",
              "      <th>4996</th>\n",
              "      <td>Voice</td>\n",
              "      <td>0</td>\n",
              "      <td>2012-05-09 00:01:43.0</td>\n",
              "      <td>3</td>\n",
              "      <td>467333ade2b4b9c</td>\n",
              "      <td>0ab2acd804d01fe</td>\n",
              "      <td>19e2e</td>\n",
              "      <td>19e2e</td>\n",
              "      <td>2aa04dcab7</td>\n",
              "      <td>f7d63a29e5</td>\n",
              "    </tr>\n",
              "    <tr>\n",
              "      <th>4997</th>\n",
              "      <td>Voice</td>\n",
              "      <td>62</td>\n",
              "      <td>2012-05-09 00:01:43.0</td>\n",
              "      <td>1</td>\n",
              "      <td>e077a6b74c5053c</td>\n",
              "      <td>4c8098eb6ea1a41</td>\n",
              "      <td>19e2e</td>\n",
              "      <td>19e2e</td>\n",
              "      <td>7f1f2f889f</td>\n",
              "      <td>b4ddb9e93c</td>\n",
              "    </tr>\n",
              "    <tr>\n",
              "      <th>4998</th>\n",
              "      <td>Voice</td>\n",
              "      <td>32</td>\n",
              "      <td>2012-05-09 00:01:43.0</td>\n",
              "      <td>1</td>\n",
              "      <td>77f53c39d27c050</td>\n",
              "      <td>9d064f013e2cab2</td>\n",
              "      <td>19e2e</td>\n",
              "      <td>19e2e</td>\n",
              "      <td>a4731e780e</td>\n",
              "      <td>d68260ef50</td>\n",
              "    </tr>\n",
              "    <tr>\n",
              "      <th>4999</th>\n",
              "      <td>Voice</td>\n",
              "      <td>30</td>\n",
              "      <td>2012-05-09 00:01:43.0</td>\n",
              "      <td>2</td>\n",
              "      <td>672ce74c418aa7a</td>\n",
              "      <td>f9ff5af59cf0d68</td>\n",
              "      <td>19e2e</td>\n",
              "      <td>19e2e</td>\n",
              "      <td>98ed726da2</td>\n",
              "      <td>b4130b54ab</td>\n",
              "    </tr>\n",
              "    <tr>\n",
              "      <th>5000</th>\n",
              "      <td>Voice</td>\n",
              "      <td>60</td>\n",
              "      <td>2012-05-09 00:01:43.0</td>\n",
              "      <td>2</td>\n",
              "      <td>6edeb4c55714650</td>\n",
              "      <td>7e60838216482a7</td>\n",
              "      <td>19e2e</td>\n",
              "      <td>19e2e</td>\n",
              "      <td>1c11a2fcbb</td>\n",
              "      <td>6d70dae094</td>\n",
              "    </tr>\n",
              "  </tbody>\n",
              "</table>\n",
              "<p>15003 rows × 10 columns</p>\n",
              "</div>"
            ],
            "text/plain": [
              "     PRODUCT  VALUE              DATE_TIME  ... COUNTRY_B     CELL_ID     SITE_ID\n",
              "0      Voice      0  2012-05-06 23:04:37.0  ...     19e2e  /TJNe+Mmtu  /TJNe+Mmtu\n",
              "1        sms      0  2012-05-06 23:05:25.0  ...     19e2e  /+cKZKIp41  /+cKZKIp41\n",
              "2        sms     25  2012-05-06 23:05:41.0  ...     19e2e  /u0FSD+ahi  /u0FSD+ahi\n",
              "3      Voice     56  2012-05-06 23:05:42.0  ...     19e2e  +cNeJzsTp3  +cNeJzsTp3\n",
              "4      Voice     14  2012-05-06 23:06:29.0  ...     19e2e  051KhYDCpv  051KhYDCpv\n",
              "...      ...    ...                    ...  ...       ...         ...         ...\n",
              "4996   Voice      0  2012-05-09 00:01:43.0  ...     19e2e  2aa04dcab7  f7d63a29e5\n",
              "4997   Voice     62  2012-05-09 00:01:43.0  ...     19e2e  7f1f2f889f  b4ddb9e93c\n",
              "4998   Voice     32  2012-05-09 00:01:43.0  ...     19e2e  a4731e780e  d68260ef50\n",
              "4999   Voice     30  2012-05-09 00:01:43.0  ...     19e2e  98ed726da2  b4130b54ab\n",
              "5000   Voice     60  2012-05-09 00:01:43.0  ...     19e2e  1c11a2fcbb  6d70dae094\n",
              "\n",
              "[15003 rows x 10 columns]"
            ]
          },
          "metadata": {
            "tags": []
          },
          "execution_count": 25
        }
      ]
    },
    {
      "cell_type": "markdown",
      "metadata": {
        "id": "O4uTdD-8GK9J"
      },
      "source": [
        "DATA CLEANING"
      ]
    },
    {
      "cell_type": "code",
      "metadata": {
        "colab": {
          "base_uri": "https://localhost:8080/",
          "height": 419
        },
        "id": "fKA2uKfNytRZ",
        "outputId": "a4cd2212-22ea-4c13-c8fc-e9ddd90ab7ad"
      },
      "source": [
        "# Splitting date and time\r\n",
        "tel_merged[['DATE', 'TIME']] = tel_merged.DATE_TIME.str.split(expand = True)\r\n",
        "tel_merged"
      ],
      "execution_count": null,
      "outputs": [
        {
          "output_type": "execute_result",
          "data": {
            "text/html": [
              "<div>\n",
              "<style scoped>\n",
              "    .dataframe tbody tr th:only-of-type {\n",
              "        vertical-align: middle;\n",
              "    }\n",
              "\n",
              "    .dataframe tbody tr th {\n",
              "        vertical-align: top;\n",
              "    }\n",
              "\n",
              "    .dataframe thead th {\n",
              "        text-align: right;\n",
              "    }\n",
              "</style>\n",
              "<table border=\"1\" class=\"dataframe\">\n",
              "  <thead>\n",
              "    <tr style=\"text-align: right;\">\n",
              "      <th></th>\n",
              "      <th>PRODUCT</th>\n",
              "      <th>VALUE</th>\n",
              "      <th>DATE_TIME</th>\n",
              "      <th>CELL_ON_SITE</th>\n",
              "      <th>DW_A_NUMBER_INT</th>\n",
              "      <th>DW_B_NUMBER_INT</th>\n",
              "      <th>COUNTRY_A</th>\n",
              "      <th>COUNTRY_B</th>\n",
              "      <th>CELL_ID</th>\n",
              "      <th>SITE_ID</th>\n",
              "      <th>DATE</th>\n",
              "      <th>TIME</th>\n",
              "    </tr>\n",
              "  </thead>\n",
              "  <tbody>\n",
              "    <tr>\n",
              "      <th>0</th>\n",
              "      <td>Voice</td>\n",
              "      <td>0</td>\n",
              "      <td>2012-05-06 23:04:37.0</td>\n",
              "      <td>1</td>\n",
              "      <td>49fae048b547780</td>\n",
              "      <td>1a49f8b0ded9de6</td>\n",
              "      <td>19e2e</td>\n",
              "      <td>19e2e</td>\n",
              "      <td>/TJNe+Mmtu</td>\n",
              "      <td>/TJNe+Mmtu</td>\n",
              "      <td>2012-05-06</td>\n",
              "      <td>23:04:37.0</td>\n",
              "    </tr>\n",
              "    <tr>\n",
              "      <th>1</th>\n",
              "      <td>sms</td>\n",
              "      <td>0</td>\n",
              "      <td>2012-05-06 23:05:25.0</td>\n",
              "      <td>0</td>\n",
              "      <td>7a54a6eaee19e65</td>\n",
              "      <td>93343ba6e41af95</td>\n",
              "      <td>19e2e</td>\n",
              "      <td>19e2e</td>\n",
              "      <td>/+cKZKIp41</td>\n",
              "      <td>/+cKZKIp41</td>\n",
              "      <td>2012-05-06</td>\n",
              "      <td>23:05:25.0</td>\n",
              "    </tr>\n",
              "    <tr>\n",
              "      <th>2</th>\n",
              "      <td>sms</td>\n",
              "      <td>25</td>\n",
              "      <td>2012-05-06 23:05:41.0</td>\n",
              "      <td>0</td>\n",
              "      <td>6008887b0207d82</td>\n",
              "      <td>7aacc9709ce0a20</td>\n",
              "      <td>19e2e</td>\n",
              "      <td>19e2e</td>\n",
              "      <td>/u0FSD+ahi</td>\n",
              "      <td>/u0FSD+ahi</td>\n",
              "      <td>2012-05-06</td>\n",
              "      <td>23:05:41.0</td>\n",
              "    </tr>\n",
              "    <tr>\n",
              "      <th>3</th>\n",
              "      <td>Voice</td>\n",
              "      <td>56</td>\n",
              "      <td>2012-05-06 23:05:42.0</td>\n",
              "      <td>1</td>\n",
              "      <td>7370032e20f4e96</td>\n",
              "      <td>6af4a60e74c91d3</td>\n",
              "      <td>19e2e</td>\n",
              "      <td>19e2e</td>\n",
              "      <td>+cNeJzsTp3</td>\n",
              "      <td>+cNeJzsTp3</td>\n",
              "      <td>2012-05-06</td>\n",
              "      <td>23:05:42.0</td>\n",
              "    </tr>\n",
              "    <tr>\n",
              "      <th>4</th>\n",
              "      <td>Voice</td>\n",
              "      <td>14</td>\n",
              "      <td>2012-05-06 23:06:29.0</td>\n",
              "      <td>1</td>\n",
              "      <td>966ba4656e38e62</td>\n",
              "      <td>02aa736ee555d5c</td>\n",
              "      <td>19e2e</td>\n",
              "      <td>19e2e</td>\n",
              "      <td>051KhYDCpv</td>\n",
              "      <td>051KhYDCpv</td>\n",
              "      <td>2012-05-06</td>\n",
              "      <td>23:06:29.0</td>\n",
              "    </tr>\n",
              "    <tr>\n",
              "      <th>...</th>\n",
              "      <td>...</td>\n",
              "      <td>...</td>\n",
              "      <td>...</td>\n",
              "      <td>...</td>\n",
              "      <td>...</td>\n",
              "      <td>...</td>\n",
              "      <td>...</td>\n",
              "      <td>...</td>\n",
              "      <td>...</td>\n",
              "      <td>...</td>\n",
              "      <td>...</td>\n",
              "      <td>...</td>\n",
              "    </tr>\n",
              "    <tr>\n",
              "      <th>4996</th>\n",
              "      <td>Voice</td>\n",
              "      <td>0</td>\n",
              "      <td>2012-05-09 00:01:43.0</td>\n",
              "      <td>3</td>\n",
              "      <td>467333ade2b4b9c</td>\n",
              "      <td>0ab2acd804d01fe</td>\n",
              "      <td>19e2e</td>\n",
              "      <td>19e2e</td>\n",
              "      <td>2aa04dcab7</td>\n",
              "      <td>f7d63a29e5</td>\n",
              "      <td>2012-05-09</td>\n",
              "      <td>00:01:43.0</td>\n",
              "    </tr>\n",
              "    <tr>\n",
              "      <th>4997</th>\n",
              "      <td>Voice</td>\n",
              "      <td>62</td>\n",
              "      <td>2012-05-09 00:01:43.0</td>\n",
              "      <td>1</td>\n",
              "      <td>e077a6b74c5053c</td>\n",
              "      <td>4c8098eb6ea1a41</td>\n",
              "      <td>19e2e</td>\n",
              "      <td>19e2e</td>\n",
              "      <td>7f1f2f889f</td>\n",
              "      <td>b4ddb9e93c</td>\n",
              "      <td>2012-05-09</td>\n",
              "      <td>00:01:43.0</td>\n",
              "    </tr>\n",
              "    <tr>\n",
              "      <th>4998</th>\n",
              "      <td>Voice</td>\n",
              "      <td>32</td>\n",
              "      <td>2012-05-09 00:01:43.0</td>\n",
              "      <td>1</td>\n",
              "      <td>77f53c39d27c050</td>\n",
              "      <td>9d064f013e2cab2</td>\n",
              "      <td>19e2e</td>\n",
              "      <td>19e2e</td>\n",
              "      <td>a4731e780e</td>\n",
              "      <td>d68260ef50</td>\n",
              "      <td>2012-05-09</td>\n",
              "      <td>00:01:43.0</td>\n",
              "    </tr>\n",
              "    <tr>\n",
              "      <th>4999</th>\n",
              "      <td>Voice</td>\n",
              "      <td>30</td>\n",
              "      <td>2012-05-09 00:01:43.0</td>\n",
              "      <td>2</td>\n",
              "      <td>672ce74c418aa7a</td>\n",
              "      <td>f9ff5af59cf0d68</td>\n",
              "      <td>19e2e</td>\n",
              "      <td>19e2e</td>\n",
              "      <td>98ed726da2</td>\n",
              "      <td>b4130b54ab</td>\n",
              "      <td>2012-05-09</td>\n",
              "      <td>00:01:43.0</td>\n",
              "    </tr>\n",
              "    <tr>\n",
              "      <th>5000</th>\n",
              "      <td>Voice</td>\n",
              "      <td>60</td>\n",
              "      <td>2012-05-09 00:01:43.0</td>\n",
              "      <td>2</td>\n",
              "      <td>6edeb4c55714650</td>\n",
              "      <td>7e60838216482a7</td>\n",
              "      <td>19e2e</td>\n",
              "      <td>19e2e</td>\n",
              "      <td>1c11a2fcbb</td>\n",
              "      <td>6d70dae094</td>\n",
              "      <td>2012-05-09</td>\n",
              "      <td>00:01:43.0</td>\n",
              "    </tr>\n",
              "  </tbody>\n",
              "</table>\n",
              "<p>15003 rows × 12 columns</p>\n",
              "</div>"
            ],
            "text/plain": [
              "     PRODUCT  VALUE              DATE_TIME  ...     SITE_ID        DATE        TIME\n",
              "0      Voice      0  2012-05-06 23:04:37.0  ...  /TJNe+Mmtu  2012-05-06  23:04:37.0\n",
              "1        sms      0  2012-05-06 23:05:25.0  ...  /+cKZKIp41  2012-05-06  23:05:25.0\n",
              "2        sms     25  2012-05-06 23:05:41.0  ...  /u0FSD+ahi  2012-05-06  23:05:41.0\n",
              "3      Voice     56  2012-05-06 23:05:42.0  ...  +cNeJzsTp3  2012-05-06  23:05:42.0\n",
              "4      Voice     14  2012-05-06 23:06:29.0  ...  051KhYDCpv  2012-05-06  23:06:29.0\n",
              "...      ...    ...                    ...  ...         ...         ...         ...\n",
              "4996   Voice      0  2012-05-09 00:01:43.0  ...  f7d63a29e5  2012-05-09  00:01:43.0\n",
              "4997   Voice     62  2012-05-09 00:01:43.0  ...  b4ddb9e93c  2012-05-09  00:01:43.0\n",
              "4998   Voice     32  2012-05-09 00:01:43.0  ...  d68260ef50  2012-05-09  00:01:43.0\n",
              "4999   Voice     30  2012-05-09 00:01:43.0  ...  b4130b54ab  2012-05-09  00:01:43.0\n",
              "5000   Voice     60  2012-05-09 00:01:43.0  ...  6d70dae094  2012-05-09  00:01:43.0\n",
              "\n",
              "[15003 rows x 12 columns]"
            ]
          },
          "metadata": {
            "tags": []
          },
          "execution_count": 33
        }
      ]
    },
    {
      "cell_type": "code",
      "metadata": {
        "colab": {
          "base_uri": "https://localhost:8080/",
          "height": 419
        },
        "id": "sa-TZwINKelS",
        "outputId": "fd6178db-3208-49de-a2b2-474d474d1f98"
      },
      "source": [
        "# Checking and dropping duplicates in the data\r\n",
        "tel_merged.duplicated()\r\n",
        "tel_merged1 = tel_merged.drop_duplicates()\r\n",
        "tel_merged1"
      ],
      "execution_count": null,
      "outputs": [
        {
          "output_type": "execute_result",
          "data": {
            "text/html": [
              "<div>\n",
              "<style scoped>\n",
              "    .dataframe tbody tr th:only-of-type {\n",
              "        vertical-align: middle;\n",
              "    }\n",
              "\n",
              "    .dataframe tbody tr th {\n",
              "        vertical-align: top;\n",
              "    }\n",
              "\n",
              "    .dataframe thead th {\n",
              "        text-align: right;\n",
              "    }\n",
              "</style>\n",
              "<table border=\"1\" class=\"dataframe\">\n",
              "  <thead>\n",
              "    <tr style=\"text-align: right;\">\n",
              "      <th></th>\n",
              "      <th>PRODUCT</th>\n",
              "      <th>VALUE</th>\n",
              "      <th>DATE_TIME</th>\n",
              "      <th>CELL_ON_SITE</th>\n",
              "      <th>DW_A_NUMBER_INT</th>\n",
              "      <th>DW_B_NUMBER_INT</th>\n",
              "      <th>COUNTRY_A</th>\n",
              "      <th>COUNTRY_B</th>\n",
              "      <th>CELL_ID</th>\n",
              "      <th>SITE_ID</th>\n",
              "      <th>DATE</th>\n",
              "      <th>TIME</th>\n",
              "    </tr>\n",
              "  </thead>\n",
              "  <tbody>\n",
              "    <tr>\n",
              "      <th>0</th>\n",
              "      <td>Voice</td>\n",
              "      <td>0</td>\n",
              "      <td>2012-05-06 23:04:37.0</td>\n",
              "      <td>1</td>\n",
              "      <td>49fae048b547780</td>\n",
              "      <td>1a49f8b0ded9de6</td>\n",
              "      <td>19e2e</td>\n",
              "      <td>19e2e</td>\n",
              "      <td>/TJNe+Mmtu</td>\n",
              "      <td>/TJNe+Mmtu</td>\n",
              "      <td>2012-05-06</td>\n",
              "      <td>23:04:37.0</td>\n",
              "    </tr>\n",
              "    <tr>\n",
              "      <th>1</th>\n",
              "      <td>sms</td>\n",
              "      <td>0</td>\n",
              "      <td>2012-05-06 23:05:25.0</td>\n",
              "      <td>0</td>\n",
              "      <td>7a54a6eaee19e65</td>\n",
              "      <td>93343ba6e41af95</td>\n",
              "      <td>19e2e</td>\n",
              "      <td>19e2e</td>\n",
              "      <td>/+cKZKIp41</td>\n",
              "      <td>/+cKZKIp41</td>\n",
              "      <td>2012-05-06</td>\n",
              "      <td>23:05:25.0</td>\n",
              "    </tr>\n",
              "    <tr>\n",
              "      <th>2</th>\n",
              "      <td>sms</td>\n",
              "      <td>25</td>\n",
              "      <td>2012-05-06 23:05:41.0</td>\n",
              "      <td>0</td>\n",
              "      <td>6008887b0207d82</td>\n",
              "      <td>7aacc9709ce0a20</td>\n",
              "      <td>19e2e</td>\n",
              "      <td>19e2e</td>\n",
              "      <td>/u0FSD+ahi</td>\n",
              "      <td>/u0FSD+ahi</td>\n",
              "      <td>2012-05-06</td>\n",
              "      <td>23:05:41.0</td>\n",
              "    </tr>\n",
              "    <tr>\n",
              "      <th>3</th>\n",
              "      <td>Voice</td>\n",
              "      <td>56</td>\n",
              "      <td>2012-05-06 23:05:42.0</td>\n",
              "      <td>1</td>\n",
              "      <td>7370032e20f4e96</td>\n",
              "      <td>6af4a60e74c91d3</td>\n",
              "      <td>19e2e</td>\n",
              "      <td>19e2e</td>\n",
              "      <td>+cNeJzsTp3</td>\n",
              "      <td>+cNeJzsTp3</td>\n",
              "      <td>2012-05-06</td>\n",
              "      <td>23:05:42.0</td>\n",
              "    </tr>\n",
              "    <tr>\n",
              "      <th>4</th>\n",
              "      <td>Voice</td>\n",
              "      <td>14</td>\n",
              "      <td>2012-05-06 23:06:29.0</td>\n",
              "      <td>1</td>\n",
              "      <td>966ba4656e38e62</td>\n",
              "      <td>02aa736ee555d5c</td>\n",
              "      <td>19e2e</td>\n",
              "      <td>19e2e</td>\n",
              "      <td>051KhYDCpv</td>\n",
              "      <td>051KhYDCpv</td>\n",
              "      <td>2012-05-06</td>\n",
              "      <td>23:06:29.0</td>\n",
              "    </tr>\n",
              "    <tr>\n",
              "      <th>...</th>\n",
              "      <td>...</td>\n",
              "      <td>...</td>\n",
              "      <td>...</td>\n",
              "      <td>...</td>\n",
              "      <td>...</td>\n",
              "      <td>...</td>\n",
              "      <td>...</td>\n",
              "      <td>...</td>\n",
              "      <td>...</td>\n",
              "      <td>...</td>\n",
              "      <td>...</td>\n",
              "      <td>...</td>\n",
              "    </tr>\n",
              "    <tr>\n",
              "      <th>4995</th>\n",
              "      <td>Voice</td>\n",
              "      <td>10</td>\n",
              "      <td>2012-05-09 00:01:43.0</td>\n",
              "      <td>0</td>\n",
              "      <td>2f834987f0c1825</td>\n",
              "      <td>accc8e5c1164343</td>\n",
              "      <td>19e2e</td>\n",
              "      <td>OTHER</td>\n",
              "      <td>6467daa1db</td>\n",
              "      <td>8a96bae9c1</td>\n",
              "      <td>2012-05-09</td>\n",
              "      <td>00:01:43.0</td>\n",
              "    </tr>\n",
              "    <tr>\n",
              "      <th>4996</th>\n",
              "      <td>Voice</td>\n",
              "      <td>0</td>\n",
              "      <td>2012-05-09 00:01:43.0</td>\n",
              "      <td>3</td>\n",
              "      <td>467333ade2b4b9c</td>\n",
              "      <td>0ab2acd804d01fe</td>\n",
              "      <td>19e2e</td>\n",
              "      <td>19e2e</td>\n",
              "      <td>2aa04dcab7</td>\n",
              "      <td>f7d63a29e5</td>\n",
              "      <td>2012-05-09</td>\n",
              "      <td>00:01:43.0</td>\n",
              "    </tr>\n",
              "    <tr>\n",
              "      <th>4997</th>\n",
              "      <td>Voice</td>\n",
              "      <td>62</td>\n",
              "      <td>2012-05-09 00:01:43.0</td>\n",
              "      <td>1</td>\n",
              "      <td>e077a6b74c5053c</td>\n",
              "      <td>4c8098eb6ea1a41</td>\n",
              "      <td>19e2e</td>\n",
              "      <td>19e2e</td>\n",
              "      <td>7f1f2f889f</td>\n",
              "      <td>b4ddb9e93c</td>\n",
              "      <td>2012-05-09</td>\n",
              "      <td>00:01:43.0</td>\n",
              "    </tr>\n",
              "    <tr>\n",
              "      <th>4999</th>\n",
              "      <td>Voice</td>\n",
              "      <td>30</td>\n",
              "      <td>2012-05-09 00:01:43.0</td>\n",
              "      <td>2</td>\n",
              "      <td>672ce74c418aa7a</td>\n",
              "      <td>f9ff5af59cf0d68</td>\n",
              "      <td>19e2e</td>\n",
              "      <td>19e2e</td>\n",
              "      <td>98ed726da2</td>\n",
              "      <td>b4130b54ab</td>\n",
              "      <td>2012-05-09</td>\n",
              "      <td>00:01:43.0</td>\n",
              "    </tr>\n",
              "    <tr>\n",
              "      <th>5000</th>\n",
              "      <td>Voice</td>\n",
              "      <td>60</td>\n",
              "      <td>2012-05-09 00:01:43.0</td>\n",
              "      <td>2</td>\n",
              "      <td>6edeb4c55714650</td>\n",
              "      <td>7e60838216482a7</td>\n",
              "      <td>19e2e</td>\n",
              "      <td>19e2e</td>\n",
              "      <td>1c11a2fcbb</td>\n",
              "      <td>6d70dae094</td>\n",
              "      <td>2012-05-09</td>\n",
              "      <td>00:01:43.0</td>\n",
              "    </tr>\n",
              "  </tbody>\n",
              "</table>\n",
              "<p>14750 rows × 12 columns</p>\n",
              "</div>"
            ],
            "text/plain": [
              "     PRODUCT  VALUE              DATE_TIME  ...     SITE_ID        DATE        TIME\n",
              "0      Voice      0  2012-05-06 23:04:37.0  ...  /TJNe+Mmtu  2012-05-06  23:04:37.0\n",
              "1        sms      0  2012-05-06 23:05:25.0  ...  /+cKZKIp41  2012-05-06  23:05:25.0\n",
              "2        sms     25  2012-05-06 23:05:41.0  ...  /u0FSD+ahi  2012-05-06  23:05:41.0\n",
              "3      Voice     56  2012-05-06 23:05:42.0  ...  +cNeJzsTp3  2012-05-06  23:05:42.0\n",
              "4      Voice     14  2012-05-06 23:06:29.0  ...  051KhYDCpv  2012-05-06  23:06:29.0\n",
              "...      ...    ...                    ...  ...         ...         ...         ...\n",
              "4995   Voice     10  2012-05-09 00:01:43.0  ...  8a96bae9c1  2012-05-09  00:01:43.0\n",
              "4996   Voice      0  2012-05-09 00:01:43.0  ...  f7d63a29e5  2012-05-09  00:01:43.0\n",
              "4997   Voice     62  2012-05-09 00:01:43.0  ...  b4ddb9e93c  2012-05-09  00:01:43.0\n",
              "4999   Voice     30  2012-05-09 00:01:43.0  ...  b4130b54ab  2012-05-09  00:01:43.0\n",
              "5000   Voice     60  2012-05-09 00:01:43.0  ...  6d70dae094  2012-05-09  00:01:43.0\n",
              "\n",
              "[14750 rows x 12 columns]"
            ]
          },
          "metadata": {
            "tags": []
          },
          "execution_count": 24
        }
      ]
    },
    {
      "cell_type": "code",
      "metadata": {
        "colab": {
          "base_uri": "https://localhost:8080/",
          "height": 419
        },
        "id": "fqybgvSbLRLz",
        "outputId": "a07d4d6f-145b-486f-c8bb-6b5b1a5b6ae3"
      },
      "source": [
        "# Checking and dropping missing values in the data \r\n",
        "tel_merged1.isnull()\r\n",
        "tel_merged2 = tel_merged1.dropna()\r\n",
        "tel_merged2"
      ],
      "execution_count": null,
      "outputs": [
        {
          "output_type": "execute_result",
          "data": {
            "text/html": [
              "<div>\n",
              "<style scoped>\n",
              "    .dataframe tbody tr th:only-of-type {\n",
              "        vertical-align: middle;\n",
              "    }\n",
              "\n",
              "    .dataframe tbody tr th {\n",
              "        vertical-align: top;\n",
              "    }\n",
              "\n",
              "    .dataframe thead th {\n",
              "        text-align: right;\n",
              "    }\n",
              "</style>\n",
              "<table border=\"1\" class=\"dataframe\">\n",
              "  <thead>\n",
              "    <tr style=\"text-align: right;\">\n",
              "      <th></th>\n",
              "      <th>PRODUCT</th>\n",
              "      <th>VALUE</th>\n",
              "      <th>DATE_TIME</th>\n",
              "      <th>CELL_ON_SITE</th>\n",
              "      <th>DW_A_NUMBER_INT</th>\n",
              "      <th>DW_B_NUMBER_INT</th>\n",
              "      <th>COUNTRY_A</th>\n",
              "      <th>COUNTRY_B</th>\n",
              "      <th>CELL_ID</th>\n",
              "      <th>SITE_ID</th>\n",
              "      <th>DATE</th>\n",
              "      <th>TIME</th>\n",
              "    </tr>\n",
              "  </thead>\n",
              "  <tbody>\n",
              "    <tr>\n",
              "      <th>0</th>\n",
              "      <td>Voice</td>\n",
              "      <td>0</td>\n",
              "      <td>2012-05-06 23:04:37.0</td>\n",
              "      <td>1</td>\n",
              "      <td>49fae048b547780</td>\n",
              "      <td>1a49f8b0ded9de6</td>\n",
              "      <td>19e2e</td>\n",
              "      <td>19e2e</td>\n",
              "      <td>/TJNe+Mmtu</td>\n",
              "      <td>/TJNe+Mmtu</td>\n",
              "      <td>2012-05-06</td>\n",
              "      <td>23:04:37.0</td>\n",
              "    </tr>\n",
              "    <tr>\n",
              "      <th>1</th>\n",
              "      <td>sms</td>\n",
              "      <td>0</td>\n",
              "      <td>2012-05-06 23:05:25.0</td>\n",
              "      <td>0</td>\n",
              "      <td>7a54a6eaee19e65</td>\n",
              "      <td>93343ba6e41af95</td>\n",
              "      <td>19e2e</td>\n",
              "      <td>19e2e</td>\n",
              "      <td>/+cKZKIp41</td>\n",
              "      <td>/+cKZKIp41</td>\n",
              "      <td>2012-05-06</td>\n",
              "      <td>23:05:25.0</td>\n",
              "    </tr>\n",
              "    <tr>\n",
              "      <th>2</th>\n",
              "      <td>sms</td>\n",
              "      <td>25</td>\n",
              "      <td>2012-05-06 23:05:41.0</td>\n",
              "      <td>0</td>\n",
              "      <td>6008887b0207d82</td>\n",
              "      <td>7aacc9709ce0a20</td>\n",
              "      <td>19e2e</td>\n",
              "      <td>19e2e</td>\n",
              "      <td>/u0FSD+ahi</td>\n",
              "      <td>/u0FSD+ahi</td>\n",
              "      <td>2012-05-06</td>\n",
              "      <td>23:05:41.0</td>\n",
              "    </tr>\n",
              "    <tr>\n",
              "      <th>3</th>\n",
              "      <td>Voice</td>\n",
              "      <td>56</td>\n",
              "      <td>2012-05-06 23:05:42.0</td>\n",
              "      <td>1</td>\n",
              "      <td>7370032e20f4e96</td>\n",
              "      <td>6af4a60e74c91d3</td>\n",
              "      <td>19e2e</td>\n",
              "      <td>19e2e</td>\n",
              "      <td>+cNeJzsTp3</td>\n",
              "      <td>+cNeJzsTp3</td>\n",
              "      <td>2012-05-06</td>\n",
              "      <td>23:05:42.0</td>\n",
              "    </tr>\n",
              "    <tr>\n",
              "      <th>4</th>\n",
              "      <td>Voice</td>\n",
              "      <td>14</td>\n",
              "      <td>2012-05-06 23:06:29.0</td>\n",
              "      <td>1</td>\n",
              "      <td>966ba4656e38e62</td>\n",
              "      <td>02aa736ee555d5c</td>\n",
              "      <td>19e2e</td>\n",
              "      <td>19e2e</td>\n",
              "      <td>051KhYDCpv</td>\n",
              "      <td>051KhYDCpv</td>\n",
              "      <td>2012-05-06</td>\n",
              "      <td>23:06:29.0</td>\n",
              "    </tr>\n",
              "    <tr>\n",
              "      <th>...</th>\n",
              "      <td>...</td>\n",
              "      <td>...</td>\n",
              "      <td>...</td>\n",
              "      <td>...</td>\n",
              "      <td>...</td>\n",
              "      <td>...</td>\n",
              "      <td>...</td>\n",
              "      <td>...</td>\n",
              "      <td>...</td>\n",
              "      <td>...</td>\n",
              "      <td>...</td>\n",
              "      <td>...</td>\n",
              "    </tr>\n",
              "    <tr>\n",
              "      <th>4995</th>\n",
              "      <td>Voice</td>\n",
              "      <td>10</td>\n",
              "      <td>2012-05-09 00:01:43.0</td>\n",
              "      <td>0</td>\n",
              "      <td>2f834987f0c1825</td>\n",
              "      <td>accc8e5c1164343</td>\n",
              "      <td>19e2e</td>\n",
              "      <td>OTHER</td>\n",
              "      <td>6467daa1db</td>\n",
              "      <td>8a96bae9c1</td>\n",
              "      <td>2012-05-09</td>\n",
              "      <td>00:01:43.0</td>\n",
              "    </tr>\n",
              "    <tr>\n",
              "      <th>4996</th>\n",
              "      <td>Voice</td>\n",
              "      <td>0</td>\n",
              "      <td>2012-05-09 00:01:43.0</td>\n",
              "      <td>3</td>\n",
              "      <td>467333ade2b4b9c</td>\n",
              "      <td>0ab2acd804d01fe</td>\n",
              "      <td>19e2e</td>\n",
              "      <td>19e2e</td>\n",
              "      <td>2aa04dcab7</td>\n",
              "      <td>f7d63a29e5</td>\n",
              "      <td>2012-05-09</td>\n",
              "      <td>00:01:43.0</td>\n",
              "    </tr>\n",
              "    <tr>\n",
              "      <th>4997</th>\n",
              "      <td>Voice</td>\n",
              "      <td>62</td>\n",
              "      <td>2012-05-09 00:01:43.0</td>\n",
              "      <td>1</td>\n",
              "      <td>e077a6b74c5053c</td>\n",
              "      <td>4c8098eb6ea1a41</td>\n",
              "      <td>19e2e</td>\n",
              "      <td>19e2e</td>\n",
              "      <td>7f1f2f889f</td>\n",
              "      <td>b4ddb9e93c</td>\n",
              "      <td>2012-05-09</td>\n",
              "      <td>00:01:43.0</td>\n",
              "    </tr>\n",
              "    <tr>\n",
              "      <th>4999</th>\n",
              "      <td>Voice</td>\n",
              "      <td>30</td>\n",
              "      <td>2012-05-09 00:01:43.0</td>\n",
              "      <td>2</td>\n",
              "      <td>672ce74c418aa7a</td>\n",
              "      <td>f9ff5af59cf0d68</td>\n",
              "      <td>19e2e</td>\n",
              "      <td>19e2e</td>\n",
              "      <td>98ed726da2</td>\n",
              "      <td>b4130b54ab</td>\n",
              "      <td>2012-05-09</td>\n",
              "      <td>00:01:43.0</td>\n",
              "    </tr>\n",
              "    <tr>\n",
              "      <th>5000</th>\n",
              "      <td>Voice</td>\n",
              "      <td>60</td>\n",
              "      <td>2012-05-09 00:01:43.0</td>\n",
              "      <td>2</td>\n",
              "      <td>6edeb4c55714650</td>\n",
              "      <td>7e60838216482a7</td>\n",
              "      <td>19e2e</td>\n",
              "      <td>19e2e</td>\n",
              "      <td>1c11a2fcbb</td>\n",
              "      <td>6d70dae094</td>\n",
              "      <td>2012-05-09</td>\n",
              "      <td>00:01:43.0</td>\n",
              "    </tr>\n",
              "  </tbody>\n",
              "</table>\n",
              "<p>12789 rows × 12 columns</p>\n",
              "</div>"
            ],
            "text/plain": [
              "     PRODUCT  VALUE              DATE_TIME  ...     SITE_ID        DATE        TIME\n",
              "0      Voice      0  2012-05-06 23:04:37.0  ...  /TJNe+Mmtu  2012-05-06  23:04:37.0\n",
              "1        sms      0  2012-05-06 23:05:25.0  ...  /+cKZKIp41  2012-05-06  23:05:25.0\n",
              "2        sms     25  2012-05-06 23:05:41.0  ...  /u0FSD+ahi  2012-05-06  23:05:41.0\n",
              "3      Voice     56  2012-05-06 23:05:42.0  ...  +cNeJzsTp3  2012-05-06  23:05:42.0\n",
              "4      Voice     14  2012-05-06 23:06:29.0  ...  051KhYDCpv  2012-05-06  23:06:29.0\n",
              "...      ...    ...                    ...  ...         ...         ...         ...\n",
              "4995   Voice     10  2012-05-09 00:01:43.0  ...  8a96bae9c1  2012-05-09  00:01:43.0\n",
              "4996   Voice      0  2012-05-09 00:01:43.0  ...  f7d63a29e5  2012-05-09  00:01:43.0\n",
              "4997   Voice     62  2012-05-09 00:01:43.0  ...  b4ddb9e93c  2012-05-09  00:01:43.0\n",
              "4999   Voice     30  2012-05-09 00:01:43.0  ...  b4130b54ab  2012-05-09  00:01:43.0\n",
              "5000   Voice     60  2012-05-09 00:01:43.0  ...  6d70dae094  2012-05-09  00:01:43.0\n",
              "\n",
              "[12789 rows x 12 columns]"
            ]
          },
          "metadata": {
            "tags": []
          },
          "execution_count": 27
        }
      ]
    },
    {
      "cell_type": "code",
      "metadata": {
        "colab": {
          "base_uri": "https://localhost:8080/",
          "height": 419
        },
        "id": "poYlGqD7dtiT",
        "outputId": "4a1ad6fb-81f0-4e78-9477-4c7ade56d456"
      },
      "source": [
        "# Dropping columns that are not useful for the data analysis\r\n",
        "tel_merged3 = tel_merged2.drop(columns = ['CELL_ON_SITE', 'DW_A_NUMBER_INT', 'DW_B_NUMBER_INT', 'COUNTRY_A', 'COUNTRY_B', 'SITE_ID'])\r\n",
        "tel_merged3"
      ],
      "execution_count": null,
      "outputs": [
        {
          "output_type": "execute_result",
          "data": {
            "text/html": [
              "<div>\n",
              "<style scoped>\n",
              "    .dataframe tbody tr th:only-of-type {\n",
              "        vertical-align: middle;\n",
              "    }\n",
              "\n",
              "    .dataframe tbody tr th {\n",
              "        vertical-align: top;\n",
              "    }\n",
              "\n",
              "    .dataframe thead th {\n",
              "        text-align: right;\n",
              "    }\n",
              "</style>\n",
              "<table border=\"1\" class=\"dataframe\">\n",
              "  <thead>\n",
              "    <tr style=\"text-align: right;\">\n",
              "      <th></th>\n",
              "      <th>PRODUCT</th>\n",
              "      <th>VALUE</th>\n",
              "      <th>DATE_TIME</th>\n",
              "      <th>CELL_ID</th>\n",
              "      <th>DATE</th>\n",
              "      <th>TIME</th>\n",
              "    </tr>\n",
              "  </thead>\n",
              "  <tbody>\n",
              "    <tr>\n",
              "      <th>0</th>\n",
              "      <td>Voice</td>\n",
              "      <td>0</td>\n",
              "      <td>2012-05-06 23:04:37.0</td>\n",
              "      <td>/TJNe+Mmtu</td>\n",
              "      <td>2012-05-06</td>\n",
              "      <td>23:04:37.0</td>\n",
              "    </tr>\n",
              "    <tr>\n",
              "      <th>1</th>\n",
              "      <td>sms</td>\n",
              "      <td>0</td>\n",
              "      <td>2012-05-06 23:05:25.0</td>\n",
              "      <td>/+cKZKIp41</td>\n",
              "      <td>2012-05-06</td>\n",
              "      <td>23:05:25.0</td>\n",
              "    </tr>\n",
              "    <tr>\n",
              "      <th>2</th>\n",
              "      <td>sms</td>\n",
              "      <td>25</td>\n",
              "      <td>2012-05-06 23:05:41.0</td>\n",
              "      <td>/u0FSD+ahi</td>\n",
              "      <td>2012-05-06</td>\n",
              "      <td>23:05:41.0</td>\n",
              "    </tr>\n",
              "    <tr>\n",
              "      <th>3</th>\n",
              "      <td>Voice</td>\n",
              "      <td>56</td>\n",
              "      <td>2012-05-06 23:05:42.0</td>\n",
              "      <td>+cNeJzsTp3</td>\n",
              "      <td>2012-05-06</td>\n",
              "      <td>23:05:42.0</td>\n",
              "    </tr>\n",
              "    <tr>\n",
              "      <th>4</th>\n",
              "      <td>Voice</td>\n",
              "      <td>14</td>\n",
              "      <td>2012-05-06 23:06:29.0</td>\n",
              "      <td>051KhYDCpv</td>\n",
              "      <td>2012-05-06</td>\n",
              "      <td>23:06:29.0</td>\n",
              "    </tr>\n",
              "    <tr>\n",
              "      <th>...</th>\n",
              "      <td>...</td>\n",
              "      <td>...</td>\n",
              "      <td>...</td>\n",
              "      <td>...</td>\n",
              "      <td>...</td>\n",
              "      <td>...</td>\n",
              "    </tr>\n",
              "    <tr>\n",
              "      <th>4995</th>\n",
              "      <td>Voice</td>\n",
              "      <td>10</td>\n",
              "      <td>2012-05-09 00:01:43.0</td>\n",
              "      <td>6467daa1db</td>\n",
              "      <td>2012-05-09</td>\n",
              "      <td>00:01:43.0</td>\n",
              "    </tr>\n",
              "    <tr>\n",
              "      <th>4996</th>\n",
              "      <td>Voice</td>\n",
              "      <td>0</td>\n",
              "      <td>2012-05-09 00:01:43.0</td>\n",
              "      <td>2aa04dcab7</td>\n",
              "      <td>2012-05-09</td>\n",
              "      <td>00:01:43.0</td>\n",
              "    </tr>\n",
              "    <tr>\n",
              "      <th>4997</th>\n",
              "      <td>Voice</td>\n",
              "      <td>62</td>\n",
              "      <td>2012-05-09 00:01:43.0</td>\n",
              "      <td>7f1f2f889f</td>\n",
              "      <td>2012-05-09</td>\n",
              "      <td>00:01:43.0</td>\n",
              "    </tr>\n",
              "    <tr>\n",
              "      <th>4999</th>\n",
              "      <td>Voice</td>\n",
              "      <td>30</td>\n",
              "      <td>2012-05-09 00:01:43.0</td>\n",
              "      <td>98ed726da2</td>\n",
              "      <td>2012-05-09</td>\n",
              "      <td>00:01:43.0</td>\n",
              "    </tr>\n",
              "    <tr>\n",
              "      <th>5000</th>\n",
              "      <td>Voice</td>\n",
              "      <td>60</td>\n",
              "      <td>2012-05-09 00:01:43.0</td>\n",
              "      <td>1c11a2fcbb</td>\n",
              "      <td>2012-05-09</td>\n",
              "      <td>00:01:43.0</td>\n",
              "    </tr>\n",
              "  </tbody>\n",
              "</table>\n",
              "<p>12789 rows × 6 columns</p>\n",
              "</div>"
            ],
            "text/plain": [
              "     PRODUCT  VALUE              DATE_TIME     CELL_ID        DATE        TIME\n",
              "0      Voice      0  2012-05-06 23:04:37.0  /TJNe+Mmtu  2012-05-06  23:04:37.0\n",
              "1        sms      0  2012-05-06 23:05:25.0  /+cKZKIp41  2012-05-06  23:05:25.0\n",
              "2        sms     25  2012-05-06 23:05:41.0  /u0FSD+ahi  2012-05-06  23:05:41.0\n",
              "3      Voice     56  2012-05-06 23:05:42.0  +cNeJzsTp3  2012-05-06  23:05:42.0\n",
              "4      Voice     14  2012-05-06 23:06:29.0  051KhYDCpv  2012-05-06  23:06:29.0\n",
              "...      ...    ...                    ...         ...         ...         ...\n",
              "4995   Voice     10  2012-05-09 00:01:43.0  6467daa1db  2012-05-09  00:01:43.0\n",
              "4996   Voice      0  2012-05-09 00:01:43.0  2aa04dcab7  2012-05-09  00:01:43.0\n",
              "4997   Voice     62  2012-05-09 00:01:43.0  7f1f2f889f  2012-05-09  00:01:43.0\n",
              "4999   Voice     30  2012-05-09 00:01:43.0  98ed726da2  2012-05-09  00:01:43.0\n",
              "5000   Voice     60  2012-05-09 00:01:43.0  1c11a2fcbb  2012-05-09  00:01:43.0\n",
              "\n",
              "[12789 rows x 6 columns]"
            ]
          },
          "metadata": {
            "tags": []
          },
          "execution_count": 29
        }
      ]
    },
    {
      "cell_type": "code",
      "metadata": {
        "colab": {
          "base_uri": "https://localhost:8080/",
          "height": 419
        },
        "id": "jQbYn-P9V5xV",
        "outputId": "6cbf0577-16de-465c-9282-a5a9a9da0239"
      },
      "source": [
        "# Dropping rows with values as NA\r\n",
        "tel_merged4 = tel_merged3.dropna()\r\n",
        "tel_merged4"
      ],
      "execution_count": null,
      "outputs": [
        {
          "output_type": "execute_result",
          "data": {
            "text/html": [
              "<div>\n",
              "<style scoped>\n",
              "    .dataframe tbody tr th:only-of-type {\n",
              "        vertical-align: middle;\n",
              "    }\n",
              "\n",
              "    .dataframe tbody tr th {\n",
              "        vertical-align: top;\n",
              "    }\n",
              "\n",
              "    .dataframe thead th {\n",
              "        text-align: right;\n",
              "    }\n",
              "</style>\n",
              "<table border=\"1\" class=\"dataframe\">\n",
              "  <thead>\n",
              "    <tr style=\"text-align: right;\">\n",
              "      <th></th>\n",
              "      <th>PRODUCT</th>\n",
              "      <th>VALUE</th>\n",
              "      <th>DATE_TIME</th>\n",
              "      <th>CELL_ID</th>\n",
              "      <th>DATE</th>\n",
              "      <th>TIME</th>\n",
              "    </tr>\n",
              "  </thead>\n",
              "  <tbody>\n",
              "    <tr>\n",
              "      <th>0</th>\n",
              "      <td>Voice</td>\n",
              "      <td>0</td>\n",
              "      <td>2012-05-06 23:04:37.0</td>\n",
              "      <td>/TJNe+Mmtu</td>\n",
              "      <td>2012-05-06</td>\n",
              "      <td>23:04:37.0</td>\n",
              "    </tr>\n",
              "    <tr>\n",
              "      <th>1</th>\n",
              "      <td>sms</td>\n",
              "      <td>0</td>\n",
              "      <td>2012-05-06 23:05:25.0</td>\n",
              "      <td>/+cKZKIp41</td>\n",
              "      <td>2012-05-06</td>\n",
              "      <td>23:05:25.0</td>\n",
              "    </tr>\n",
              "    <tr>\n",
              "      <th>2</th>\n",
              "      <td>sms</td>\n",
              "      <td>25</td>\n",
              "      <td>2012-05-06 23:05:41.0</td>\n",
              "      <td>/u0FSD+ahi</td>\n",
              "      <td>2012-05-06</td>\n",
              "      <td>23:05:41.0</td>\n",
              "    </tr>\n",
              "    <tr>\n",
              "      <th>3</th>\n",
              "      <td>Voice</td>\n",
              "      <td>56</td>\n",
              "      <td>2012-05-06 23:05:42.0</td>\n",
              "      <td>+cNeJzsTp3</td>\n",
              "      <td>2012-05-06</td>\n",
              "      <td>23:05:42.0</td>\n",
              "    </tr>\n",
              "    <tr>\n",
              "      <th>4</th>\n",
              "      <td>Voice</td>\n",
              "      <td>14</td>\n",
              "      <td>2012-05-06 23:06:29.0</td>\n",
              "      <td>051KhYDCpv</td>\n",
              "      <td>2012-05-06</td>\n",
              "      <td>23:06:29.0</td>\n",
              "    </tr>\n",
              "    <tr>\n",
              "      <th>...</th>\n",
              "      <td>...</td>\n",
              "      <td>...</td>\n",
              "      <td>...</td>\n",
              "      <td>...</td>\n",
              "      <td>...</td>\n",
              "      <td>...</td>\n",
              "    </tr>\n",
              "    <tr>\n",
              "      <th>4995</th>\n",
              "      <td>Voice</td>\n",
              "      <td>10</td>\n",
              "      <td>2012-05-09 00:01:43.0</td>\n",
              "      <td>6467daa1db</td>\n",
              "      <td>2012-05-09</td>\n",
              "      <td>00:01:43.0</td>\n",
              "    </tr>\n",
              "    <tr>\n",
              "      <th>4996</th>\n",
              "      <td>Voice</td>\n",
              "      <td>0</td>\n",
              "      <td>2012-05-09 00:01:43.0</td>\n",
              "      <td>2aa04dcab7</td>\n",
              "      <td>2012-05-09</td>\n",
              "      <td>00:01:43.0</td>\n",
              "    </tr>\n",
              "    <tr>\n",
              "      <th>4997</th>\n",
              "      <td>Voice</td>\n",
              "      <td>62</td>\n",
              "      <td>2012-05-09 00:01:43.0</td>\n",
              "      <td>7f1f2f889f</td>\n",
              "      <td>2012-05-09</td>\n",
              "      <td>00:01:43.0</td>\n",
              "    </tr>\n",
              "    <tr>\n",
              "      <th>4999</th>\n",
              "      <td>Voice</td>\n",
              "      <td>30</td>\n",
              "      <td>2012-05-09 00:01:43.0</td>\n",
              "      <td>98ed726da2</td>\n",
              "      <td>2012-05-09</td>\n",
              "      <td>00:01:43.0</td>\n",
              "    </tr>\n",
              "    <tr>\n",
              "      <th>5000</th>\n",
              "      <td>Voice</td>\n",
              "      <td>60</td>\n",
              "      <td>2012-05-09 00:01:43.0</td>\n",
              "      <td>1c11a2fcbb</td>\n",
              "      <td>2012-05-09</td>\n",
              "      <td>00:01:43.0</td>\n",
              "    </tr>\n",
              "  </tbody>\n",
              "</table>\n",
              "<p>12789 rows × 6 columns</p>\n",
              "</div>"
            ],
            "text/plain": [
              "     PRODUCT  VALUE              DATE_TIME     CELL_ID        DATE        TIME\n",
              "0      Voice      0  2012-05-06 23:04:37.0  /TJNe+Mmtu  2012-05-06  23:04:37.0\n",
              "1        sms      0  2012-05-06 23:05:25.0  /+cKZKIp41  2012-05-06  23:05:25.0\n",
              "2        sms     25  2012-05-06 23:05:41.0  /u0FSD+ahi  2012-05-06  23:05:41.0\n",
              "3      Voice     56  2012-05-06 23:05:42.0  +cNeJzsTp3  2012-05-06  23:05:42.0\n",
              "4      Voice     14  2012-05-06 23:06:29.0  051KhYDCpv  2012-05-06  23:06:29.0\n",
              "...      ...    ...                    ...         ...         ...         ...\n",
              "4995   Voice     10  2012-05-09 00:01:43.0  6467daa1db  2012-05-09  00:01:43.0\n",
              "4996   Voice      0  2012-05-09 00:01:43.0  2aa04dcab7  2012-05-09  00:01:43.0\n",
              "4997   Voice     62  2012-05-09 00:01:43.0  7f1f2f889f  2012-05-09  00:01:43.0\n",
              "4999   Voice     30  2012-05-09 00:01:43.0  98ed726da2  2012-05-09  00:01:43.0\n",
              "5000   Voice     60  2012-05-09 00:01:43.0  1c11a2fcbb  2012-05-09  00:01:43.0\n",
              "\n",
              "[12789 rows x 6 columns]"
            ]
          },
          "metadata": {
            "tags": []
          },
          "execution_count": 32
        }
      ]
    },
    {
      "cell_type": "code",
      "metadata": {
        "colab": {
          "base_uri": "https://localhost:8080/",
          "height": 419
        },
        "id": "mmEkhTQyWaKa",
        "outputId": "f4b4e36b-3227-4ece-c121-261a0b321e72"
      },
      "source": [
        "#Checking and dropping duplicates in the cells_geo data\r\n",
        "cells_geo.duplicated()\r\n",
        "cells_geo1= cellsgeo.drop_duplicates()\r\n",
        "cells_geo1"
      ],
      "execution_count": null,
      "outputs": [
        {
          "output_type": "execute_result",
          "data": {
            "text/html": [
              "<div>\n",
              "<style scoped>\n",
              "    .dataframe tbody tr th:only-of-type {\n",
              "        vertical-align: middle;\n",
              "    }\n",
              "\n",
              "    .dataframe tbody tr th {\n",
              "        vertical-align: top;\n",
              "    }\n",
              "\n",
              "    .dataframe thead th {\n",
              "        text-align: right;\n",
              "    }\n",
              "</style>\n",
              "<table border=\"1\" class=\"dataframe\">\n",
              "  <thead>\n",
              "    <tr style=\"text-align: right;\">\n",
              "      <th></th>\n",
              "      <th>INDEX</th>\n",
              "      <th>CITY</th>\n",
              "      <th>STATUS</th>\n",
              "      <th>IN/OUT_OF_ABIDJAN</th>\n",
              "      <th>GEOZONE</th>\n",
              "      <th>ZONENAME</th>\n",
              "      <th>LONGITUDE</th>\n",
              "      <th>LATITUDE</th>\n",
              "      <th>REGION</th>\n",
              "      <th>AREA</th>\n",
              "      <th>CELL_ID</th>\n",
              "      <th>SITE_CODE</th>\n",
              "    </tr>\n",
              "  </thead>\n",
              "  <tbody>\n",
              "    <tr>\n",
              "      <th>0</th>\n",
              "      <td>0</td>\n",
              "      <td>ADJAME</td>\n",
              "      <td>In Service</td>\n",
              "      <td>ABIDJAN</td>\n",
              "      <td>\"Abidjan_EST</td>\n",
              "      <td>AGBANNEW</td>\n",
              "      <td>-4.000667</td>\n",
              "      <td>5.368194</td>\n",
              "      <td>LAGUNE</td>\n",
              "      <td>NaN</td>\n",
              "      <td>fbb2e75af3</td>\n",
              "      <td>0bb492ef17</td>\n",
              "    </tr>\n",
              "    <tr>\n",
              "      <th>1</th>\n",
              "      <td>1</td>\n",
              "      <td>ADJAME</td>\n",
              "      <td>In Service</td>\n",
              "      <td>ABIDJAN</td>\n",
              "      <td>\"Abidjan_EST</td>\n",
              "      <td>AGBANNEW</td>\n",
              "      <td>-4.000667</td>\n",
              "      <td>5.368194</td>\n",
              "      <td>LAGUNE</td>\n",
              "      <td>NaN</td>\n",
              "      <td>1502501d78</td>\n",
              "      <td>0bb492ef17</td>\n",
              "    </tr>\n",
              "    <tr>\n",
              "      <th>2</th>\n",
              "      <td>2</td>\n",
              "      <td>ADJAME</td>\n",
              "      <td>In Service</td>\n",
              "      <td>ABIDJAN</td>\n",
              "      <td>\"Abidjan_EST</td>\n",
              "      <td>AGBANNEW</td>\n",
              "      <td>-4.000667</td>\n",
              "      <td>5.368194</td>\n",
              "      <td>LAGUNE</td>\n",
              "      <td>NaN</td>\n",
              "      <td>0c2e182a0c</td>\n",
              "      <td>0bb492ef17</td>\n",
              "    </tr>\n",
              "    <tr>\n",
              "      <th>3</th>\n",
              "      <td>3</td>\n",
              "      <td>ASSINIE</td>\n",
              "      <td>In Service</td>\n",
              "      <td>INTERIEUR</td>\n",
              "      <td>Grand-EST</td>\n",
              "      <td>ASSINIE\"</td>\n",
              "      <td>-3.488467</td>\n",
              "      <td>5.158761</td>\n",
              "      <td>SUD COMOE</td>\n",
              "      <td>NaN</td>\n",
              "      <td>69bdfc69fd</td>\n",
              "      <td>8a1e6ce31f</td>\n",
              "    </tr>\n",
              "    <tr>\n",
              "      <th>4</th>\n",
              "      <td>4</td>\n",
              "      <td>ASSINIE</td>\n",
              "      <td>In Service</td>\n",
              "      <td>INTERIEUR</td>\n",
              "      <td>Grand-EST</td>\n",
              "      <td>ASSINIE\"</td>\n",
              "      <td>-3.488467</td>\n",
              "      <td>5.158761</td>\n",
              "      <td>SUD COMOE</td>\n",
              "      <td>NaN</td>\n",
              "      <td>7a1029d2ab</td>\n",
              "      <td>8a1e6ce31f</td>\n",
              "    </tr>\n",
              "    <tr>\n",
              "      <th>...</th>\n",
              "      <td>...</td>\n",
              "      <td>...</td>\n",
              "      <td>...</td>\n",
              "      <td>...</td>\n",
              "      <td>...</td>\n",
              "      <td>...</td>\n",
              "      <td>...</td>\n",
              "      <td>...</td>\n",
              "      <td>...</td>\n",
              "      <td>...</td>\n",
              "      <td>...</td>\n",
              "      <td>...</td>\n",
              "    </tr>\n",
              "    <tr>\n",
              "      <th>3969</th>\n",
              "      <td>3969</td>\n",
              "      <td>ZUENOULA</td>\n",
              "      <td>In Service</td>\n",
              "      <td>INTERIEUR</td>\n",
              "      <td>Grand-NORD</td>\n",
              "      <td>ZONE A - Grand-NORD</td>\n",
              "      <td>-6.039694</td>\n",
              "      <td>7.428611</td>\n",
              "      <td>MARAHOUE</td>\n",
              "      <td>CENTRE NORTH</td>\n",
              "      <td>1cfc2d7ab1</td>\n",
              "      <td>f91ed8d2e9</td>\n",
              "    </tr>\n",
              "    <tr>\n",
              "      <th>3970</th>\n",
              "      <td>3970</td>\n",
              "      <td>ZUENOULA</td>\n",
              "      <td>In Service</td>\n",
              "      <td>INTERIEUR</td>\n",
              "      <td>Grand-NORD</td>\n",
              "      <td>ZONE A - Grand-NORD</td>\n",
              "      <td>-6.039694</td>\n",
              "      <td>7.428611</td>\n",
              "      <td>MARAHOUE</td>\n",
              "      <td>CENTRE NORTH</td>\n",
              "      <td>3ae1708153</td>\n",
              "      <td>f91ed8d2e9</td>\n",
              "    </tr>\n",
              "    <tr>\n",
              "      <th>3971</th>\n",
              "      <td>3971</td>\n",
              "      <td>ZUENOULA</td>\n",
              "      <td>In Service</td>\n",
              "      <td>INTERIEUR</td>\n",
              "      <td>Grand-NORD</td>\n",
              "      <td>ZONE A - Grand-NORD</td>\n",
              "      <td>-6.065450</td>\n",
              "      <td>7.444592</td>\n",
              "      <td>MARAHOUE</td>\n",
              "      <td>CENTRE NORTH</td>\n",
              "      <td>cb71f8a29c</td>\n",
              "      <td>61bee9c70c</td>\n",
              "    </tr>\n",
              "    <tr>\n",
              "      <th>3972</th>\n",
              "      <td>3972</td>\n",
              "      <td>ZUENOULA</td>\n",
              "      <td>In Service</td>\n",
              "      <td>INTERIEUR</td>\n",
              "      <td>Grand-NORD</td>\n",
              "      <td>ZONE A - Grand-NORD</td>\n",
              "      <td>-6.065450</td>\n",
              "      <td>7.444592</td>\n",
              "      <td>MARAHOUE</td>\n",
              "      <td>CENTRE NORTH</td>\n",
              "      <td>d4a6a0b645</td>\n",
              "      <td>61bee9c70c</td>\n",
              "    </tr>\n",
              "    <tr>\n",
              "      <th>3973</th>\n",
              "      <td>3973</td>\n",
              "      <td>ZUENOULA</td>\n",
              "      <td>In Service</td>\n",
              "      <td>INTERIEUR</td>\n",
              "      <td>Grand-NORD</td>\n",
              "      <td>ZONE A - Grand-NORD</td>\n",
              "      <td>-6.065450</td>\n",
              "      <td>7.444592</td>\n",
              "      <td>MARAHOUE</td>\n",
              "      <td>CENTRE NORTH</td>\n",
              "      <td>f9f3e42589</td>\n",
              "      <td>61bee9c70c</td>\n",
              "    </tr>\n",
              "  </tbody>\n",
              "</table>\n",
              "<p>3974 rows × 12 columns</p>\n",
              "</div>"
            ],
            "text/plain": [
              "      INDEX      CITY      STATUS  ...          AREA     CELL_ID   SITE_CODE\n",
              "0         0    ADJAME  In Service  ...           NaN  fbb2e75af3  0bb492ef17\n",
              "1         1    ADJAME  In Service  ...           NaN  1502501d78  0bb492ef17\n",
              "2         2    ADJAME  In Service  ...           NaN  0c2e182a0c  0bb492ef17\n",
              "3         3   ASSINIE  In Service  ...           NaN  69bdfc69fd  8a1e6ce31f\n",
              "4         4   ASSINIE  In Service  ...           NaN  7a1029d2ab  8a1e6ce31f\n",
              "...     ...       ...         ...  ...           ...         ...         ...\n",
              "3969   3969  ZUENOULA  In Service  ...  CENTRE NORTH  1cfc2d7ab1  f91ed8d2e9\n",
              "3970   3970  ZUENOULA  In Service  ...  CENTRE NORTH  3ae1708153  f91ed8d2e9\n",
              "3971   3971  ZUENOULA  In Service  ...  CENTRE NORTH  cb71f8a29c  61bee9c70c\n",
              "3972   3972  ZUENOULA  In Service  ...  CENTRE NORTH  d4a6a0b645  61bee9c70c\n",
              "3973   3973  ZUENOULA  In Service  ...  CENTRE NORTH  f9f3e42589  61bee9c70c\n",
              "\n",
              "[3974 rows x 12 columns]"
            ]
          },
          "metadata": {
            "tags": []
          },
          "execution_count": 46
        }
      ]
    },
    {
      "cell_type": "code",
      "metadata": {
        "colab": {
          "base_uri": "https://localhost:8080/",
          "height": 589
        },
        "id": "MCjuXQjcWmpO",
        "outputId": "6a698520-ea26-4827-be79-dea42817fdc9"
      },
      "source": [
        "# Dropping rows for which status is not in service\r\n",
        "cells_geo2= cells_geo1[cellsgeo1['STATUS'] !='IN SERVICE'].dropna()\r\n",
        "cells_geo2"
      ],
      "execution_count": null,
      "outputs": [
        {
          "output_type": "execute_result",
          "data": {
            "text/html": [
              "<div>\n",
              "<style scoped>\n",
              "    .dataframe tbody tr th:only-of-type {\n",
              "        vertical-align: middle;\n",
              "    }\n",
              "\n",
              "    .dataframe tbody tr th {\n",
              "        vertical-align: top;\n",
              "    }\n",
              "\n",
              "    .dataframe thead th {\n",
              "        text-align: right;\n",
              "    }\n",
              "</style>\n",
              "<table border=\"1\" class=\"dataframe\">\n",
              "  <thead>\n",
              "    <tr style=\"text-align: right;\">\n",
              "      <th></th>\n",
              "      <th>INDEX</th>\n",
              "      <th>CITY</th>\n",
              "      <th>STATUS</th>\n",
              "      <th>IN/OUT_OF_ABIDJAN</th>\n",
              "      <th>GEOZONE</th>\n",
              "      <th>ZONENAME</th>\n",
              "      <th>LONGITUDE</th>\n",
              "      <th>LATITUDE</th>\n",
              "      <th>REGION</th>\n",
              "      <th>AREA</th>\n",
              "      <th>CELL_ID</th>\n",
              "      <th>SITE_CODE</th>\n",
              "    </tr>\n",
              "  </thead>\n",
              "  <tbody>\n",
              "    <tr>\n",
              "      <th>23</th>\n",
              "      <td>23</td>\n",
              "      <td>ABOBO</td>\n",
              "      <td>In Service</td>\n",
              "      <td>ABIDJAN</td>\n",
              "      <td>Abidjan_NORD</td>\n",
              "      <td>ZONE E - Abidjan_NORD</td>\n",
              "      <td>-4.014139</td>\n",
              "      <td>5.433500</td>\n",
              "      <td>LAGUNE</td>\n",
              "      <td>ABIDJAN NORTH</td>\n",
              "      <td>f740406877</td>\n",
              "      <td>0f34c36ac5</td>\n",
              "    </tr>\n",
              "    <tr>\n",
              "      <th>24</th>\n",
              "      <td>24</td>\n",
              "      <td>ABOBO</td>\n",
              "      <td>In Service</td>\n",
              "      <td>ABIDJAN</td>\n",
              "      <td>Abidjan_NORD</td>\n",
              "      <td>ZONE E - Abidjan_NORD</td>\n",
              "      <td>-4.014139</td>\n",
              "      <td>5.433500</td>\n",
              "      <td>LAGUNE</td>\n",
              "      <td>ABIDJAN NORTH</td>\n",
              "      <td>959e54c8f7</td>\n",
              "      <td>0f34c36ac5</td>\n",
              "    </tr>\n",
              "    <tr>\n",
              "      <th>25</th>\n",
              "      <td>25</td>\n",
              "      <td>ABOBO</td>\n",
              "      <td>In Service</td>\n",
              "      <td>ABIDJAN</td>\n",
              "      <td>Abidjan_NORD</td>\n",
              "      <td>ZONE E - Abidjan_NORD</td>\n",
              "      <td>-4.014139</td>\n",
              "      <td>5.433500</td>\n",
              "      <td>LAGUNE</td>\n",
              "      <td>ABIDJAN NORTH</td>\n",
              "      <td>56b7e7000c</td>\n",
              "      <td>0f34c36ac5</td>\n",
              "    </tr>\n",
              "    <tr>\n",
              "      <th>26</th>\n",
              "      <td>26</td>\n",
              "      <td>ABOBO</td>\n",
              "      <td>In Service</td>\n",
              "      <td>ABIDJAN</td>\n",
              "      <td>Abidjan_NORD</td>\n",
              "      <td>ZONE E - Abidjan_NORD</td>\n",
              "      <td>-4.014139</td>\n",
              "      <td>5.433500</td>\n",
              "      <td>LAGUNE</td>\n",
              "      <td>ABIDJAN NORTH</td>\n",
              "      <td>bc51c17a6f</td>\n",
              "      <td>0f34c36ac5</td>\n",
              "    </tr>\n",
              "    <tr>\n",
              "      <th>27</th>\n",
              "      <td>27</td>\n",
              "      <td>ABOBO</td>\n",
              "      <td>In Service</td>\n",
              "      <td>ABIDJAN</td>\n",
              "      <td>Abidjan_NORD</td>\n",
              "      <td>ZONE E - Abidjan_NORD</td>\n",
              "      <td>-4.014139</td>\n",
              "      <td>5.433500</td>\n",
              "      <td>LAGUNE</td>\n",
              "      <td>ABIDJAN NORTH</td>\n",
              "      <td>e460975c9f</td>\n",
              "      <td>0f34c36ac5</td>\n",
              "    </tr>\n",
              "    <tr>\n",
              "      <th>...</th>\n",
              "      <td>...</td>\n",
              "      <td>...</td>\n",
              "      <td>...</td>\n",
              "      <td>...</td>\n",
              "      <td>...</td>\n",
              "      <td>...</td>\n",
              "      <td>...</td>\n",
              "      <td>...</td>\n",
              "      <td>...</td>\n",
              "      <td>...</td>\n",
              "      <td>...</td>\n",
              "      <td>...</td>\n",
              "    </tr>\n",
              "    <tr>\n",
              "      <th>3969</th>\n",
              "      <td>3969</td>\n",
              "      <td>ZUENOULA</td>\n",
              "      <td>In Service</td>\n",
              "      <td>INTERIEUR</td>\n",
              "      <td>Grand-NORD</td>\n",
              "      <td>ZONE A - Grand-NORD</td>\n",
              "      <td>-6.039694</td>\n",
              "      <td>7.428611</td>\n",
              "      <td>MARAHOUE</td>\n",
              "      <td>CENTRE NORTH</td>\n",
              "      <td>1cfc2d7ab1</td>\n",
              "      <td>f91ed8d2e9</td>\n",
              "    </tr>\n",
              "    <tr>\n",
              "      <th>3970</th>\n",
              "      <td>3970</td>\n",
              "      <td>ZUENOULA</td>\n",
              "      <td>In Service</td>\n",
              "      <td>INTERIEUR</td>\n",
              "      <td>Grand-NORD</td>\n",
              "      <td>ZONE A - Grand-NORD</td>\n",
              "      <td>-6.039694</td>\n",
              "      <td>7.428611</td>\n",
              "      <td>MARAHOUE</td>\n",
              "      <td>CENTRE NORTH</td>\n",
              "      <td>3ae1708153</td>\n",
              "      <td>f91ed8d2e9</td>\n",
              "    </tr>\n",
              "    <tr>\n",
              "      <th>3971</th>\n",
              "      <td>3971</td>\n",
              "      <td>ZUENOULA</td>\n",
              "      <td>In Service</td>\n",
              "      <td>INTERIEUR</td>\n",
              "      <td>Grand-NORD</td>\n",
              "      <td>ZONE A - Grand-NORD</td>\n",
              "      <td>-6.065450</td>\n",
              "      <td>7.444592</td>\n",
              "      <td>MARAHOUE</td>\n",
              "      <td>CENTRE NORTH</td>\n",
              "      <td>cb71f8a29c</td>\n",
              "      <td>61bee9c70c</td>\n",
              "    </tr>\n",
              "    <tr>\n",
              "      <th>3972</th>\n",
              "      <td>3972</td>\n",
              "      <td>ZUENOULA</td>\n",
              "      <td>In Service</td>\n",
              "      <td>INTERIEUR</td>\n",
              "      <td>Grand-NORD</td>\n",
              "      <td>ZONE A - Grand-NORD</td>\n",
              "      <td>-6.065450</td>\n",
              "      <td>7.444592</td>\n",
              "      <td>MARAHOUE</td>\n",
              "      <td>CENTRE NORTH</td>\n",
              "      <td>d4a6a0b645</td>\n",
              "      <td>61bee9c70c</td>\n",
              "    </tr>\n",
              "    <tr>\n",
              "      <th>3973</th>\n",
              "      <td>3973</td>\n",
              "      <td>ZUENOULA</td>\n",
              "      <td>In Service</td>\n",
              "      <td>INTERIEUR</td>\n",
              "      <td>Grand-NORD</td>\n",
              "      <td>ZONE A - Grand-NORD</td>\n",
              "      <td>-6.065450</td>\n",
              "      <td>7.444592</td>\n",
              "      <td>MARAHOUE</td>\n",
              "      <td>CENTRE NORTH</td>\n",
              "      <td>f9f3e42589</td>\n",
              "      <td>61bee9c70c</td>\n",
              "    </tr>\n",
              "  </tbody>\n",
              "</table>\n",
              "<p>3880 rows × 12 columns</p>\n",
              "</div>"
            ],
            "text/plain": [
              "      INDEX      CITY      STATUS  ...           AREA     CELL_ID   SITE_CODE\n",
              "23       23     ABOBO  In Service  ...  ABIDJAN NORTH  f740406877  0f34c36ac5\n",
              "24       24     ABOBO  In Service  ...  ABIDJAN NORTH  959e54c8f7  0f34c36ac5\n",
              "25       25     ABOBO  In Service  ...  ABIDJAN NORTH  56b7e7000c  0f34c36ac5\n",
              "26       26     ABOBO  In Service  ...  ABIDJAN NORTH  bc51c17a6f  0f34c36ac5\n",
              "27       27     ABOBO  In Service  ...  ABIDJAN NORTH  e460975c9f  0f34c36ac5\n",
              "...     ...       ...         ...  ...            ...         ...         ...\n",
              "3969   3969  ZUENOULA  In Service  ...   CENTRE NORTH  1cfc2d7ab1  f91ed8d2e9\n",
              "3970   3970  ZUENOULA  In Service  ...   CENTRE NORTH  3ae1708153  f91ed8d2e9\n",
              "3971   3971  ZUENOULA  In Service  ...   CENTRE NORTH  cb71f8a29c  61bee9c70c\n",
              "3972   3972  ZUENOULA  In Service  ...   CENTRE NORTH  d4a6a0b645  61bee9c70c\n",
              "3973   3973  ZUENOULA  In Service  ...   CENTRE NORTH  f9f3e42589  61bee9c70c\n",
              "\n",
              "[3880 rows x 12 columns]"
            ]
          },
          "metadata": {
            "tags": []
          },
          "execution_count": 51
        }
      ]
    },
    {
      "cell_type": "code",
      "metadata": {
        "colab": {
          "base_uri": "https://localhost:8080/",
          "height": 419
        },
        "id": "vVFNXx0IW2ey",
        "outputId": "0181fae3-55a2-468b-d48a-c3f6257e5d27"
      },
      "source": [
        "# Dropping columns that are not useful for the data analysis\r\n",
        "cells_geo3 = cells_geo2.drop(columns = ['INDEX', 'STATUS', 'GEOZONE', 'ZONENAME', 'LONGITUDE', 'LATITUDE', 'AREA','SITE_CODE'])\r\n",
        "cells_geo3"
      ],
      "execution_count": null,
      "outputs": [
        {
          "output_type": "execute_result",
          "data": {
            "text/html": [
              "<div>\n",
              "<style scoped>\n",
              "    .dataframe tbody tr th:only-of-type {\n",
              "        vertical-align: middle;\n",
              "    }\n",
              "\n",
              "    .dataframe tbody tr th {\n",
              "        vertical-align: top;\n",
              "    }\n",
              "\n",
              "    .dataframe thead th {\n",
              "        text-align: right;\n",
              "    }\n",
              "</style>\n",
              "<table border=\"1\" class=\"dataframe\">\n",
              "  <thead>\n",
              "    <tr style=\"text-align: right;\">\n",
              "      <th></th>\n",
              "      <th>CITY</th>\n",
              "      <th>IN/OUT_OF_ABIDJAN</th>\n",
              "      <th>REGION</th>\n",
              "      <th>CELL_ID</th>\n",
              "    </tr>\n",
              "  </thead>\n",
              "  <tbody>\n",
              "    <tr>\n",
              "      <th>23</th>\n",
              "      <td>ABOBO</td>\n",
              "      <td>ABIDJAN</td>\n",
              "      <td>LAGUNE</td>\n",
              "      <td>f740406877</td>\n",
              "    </tr>\n",
              "    <tr>\n",
              "      <th>24</th>\n",
              "      <td>ABOBO</td>\n",
              "      <td>ABIDJAN</td>\n",
              "      <td>LAGUNE</td>\n",
              "      <td>959e54c8f7</td>\n",
              "    </tr>\n",
              "    <tr>\n",
              "      <th>25</th>\n",
              "      <td>ABOBO</td>\n",
              "      <td>ABIDJAN</td>\n",
              "      <td>LAGUNE</td>\n",
              "      <td>56b7e7000c</td>\n",
              "    </tr>\n",
              "    <tr>\n",
              "      <th>26</th>\n",
              "      <td>ABOBO</td>\n",
              "      <td>ABIDJAN</td>\n",
              "      <td>LAGUNE</td>\n",
              "      <td>bc51c17a6f</td>\n",
              "    </tr>\n",
              "    <tr>\n",
              "      <th>27</th>\n",
              "      <td>ABOBO</td>\n",
              "      <td>ABIDJAN</td>\n",
              "      <td>LAGUNE</td>\n",
              "      <td>e460975c9f</td>\n",
              "    </tr>\n",
              "    <tr>\n",
              "      <th>...</th>\n",
              "      <td>...</td>\n",
              "      <td>...</td>\n",
              "      <td>...</td>\n",
              "      <td>...</td>\n",
              "    </tr>\n",
              "    <tr>\n",
              "      <th>3969</th>\n",
              "      <td>ZUENOULA</td>\n",
              "      <td>INTERIEUR</td>\n",
              "      <td>MARAHOUE</td>\n",
              "      <td>1cfc2d7ab1</td>\n",
              "    </tr>\n",
              "    <tr>\n",
              "      <th>3970</th>\n",
              "      <td>ZUENOULA</td>\n",
              "      <td>INTERIEUR</td>\n",
              "      <td>MARAHOUE</td>\n",
              "      <td>3ae1708153</td>\n",
              "    </tr>\n",
              "    <tr>\n",
              "      <th>3971</th>\n",
              "      <td>ZUENOULA</td>\n",
              "      <td>INTERIEUR</td>\n",
              "      <td>MARAHOUE</td>\n",
              "      <td>cb71f8a29c</td>\n",
              "    </tr>\n",
              "    <tr>\n",
              "      <th>3972</th>\n",
              "      <td>ZUENOULA</td>\n",
              "      <td>INTERIEUR</td>\n",
              "      <td>MARAHOUE</td>\n",
              "      <td>d4a6a0b645</td>\n",
              "    </tr>\n",
              "    <tr>\n",
              "      <th>3973</th>\n",
              "      <td>ZUENOULA</td>\n",
              "      <td>INTERIEUR</td>\n",
              "      <td>MARAHOUE</td>\n",
              "      <td>f9f3e42589</td>\n",
              "    </tr>\n",
              "  </tbody>\n",
              "</table>\n",
              "<p>3880 rows × 4 columns</p>\n",
              "</div>"
            ],
            "text/plain": [
              "          CITY IN/OUT_OF_ABIDJAN    REGION     CELL_ID\n",
              "23       ABOBO           ABIDJAN    LAGUNE  f740406877\n",
              "24       ABOBO           ABIDJAN    LAGUNE  959e54c8f7\n",
              "25       ABOBO           ABIDJAN    LAGUNE  56b7e7000c\n",
              "26       ABOBO           ABIDJAN    LAGUNE  bc51c17a6f\n",
              "27       ABOBO           ABIDJAN    LAGUNE  e460975c9f\n",
              "...        ...               ...       ...         ...\n",
              "3969  ZUENOULA         INTERIEUR  MARAHOUE  1cfc2d7ab1\n",
              "3970  ZUENOULA         INTERIEUR  MARAHOUE  3ae1708153\n",
              "3971  ZUENOULA         INTERIEUR  MARAHOUE  cb71f8a29c\n",
              "3972  ZUENOULA         INTERIEUR  MARAHOUE  d4a6a0b645\n",
              "3973  ZUENOULA         INTERIEUR  MARAHOUE  f9f3e42589\n",
              "\n",
              "[3880 rows x 4 columns]"
            ]
          },
          "metadata": {
            "tags": []
          },
          "execution_count": 52
        }
      ]
    },
    {
      "cell_type": "code",
      "metadata": {
        "colab": {
          "base_uri": "https://localhost:8080/",
          "height": 419
        },
        "id": "QngEJ4lJXKFc",
        "outputId": "c6a0fe23-ea9f-4dd2-8179-6e21dd53bbf2"
      },
      "source": [
        "# Checking and dropping missing values in the cells_geo data\r\n",
        "cells_geo3.isnull()\r\n",
        "cells_geo4 = cells_geo3.dropna()\r\n",
        "cells_geo4"
      ],
      "execution_count": null,
      "outputs": [
        {
          "output_type": "execute_result",
          "data": {
            "text/html": [
              "<div>\n",
              "<style scoped>\n",
              "    .dataframe tbody tr th:only-of-type {\n",
              "        vertical-align: middle;\n",
              "    }\n",
              "\n",
              "    .dataframe tbody tr th {\n",
              "        vertical-align: top;\n",
              "    }\n",
              "\n",
              "    .dataframe thead th {\n",
              "        text-align: right;\n",
              "    }\n",
              "</style>\n",
              "<table border=\"1\" class=\"dataframe\">\n",
              "  <thead>\n",
              "    <tr style=\"text-align: right;\">\n",
              "      <th></th>\n",
              "      <th>CITY</th>\n",
              "      <th>IN/OUT_OF_ABIDJAN</th>\n",
              "      <th>REGION</th>\n",
              "      <th>CELL_ID</th>\n",
              "    </tr>\n",
              "  </thead>\n",
              "  <tbody>\n",
              "    <tr>\n",
              "      <th>23</th>\n",
              "      <td>ABOBO</td>\n",
              "      <td>ABIDJAN</td>\n",
              "      <td>LAGUNE</td>\n",
              "      <td>f740406877</td>\n",
              "    </tr>\n",
              "    <tr>\n",
              "      <th>24</th>\n",
              "      <td>ABOBO</td>\n",
              "      <td>ABIDJAN</td>\n",
              "      <td>LAGUNE</td>\n",
              "      <td>959e54c8f7</td>\n",
              "    </tr>\n",
              "    <tr>\n",
              "      <th>25</th>\n",
              "      <td>ABOBO</td>\n",
              "      <td>ABIDJAN</td>\n",
              "      <td>LAGUNE</td>\n",
              "      <td>56b7e7000c</td>\n",
              "    </tr>\n",
              "    <tr>\n",
              "      <th>26</th>\n",
              "      <td>ABOBO</td>\n",
              "      <td>ABIDJAN</td>\n",
              "      <td>LAGUNE</td>\n",
              "      <td>bc51c17a6f</td>\n",
              "    </tr>\n",
              "    <tr>\n",
              "      <th>27</th>\n",
              "      <td>ABOBO</td>\n",
              "      <td>ABIDJAN</td>\n",
              "      <td>LAGUNE</td>\n",
              "      <td>e460975c9f</td>\n",
              "    </tr>\n",
              "    <tr>\n",
              "      <th>...</th>\n",
              "      <td>...</td>\n",
              "      <td>...</td>\n",
              "      <td>...</td>\n",
              "      <td>...</td>\n",
              "    </tr>\n",
              "    <tr>\n",
              "      <th>3969</th>\n",
              "      <td>ZUENOULA</td>\n",
              "      <td>INTERIEUR</td>\n",
              "      <td>MARAHOUE</td>\n",
              "      <td>1cfc2d7ab1</td>\n",
              "    </tr>\n",
              "    <tr>\n",
              "      <th>3970</th>\n",
              "      <td>ZUENOULA</td>\n",
              "      <td>INTERIEUR</td>\n",
              "      <td>MARAHOUE</td>\n",
              "      <td>3ae1708153</td>\n",
              "    </tr>\n",
              "    <tr>\n",
              "      <th>3971</th>\n",
              "      <td>ZUENOULA</td>\n",
              "      <td>INTERIEUR</td>\n",
              "      <td>MARAHOUE</td>\n",
              "      <td>cb71f8a29c</td>\n",
              "    </tr>\n",
              "    <tr>\n",
              "      <th>3972</th>\n",
              "      <td>ZUENOULA</td>\n",
              "      <td>INTERIEUR</td>\n",
              "      <td>MARAHOUE</td>\n",
              "      <td>d4a6a0b645</td>\n",
              "    </tr>\n",
              "    <tr>\n",
              "      <th>3973</th>\n",
              "      <td>ZUENOULA</td>\n",
              "      <td>INTERIEUR</td>\n",
              "      <td>MARAHOUE</td>\n",
              "      <td>f9f3e42589</td>\n",
              "    </tr>\n",
              "  </tbody>\n",
              "</table>\n",
              "<p>3880 rows × 4 columns</p>\n",
              "</div>"
            ],
            "text/plain": [
              "          CITY IN/OUT_OF_ABIDJAN    REGION     CELL_ID\n",
              "23       ABOBO           ABIDJAN    LAGUNE  f740406877\n",
              "24       ABOBO           ABIDJAN    LAGUNE  959e54c8f7\n",
              "25       ABOBO           ABIDJAN    LAGUNE  56b7e7000c\n",
              "26       ABOBO           ABIDJAN    LAGUNE  bc51c17a6f\n",
              "27       ABOBO           ABIDJAN    LAGUNE  e460975c9f\n",
              "...        ...               ...       ...         ...\n",
              "3969  ZUENOULA         INTERIEUR  MARAHOUE  1cfc2d7ab1\n",
              "3970  ZUENOULA         INTERIEUR  MARAHOUE  3ae1708153\n",
              "3971  ZUENOULA         INTERIEUR  MARAHOUE  cb71f8a29c\n",
              "3972  ZUENOULA         INTERIEUR  MARAHOUE  d4a6a0b645\n",
              "3973  ZUENOULA         INTERIEUR  MARAHOUE  f9f3e42589\n",
              "\n",
              "[3880 rows x 4 columns]"
            ]
          },
          "metadata": {
            "tags": []
          },
          "execution_count": 53
        }
      ]
    },
    {
      "cell_type": "code",
      "metadata": {
        "colab": {
          "base_uri": "https://localhost:8080/",
          "height": 419
        },
        "id": "QLyDYWufXZWO",
        "outputId": "dc868b03-f979-4bbb-a2cf-cfe67ddfa52d"
      },
      "source": [
        "# Dropping rows with values as NA \r\n",
        "cells_geo5= cells_geo4.dropna()\r\n",
        "cells_geo5"
      ],
      "execution_count": null,
      "outputs": [
        {
          "output_type": "execute_result",
          "data": {
            "text/html": [
              "<div>\n",
              "<style scoped>\n",
              "    .dataframe tbody tr th:only-of-type {\n",
              "        vertical-align: middle;\n",
              "    }\n",
              "\n",
              "    .dataframe tbody tr th {\n",
              "        vertical-align: top;\n",
              "    }\n",
              "\n",
              "    .dataframe thead th {\n",
              "        text-align: right;\n",
              "    }\n",
              "</style>\n",
              "<table border=\"1\" class=\"dataframe\">\n",
              "  <thead>\n",
              "    <tr style=\"text-align: right;\">\n",
              "      <th></th>\n",
              "      <th>CITY</th>\n",
              "      <th>IN/OUT_OF_ABIDJAN</th>\n",
              "      <th>REGION</th>\n",
              "      <th>CELL_ID</th>\n",
              "    </tr>\n",
              "  </thead>\n",
              "  <tbody>\n",
              "    <tr>\n",
              "      <th>23</th>\n",
              "      <td>ABOBO</td>\n",
              "      <td>ABIDJAN</td>\n",
              "      <td>LAGUNE</td>\n",
              "      <td>f740406877</td>\n",
              "    </tr>\n",
              "    <tr>\n",
              "      <th>24</th>\n",
              "      <td>ABOBO</td>\n",
              "      <td>ABIDJAN</td>\n",
              "      <td>LAGUNE</td>\n",
              "      <td>959e54c8f7</td>\n",
              "    </tr>\n",
              "    <tr>\n",
              "      <th>25</th>\n",
              "      <td>ABOBO</td>\n",
              "      <td>ABIDJAN</td>\n",
              "      <td>LAGUNE</td>\n",
              "      <td>56b7e7000c</td>\n",
              "    </tr>\n",
              "    <tr>\n",
              "      <th>26</th>\n",
              "      <td>ABOBO</td>\n",
              "      <td>ABIDJAN</td>\n",
              "      <td>LAGUNE</td>\n",
              "      <td>bc51c17a6f</td>\n",
              "    </tr>\n",
              "    <tr>\n",
              "      <th>27</th>\n",
              "      <td>ABOBO</td>\n",
              "      <td>ABIDJAN</td>\n",
              "      <td>LAGUNE</td>\n",
              "      <td>e460975c9f</td>\n",
              "    </tr>\n",
              "    <tr>\n",
              "      <th>...</th>\n",
              "      <td>...</td>\n",
              "      <td>...</td>\n",
              "      <td>...</td>\n",
              "      <td>...</td>\n",
              "    </tr>\n",
              "    <tr>\n",
              "      <th>3969</th>\n",
              "      <td>ZUENOULA</td>\n",
              "      <td>INTERIEUR</td>\n",
              "      <td>MARAHOUE</td>\n",
              "      <td>1cfc2d7ab1</td>\n",
              "    </tr>\n",
              "    <tr>\n",
              "      <th>3970</th>\n",
              "      <td>ZUENOULA</td>\n",
              "      <td>INTERIEUR</td>\n",
              "      <td>MARAHOUE</td>\n",
              "      <td>3ae1708153</td>\n",
              "    </tr>\n",
              "    <tr>\n",
              "      <th>3971</th>\n",
              "      <td>ZUENOULA</td>\n",
              "      <td>INTERIEUR</td>\n",
              "      <td>MARAHOUE</td>\n",
              "      <td>cb71f8a29c</td>\n",
              "    </tr>\n",
              "    <tr>\n",
              "      <th>3972</th>\n",
              "      <td>ZUENOULA</td>\n",
              "      <td>INTERIEUR</td>\n",
              "      <td>MARAHOUE</td>\n",
              "      <td>d4a6a0b645</td>\n",
              "    </tr>\n",
              "    <tr>\n",
              "      <th>3973</th>\n",
              "      <td>ZUENOULA</td>\n",
              "      <td>INTERIEUR</td>\n",
              "      <td>MARAHOUE</td>\n",
              "      <td>f9f3e42589</td>\n",
              "    </tr>\n",
              "  </tbody>\n",
              "</table>\n",
              "<p>3880 rows × 4 columns</p>\n",
              "</div>"
            ],
            "text/plain": [
              "          CITY IN/OUT_OF_ABIDJAN    REGION     CELL_ID\n",
              "23       ABOBO           ABIDJAN    LAGUNE  f740406877\n",
              "24       ABOBO           ABIDJAN    LAGUNE  959e54c8f7\n",
              "25       ABOBO           ABIDJAN    LAGUNE  56b7e7000c\n",
              "26       ABOBO           ABIDJAN    LAGUNE  bc51c17a6f\n",
              "27       ABOBO           ABIDJAN    LAGUNE  e460975c9f\n",
              "...        ...               ...       ...         ...\n",
              "3969  ZUENOULA         INTERIEUR  MARAHOUE  1cfc2d7ab1\n",
              "3970  ZUENOULA         INTERIEUR  MARAHOUE  3ae1708153\n",
              "3971  ZUENOULA         INTERIEUR  MARAHOUE  cb71f8a29c\n",
              "3972  ZUENOULA         INTERIEUR  MARAHOUE  d4a6a0b645\n",
              "3973  ZUENOULA         INTERIEUR  MARAHOUE  f9f3e42589\n",
              "\n",
              "[3880 rows x 4 columns]"
            ]
          },
          "metadata": {
            "tags": []
          },
          "execution_count": 54
        }
      ]
    },
    {
      "cell_type": "markdown",
      "metadata": {
        "id": "haVYAD5WYPr2"
      },
      "source": [
        "MERGING DATA FRAMES"
      ]
    },
    {
      "cell_type": "code",
      "metadata": {
        "colab": {
          "base_uri": "https://localhost:8080/",
          "height": 419
        },
        "id": "Yqda8qgTYNGx",
        "outputId": "099d1aa8-07ca-424b-9e85-2b729b6a1ce0"
      },
      "source": [
        "# Merging the two dataframes: the large Telcom dataset and cellsgeo dataset \r\n",
        "# This is done using outer join which joins the two tables \r\n",
        "df = tel_merged4.merge(cells_geo5, on=['CELL_ID'], how='outer')\r\n",
        "df"
      ],
      "execution_count": null,
      "outputs": [
        {
          "output_type": "execute_result",
          "data": {
            "text/html": [
              "<div>\n",
              "<style scoped>\n",
              "    .dataframe tbody tr th:only-of-type {\n",
              "        vertical-align: middle;\n",
              "    }\n",
              "\n",
              "    .dataframe tbody tr th {\n",
              "        vertical-align: top;\n",
              "    }\n",
              "\n",
              "    .dataframe thead th {\n",
              "        text-align: right;\n",
              "    }\n",
              "</style>\n",
              "<table border=\"1\" class=\"dataframe\">\n",
              "  <thead>\n",
              "    <tr style=\"text-align: right;\">\n",
              "      <th></th>\n",
              "      <th>PRODUCT</th>\n",
              "      <th>VALUE</th>\n",
              "      <th>DATE_TIME</th>\n",
              "      <th>CELL_ID</th>\n",
              "      <th>DATE</th>\n",
              "      <th>TIME</th>\n",
              "      <th>CITY</th>\n",
              "      <th>IN/OUT_OF_ABIDJAN</th>\n",
              "      <th>REGION</th>\n",
              "    </tr>\n",
              "  </thead>\n",
              "  <tbody>\n",
              "    <tr>\n",
              "      <th>0</th>\n",
              "      <td>Voice</td>\n",
              "      <td>0.0</td>\n",
              "      <td>2012-05-06 23:04:37.0</td>\n",
              "      <td>/TJNe+Mmtu</td>\n",
              "      <td>2012-05-06</td>\n",
              "      <td>23:04:37.0</td>\n",
              "      <td>NaN</td>\n",
              "      <td>NaN</td>\n",
              "      <td>NaN</td>\n",
              "    </tr>\n",
              "    <tr>\n",
              "      <th>1</th>\n",
              "      <td>sms</td>\n",
              "      <td>0.0</td>\n",
              "      <td>2012-05-06 23:40:48.0</td>\n",
              "      <td>/TJNe+Mmtu</td>\n",
              "      <td>2012-05-06</td>\n",
              "      <td>23:40:48.0</td>\n",
              "      <td>NaN</td>\n",
              "      <td>NaN</td>\n",
              "      <td>NaN</td>\n",
              "    </tr>\n",
              "    <tr>\n",
              "      <th>2</th>\n",
              "      <td>sms</td>\n",
              "      <td>0.0</td>\n",
              "      <td>2012-05-07 23:32:47.0</td>\n",
              "      <td>/TJNe+Mmtu</td>\n",
              "      <td>2012-05-07</td>\n",
              "      <td>23:32:47.0</td>\n",
              "      <td>NaN</td>\n",
              "      <td>NaN</td>\n",
              "      <td>NaN</td>\n",
              "    </tr>\n",
              "    <tr>\n",
              "      <th>3</th>\n",
              "      <td>sms</td>\n",
              "      <td>0.0</td>\n",
              "      <td>2012-05-07 23:52:21.0</td>\n",
              "      <td>/TJNe+Mmtu</td>\n",
              "      <td>2012-05-07</td>\n",
              "      <td>23:52:21.0</td>\n",
              "      <td>NaN</td>\n",
              "      <td>NaN</td>\n",
              "      <td>NaN</td>\n",
              "    </tr>\n",
              "    <tr>\n",
              "      <th>4</th>\n",
              "      <td>data</td>\n",
              "      <td>0.0</td>\n",
              "      <td>2012-05-07 23:53:21.0</td>\n",
              "      <td>/TJNe+Mmtu</td>\n",
              "      <td>2012-05-07</td>\n",
              "      <td>23:53:21.0</td>\n",
              "      <td>NaN</td>\n",
              "      <td>NaN</td>\n",
              "      <td>NaN</td>\n",
              "    </tr>\n",
              "    <tr>\n",
              "      <th>...</th>\n",
              "      <td>...</td>\n",
              "      <td>...</td>\n",
              "      <td>...</td>\n",
              "      <td>...</td>\n",
              "      <td>...</td>\n",
              "      <td>...</td>\n",
              "      <td>...</td>\n",
              "      <td>...</td>\n",
              "      <td>...</td>\n",
              "    </tr>\n",
              "    <tr>\n",
              "      <th>16664</th>\n",
              "      <td>NaN</td>\n",
              "      <td>NaN</td>\n",
              "      <td>NaN</td>\n",
              "      <td>1cfc2d7ab1</td>\n",
              "      <td>NaN</td>\n",
              "      <td>NaN</td>\n",
              "      <td>ZUENOULA</td>\n",
              "      <td>INTERIEUR</td>\n",
              "      <td>MARAHOUE</td>\n",
              "    </tr>\n",
              "    <tr>\n",
              "      <th>16665</th>\n",
              "      <td>NaN</td>\n",
              "      <td>NaN</td>\n",
              "      <td>NaN</td>\n",
              "      <td>3ae1708153</td>\n",
              "      <td>NaN</td>\n",
              "      <td>NaN</td>\n",
              "      <td>ZUENOULA</td>\n",
              "      <td>INTERIEUR</td>\n",
              "      <td>MARAHOUE</td>\n",
              "    </tr>\n",
              "    <tr>\n",
              "      <th>16666</th>\n",
              "      <td>NaN</td>\n",
              "      <td>NaN</td>\n",
              "      <td>NaN</td>\n",
              "      <td>cb71f8a29c</td>\n",
              "      <td>NaN</td>\n",
              "      <td>NaN</td>\n",
              "      <td>ZUENOULA</td>\n",
              "      <td>INTERIEUR</td>\n",
              "      <td>MARAHOUE</td>\n",
              "    </tr>\n",
              "    <tr>\n",
              "      <th>16667</th>\n",
              "      <td>NaN</td>\n",
              "      <td>NaN</td>\n",
              "      <td>NaN</td>\n",
              "      <td>d4a6a0b645</td>\n",
              "      <td>NaN</td>\n",
              "      <td>NaN</td>\n",
              "      <td>ZUENOULA</td>\n",
              "      <td>INTERIEUR</td>\n",
              "      <td>MARAHOUE</td>\n",
              "    </tr>\n",
              "    <tr>\n",
              "      <th>16668</th>\n",
              "      <td>NaN</td>\n",
              "      <td>NaN</td>\n",
              "      <td>NaN</td>\n",
              "      <td>f9f3e42589</td>\n",
              "      <td>NaN</td>\n",
              "      <td>NaN</td>\n",
              "      <td>ZUENOULA</td>\n",
              "      <td>INTERIEUR</td>\n",
              "      <td>MARAHOUE</td>\n",
              "    </tr>\n",
              "  </tbody>\n",
              "</table>\n",
              "<p>16669 rows × 9 columns</p>\n",
              "</div>"
            ],
            "text/plain": [
              "      PRODUCT  VALUE  ... IN/OUT_OF_ABIDJAN    REGION\n",
              "0       Voice    0.0  ...               NaN       NaN\n",
              "1         sms    0.0  ...               NaN       NaN\n",
              "2         sms    0.0  ...               NaN       NaN\n",
              "3         sms    0.0  ...               NaN       NaN\n",
              "4        data    0.0  ...               NaN       NaN\n",
              "...       ...    ...  ...               ...       ...\n",
              "16664     NaN    NaN  ...         INTERIEUR  MARAHOUE\n",
              "16665     NaN    NaN  ...         INTERIEUR  MARAHOUE\n",
              "16666     NaN    NaN  ...         INTERIEUR  MARAHOUE\n",
              "16667     NaN    NaN  ...         INTERIEUR  MARAHOUE\n",
              "16668     NaN    NaN  ...         INTERIEUR  MARAHOUE\n",
              "\n",
              "[16669 rows x 9 columns]"
            ]
          },
          "metadata": {
            "tags": []
          },
          "execution_count": 55
        }
      ]
    },
    {
      "cell_type": "code",
      "metadata": {
        "colab": {
          "base_uri": "https://localhost:8080/"
        },
        "id": "Hevr4SWLYpZ1",
        "outputId": "feeba548-8d85-4f47-aaa3-843e5f6c2c32"
      },
      "source": [
        "# Getting information on the merged dataframe\r\n",
        "print(df.info())"
      ],
      "execution_count": null,
      "outputs": [
        {
          "output_type": "stream",
          "text": [
            "<class 'pandas.core.frame.DataFrame'>\n",
            "Int64Index: 16669 entries, 0 to 16668\n",
            "Data columns (total 9 columns):\n",
            " #   Column             Non-Null Count  Dtype  \n",
            "---  ------             --------------  -----  \n",
            " 0   PRODUCT            12789 non-null  object \n",
            " 1   VALUE              12789 non-null  float64\n",
            " 2   DATE_TIME          12789 non-null  object \n",
            " 3   CELL_ID            16669 non-null  object \n",
            " 4   DATE               12789 non-null  object \n",
            " 5   TIME               12789 non-null  object \n",
            " 6   CITY               3880 non-null   object \n",
            " 7   IN/OUT_OF_ABIDJAN  3880 non-null   object \n",
            " 8   REGION             3880 non-null   object \n",
            "dtypes: float64(1), object(8)\n",
            "memory usage: 1.3+ MB\n",
            "None\n"
          ],
          "name": "stdout"
        }
      ]
    },
    {
      "cell_type": "markdown",
      "metadata": {
        "id": "M1QrKumGY205"
      },
      "source": [
        "DATA ANALYSIS"
      ]
    },
    {
      "cell_type": "code",
      "metadata": {
        "colab": {
          "base_uri": "https://localhost:8080/"
        },
        "id": "jN8SiNOs-NFf",
        "outputId": "76e94a03-76cf-4e4f-d0a4-8297b732631d"
      },
      "source": [
        "# Finding out how much the customers spent on MTN Products\r\n",
        "df['VALUE'].sum()"
      ],
      "execution_count": null,
      "outputs": [
        {
          "output_type": "execute_result",
          "data": {
            "text/plain": [
              "348194.0"
            ]
          },
          "metadata": {
            "tags": []
          },
          "execution_count": 57
        }
      ]
    },
    {
      "cell_type": "code",
      "metadata": {
        "colab": {
          "base_uri": "https://localhost:8080/"
        },
        "id": "ns9bpewN-eD-",
        "outputId": "6d192e3d-b9c7-4493-d684-e44185202084"
      },
      "source": [
        "# Finding the average MTN users spend on MTN products \r\n",
        "df['VALUE'].mean()"
      ],
      "execution_count": null,
      "outputs": [
        {
          "output_type": "execute_result",
          "data": {
            "text/plain": [
              "27.226053639846743"
            ]
          },
          "metadata": {
            "tags": []
          },
          "execution_count": 58
        }
      ]
    },
    {
      "cell_type": "code",
      "metadata": {
        "colab": {
          "base_uri": "https://localhost:8080/",
          "height": 142
        },
        "id": "edplcUoi_GGA",
        "outputId": "327e8392-118f-4a0b-ee4b-63a77ae1a7be"
      },
      "source": [
        "# Finding the product with the maximum value \r\n",
        "\r\n",
        "product_value = df.groupby(['PRODUCT'])[['VALUE']].sum().reset_index()\r\n",
        "product_value"
      ],
      "execution_count": null,
      "outputs": [
        {
          "output_type": "execute_result",
          "data": {
            "text/html": [
              "<div>\n",
              "<style scoped>\n",
              "    .dataframe tbody tr th:only-of-type {\n",
              "        vertical-align: middle;\n",
              "    }\n",
              "\n",
              "    .dataframe tbody tr th {\n",
              "        vertical-align: top;\n",
              "    }\n",
              "\n",
              "    .dataframe thead th {\n",
              "        text-align: right;\n",
              "    }\n",
              "</style>\n",
              "<table border=\"1\" class=\"dataframe\">\n",
              "  <thead>\n",
              "    <tr style=\"text-align: right;\">\n",
              "      <th></th>\n",
              "      <th>PRODUCT</th>\n",
              "      <th>VALUE</th>\n",
              "    </tr>\n",
              "  </thead>\n",
              "  <tbody>\n",
              "    <tr>\n",
              "      <th>0</th>\n",
              "      <td>Voice</td>\n",
              "      <td>293816.0</td>\n",
              "    </tr>\n",
              "    <tr>\n",
              "      <th>1</th>\n",
              "      <td>data</td>\n",
              "      <td>2001.0</td>\n",
              "    </tr>\n",
              "    <tr>\n",
              "      <th>2</th>\n",
              "      <td>sms</td>\n",
              "      <td>52377.0</td>\n",
              "    </tr>\n",
              "  </tbody>\n",
              "</table>\n",
              "</div>"
            ],
            "text/plain": [
              "  PRODUCT     VALUE\n",
              "0   Voice  293816.0\n",
              "1    data    2001.0\n",
              "2     sms   52377.0"
            ]
          },
          "metadata": {
            "tags": []
          },
          "execution_count": 60
        }
      ]
    },
    {
      "cell_type": "code",
      "metadata": {
        "colab": {
          "base_uri": "https://localhost:8080/",
          "height": 313
        },
        "id": "3UeYMdP9_Y1k",
        "outputId": "5385496a-8c18-4be4-949f-d1ebac2dd57b"
      },
      "source": [
        "# Plotting a  bargraph to visualize the data\r\n",
        "product_value.plot.bar(x='PRODUCT', y='VALUE')"
      ],
      "execution_count": null,
      "outputs": [
        {
          "output_type": "execute_result",
          "data": {
            "text/plain": [
              "<matplotlib.axes._subplots.AxesSubplot at 0x7f0b6b656518>"
            ]
          },
          "metadata": {
            "tags": []
          },
          "execution_count": 61
        },
        {
          "output_type": "display_data",
          "data": {
            "image/png": "[encoded data removed]",
            "text/plain": [
              "<Figure size 432x288 with 1 Axes>"
            ]
          },
          "metadata": {
            "tags": [],
            "needs_background": "light"
          }
        }
      ]
    },
    {
      "cell_type": "code",
      "metadata": {
        "colab": {
          "base_uri": "https://localhost:8080/"
        },
        "id": "yRwRcvka_sus",
        "outputId": "2e97577a-41e0-4f3c-82d1-94a6c4cc6ad0"
      },
      "source": [
        "# Finding the regions with the highest frequency of calls\r\n",
        "df['REGION'].value_counts()\r\n",
        "maximum_region = df['REGION'].value_counts()\r\n",
        "maximum_region"
      ],
      "execution_count": null,
      "outputs": [
        {
          "output_type": "execute_result",
          "data": {
            "text/plain": [
              "LAGUNE               1800\n",
              "BAS SASSANDRA         248\n",
              "HAUT SASSANDRA        164\n",
              "LACS                  160\n",
              "VALLEE DU BANDAMA     158\n",
              "SAVANE                150\n",
              "SUD BANDAMA           125\n",
              "NZI COMOE             111\n",
              "FROMAGER              110\n",
              "ZANZAN                105\n",
              "MOYEN CAVALLY         102\n",
              "WORODOUGOU             99\n",
              "AGNEBY                 99\n",
              "18 MONTAGNES           99\n",
              "MOYEN COMOE            84\n",
              "SUD COMOE              78\n",
              "MARAHOUE               78\n",
              "DENGUELE               68\n",
              "BAFING                 42\n",
              "Name: REGION, dtype: int64"
            ]
          },
          "metadata": {
            "tags": []
          },
          "execution_count": 62
        }
      ]
    },
    {
      "cell_type": "code",
      "metadata": {
        "colab": {
          "base_uri": "https://localhost:8080/",
          "height": 382
        },
        "id": "4QYEqm3aAFmR",
        "outputId": "8c1929dd-c536-41bd-8542-a3f01e06c3b8"
      },
      "source": [
        "# Plotting a  bargraph to visualize the data\r\n",
        "maximum_region.plot.bar(x='REGION', y='')"
      ],
      "execution_count": null,
      "outputs": [
        {
          "output_type": "execute_result",
          "data": {
            "text/plain": [
              "<matplotlib.axes._subplots.AxesSubplot at 0x7f0b6b5e1e48>"
            ]
          },
          "metadata": {
            "tags": []
          },
          "execution_count": 63
        },
        {
          "output_type": "display_data",
          "data": {
            "image/png": "[encoded data removed]",
            "text/plain": [
              "<Figure size 432x288 with 1 Axes>"
            ]
          },
          "metadata": {
            "tags": [],
            "needs_background": "light"
          }
        }
      ]
    },
    {
      "cell_type": "code",
      "metadata": {
        "colab": {
          "base_uri": "https://localhost:8080/"
        },
        "id": "bQxOMreFAS9X",
        "outputId": "5e1a03d9-9742-4df9-b5e1-2a50f48a4470"
      },
      "source": [
        "# Finding out if MTN services are used mostly in or out of Abidjan \r\n",
        "Abidjan_usage = df['IN/OUT_OF_ABIDJAN'].value_counts()\r\n",
        "Abidjan_usage"
      ],
      "execution_count": null,
      "outputs": [
        {
          "output_type": "execute_result",
          "data": {
            "text/plain": [
              "INTERIEUR    2261\n",
              "ABIDJAN      1619\n",
              "Name: IN/OUT_OF_ABIDJAN, dtype: int64"
            ]
          },
          "metadata": {
            "tags": []
          },
          "execution_count": 65
        }
      ]
    },
    {
      "cell_type": "code",
      "metadata": {
        "colab": {
          "base_uri": "https://localhost:8080/",
          "height": 142
        },
        "id": "9fxQYKefAu3Z",
        "outputId": "1a444ea1-5435-4008-900d-0250d25a9339"
      },
      "source": [
        "# Finding the most used products\r\n",
        "usage = df.groupby(by='PRODUCT').agg('count').reset_index()\r\n",
        "usage"
      ],
      "execution_count": null,
      "outputs": [
        {
          "output_type": "execute_result",
          "data": {
            "text/html": [
              "<div>\n",
              "<style scoped>\n",
              "    .dataframe tbody tr th:only-of-type {\n",
              "        vertical-align: middle;\n",
              "    }\n",
              "\n",
              "    .dataframe tbody tr th {\n",
              "        vertical-align: top;\n",
              "    }\n",
              "\n",
              "    .dataframe thead th {\n",
              "        text-align: right;\n",
              "    }\n",
              "</style>\n",
              "<table border=\"1\" class=\"dataframe\">\n",
              "  <thead>\n",
              "    <tr style=\"text-align: right;\">\n",
              "      <th></th>\n",
              "      <th>PRODUCT</th>\n",
              "      <th>VALUE</th>\n",
              "      <th>DATE_TIME</th>\n",
              "      <th>CELL_ID</th>\n",
              "      <th>DATE</th>\n",
              "      <th>TIME</th>\n",
              "      <th>CITY</th>\n",
              "      <th>IN/OUT_OF_ABIDJAN</th>\n",
              "      <th>REGION</th>\n",
              "    </tr>\n",
              "  </thead>\n",
              "  <tbody>\n",
              "    <tr>\n",
              "      <th>0</th>\n",
              "      <td>Voice</td>\n",
              "      <td>5568</td>\n",
              "      <td>5568</td>\n",
              "      <td>5568</td>\n",
              "      <td>5568</td>\n",
              "      <td>5568</td>\n",
              "      <td>0</td>\n",
              "      <td>0</td>\n",
              "      <td>0</td>\n",
              "    </tr>\n",
              "    <tr>\n",
              "      <th>1</th>\n",
              "      <td>data</td>\n",
              "      <td>271</td>\n",
              "      <td>271</td>\n",
              "      <td>271</td>\n",
              "      <td>271</td>\n",
              "      <td>271</td>\n",
              "      <td>0</td>\n",
              "      <td>0</td>\n",
              "      <td>0</td>\n",
              "    </tr>\n",
              "    <tr>\n",
              "      <th>2</th>\n",
              "      <td>sms</td>\n",
              "      <td>6950</td>\n",
              "      <td>6950</td>\n",
              "      <td>6950</td>\n",
              "      <td>6950</td>\n",
              "      <td>6950</td>\n",
              "      <td>0</td>\n",
              "      <td>0</td>\n",
              "      <td>0</td>\n",
              "    </tr>\n",
              "  </tbody>\n",
              "</table>\n",
              "</div>"
            ],
            "text/plain": [
              "  PRODUCT  VALUE  DATE_TIME  CELL_ID  ...  TIME  CITY  IN/OUT_OF_ABIDJAN  REGION\n",
              "0   Voice   5568       5568     5568  ...  5568     0                  0       0\n",
              "1    data    271        271      271  ...   271     0                  0       0\n",
              "2     sms   6950       6950     6950  ...  6950     0                  0       0\n",
              "\n",
              "[3 rows x 9 columns]"
            ]
          },
          "metadata": {
            "tags": []
          },
          "execution_count": 66
        }
      ]
    },
    {
      "cell_type": "code",
      "metadata": {
        "colab": {
          "base_uri": "https://localhost:8080/"
        },
        "id": "KD7pBTWxA-Ha",
        "outputId": "9297f7be-da8b-41d7-ede1-bcd25938326c"
      },
      "source": [
        "# Finding the most used cities in the three days provided\r\n",
        "pd.set_option('display.max_rows', None)\r\n",
        "highest_usage = df['CITY'].value_counts()\r\n",
        "highest_usage.head(10)\r\n"
      ],
      "execution_count": null,
      "outputs": [
        {
          "output_type": "execute_result",
          "data": {
            "text/plain": [
              "COCODY          354\n",
              "YOPOUGON        289\n",
              "ABOBO           244\n",
              "MARCORY         141\n",
              "TREICHVILLE     132\n",
              "YAMOUSSOUKRO    104\n",
              "ADJAME          104\n",
              "PLATEAU         100\n",
              "KOUMASSI         91\n",
              "BOUAKE           65\n",
              "Name: CITY, dtype: int64"
            ]
          },
          "metadata": {
            "tags": []
          },
          "execution_count": 69
        }
      ]
    },
    {
      "cell_type": "code",
      "metadata": {
        "colab": {
          "base_uri": "https://localhost:8080/",
          "height": 204
        },
        "id": "P4QWP-M_BO8l",
        "outputId": "eedb70fa-686d-459a-dbf5-d94365cfd69b"
      },
      "source": [
        "#Finding the cities most used during business and home hours\r\n",
        "df[\"DATETIME\"]= pd.to_datetime(df['DATE_TIME'])\r\n",
        "df.head(5)"
      ],
      "execution_count": null,
      "outputs": [
        {
          "output_type": "execute_result",
          "data": {
            "text/html": [
              "<div>\n",
              "<style scoped>\n",
              "    .dataframe tbody tr th:only-of-type {\n",
              "        vertical-align: middle;\n",
              "    }\n",
              "\n",
              "    .dataframe tbody tr th {\n",
              "        vertical-align: top;\n",
              "    }\n",
              "\n",
              "    .dataframe thead th {\n",
              "        text-align: right;\n",
              "    }\n",
              "</style>\n",
              "<table border=\"1\" class=\"dataframe\">\n",
              "  <thead>\n",
              "    <tr style=\"text-align: right;\">\n",
              "      <th></th>\n",
              "      <th>PRODUCT</th>\n",
              "      <th>VALUE</th>\n",
              "      <th>DATE_TIME</th>\n",
              "      <th>CELL_ID</th>\n",
              "      <th>DATE</th>\n",
              "      <th>TIME</th>\n",
              "      <th>CITY</th>\n",
              "      <th>IN/OUT_OF_ABIDJAN</th>\n",
              "      <th>REGION</th>\n",
              "      <th>DATETIME</th>\n",
              "    </tr>\n",
              "  </thead>\n",
              "  <tbody>\n",
              "    <tr>\n",
              "      <th>0</th>\n",
              "      <td>Voice</td>\n",
              "      <td>0.0</td>\n",
              "      <td>2012-05-06 23:04:37.0</td>\n",
              "      <td>/TJNe+Mmtu</td>\n",
              "      <td>2012-05-06</td>\n",
              "      <td>23:04:37.0</td>\n",
              "      <td>NaN</td>\n",
              "      <td>NaN</td>\n",
              "      <td>NaN</td>\n",
              "      <td>2012-05-06 23:04:37</td>\n",
              "    </tr>\n",
              "    <tr>\n",
              "      <th>1</th>\n",
              "      <td>sms</td>\n",
              "      <td>0.0</td>\n",
              "      <td>2012-05-06 23:40:48.0</td>\n",
              "      <td>/TJNe+Mmtu</td>\n",
              "      <td>2012-05-06</td>\n",
              "      <td>23:40:48.0</td>\n",
              "      <td>NaN</td>\n",
              "      <td>NaN</td>\n",
              "      <td>NaN</td>\n",
              "      <td>2012-05-06 23:40:48</td>\n",
              "    </tr>\n",
              "    <tr>\n",
              "      <th>2</th>\n",
              "      <td>sms</td>\n",
              "      <td>0.0</td>\n",
              "      <td>2012-05-07 23:32:47.0</td>\n",
              "      <td>/TJNe+Mmtu</td>\n",
              "      <td>2012-05-07</td>\n",
              "      <td>23:32:47.0</td>\n",
              "      <td>NaN</td>\n",
              "      <td>NaN</td>\n",
              "      <td>NaN</td>\n",
              "      <td>2012-05-07 23:32:47</td>\n",
              "    </tr>\n",
              "    <tr>\n",
              "      <th>3</th>\n",
              "      <td>sms</td>\n",
              "      <td>0.0</td>\n",
              "      <td>2012-05-07 23:52:21.0</td>\n",
              "      <td>/TJNe+Mmtu</td>\n",
              "      <td>2012-05-07</td>\n",
              "      <td>23:52:21.0</td>\n",
              "      <td>NaN</td>\n",
              "      <td>NaN</td>\n",
              "      <td>NaN</td>\n",
              "      <td>2012-05-07 23:52:21</td>\n",
              "    </tr>\n",
              "    <tr>\n",
              "      <th>4</th>\n",
              "      <td>data</td>\n",
              "      <td>0.0</td>\n",
              "      <td>2012-05-07 23:53:21.0</td>\n",
              "      <td>/TJNe+Mmtu</td>\n",
              "      <td>2012-05-07</td>\n",
              "      <td>23:53:21.0</td>\n",
              "      <td>NaN</td>\n",
              "      <td>NaN</td>\n",
              "      <td>NaN</td>\n",
              "      <td>2012-05-07 23:53:21</td>\n",
              "    </tr>\n",
              "  </tbody>\n",
              "</table>\n",
              "</div>"
            ],
            "text/plain": [
              "  PRODUCT  VALUE  ... REGION            DATETIME\n",
              "0   Voice    0.0  ...    NaN 2012-05-06 23:04:37\n",
              "1     sms    0.0  ...    NaN 2012-05-06 23:40:48\n",
              "2     sms    0.0  ...    NaN 2012-05-07 23:32:47\n",
              "3     sms    0.0  ...    NaN 2012-05-07 23:52:21\n",
              "4    data    0.0  ...    NaN 2012-05-07 23:53:21\n",
              "\n",
              "[5 rows x 10 columns]"
            ]
          },
          "metadata": {
            "tags": []
          },
          "execution_count": 76
        }
      ]
    },
    {
      "cell_type": "code",
      "metadata": {
        "colab": {
          "base_uri": "https://localhost:8080/"
        },
        "id": "9G-ZpzZ5B71R",
        "outputId": "23335ceb-389b-4df5-9e59-d3e604812f24"
      },
      "source": [
        "# Finding the lowest spend from a customer on MTN products\r\n",
        "df['VALUE'].max()"
      ],
      "execution_count": null,
      "outputs": [
        {
          "output_type": "execute_result",
          "data": {
            "text/plain": [
              "6750.0"
            ]
          },
          "metadata": {
            "tags": []
          },
          "execution_count": 77
        }
      ]
    },
    {
      "cell_type": "code",
      "metadata": {
        "colab": {
          "base_uri": "https://localhost:8080/"
        },
        "id": "RH7odeznCKb4",
        "outputId": "5c14033c-876b-4249-fbe3-a4f1e40f0b63"
      },
      "source": [
        "# Finding the highest spend from a customer on MTN products\r\n",
        "df['VALUE'].min()"
      ],
      "execution_count": null,
      "outputs": [
        {
          "output_type": "execute_result",
          "data": {
            "text/plain": [
              "0.0"
            ]
          },
          "metadata": {
            "tags": []
          },
          "execution_count": 78
        }
      ]
    },
    {
      "cell_type": "markdown",
      "metadata": {
        "id": "p_o6DzlyCT8w"
      },
      "source": [
        "DESCRIPTIVE STATISTICS"
      ]
    },
    {
      "cell_type": "code",
      "metadata": {
        "colab": {
          "base_uri": "https://localhost:8080/",
          "height": 173
        },
        "id": "lhE9P-yXCgiR",
        "outputId": "a22f3b0d-bbd2-4b44-8ae1-16a7ee91db27"
      },
      "source": [
        "# Average values of voice, data and sms products\r\n",
        "df.pivot_table(index=['PRODUCT'], aggfunc='mean')"
      ],
      "execution_count": null,
      "outputs": [
        {
          "output_type": "execute_result",
          "data": {
            "text/html": [
              "<div>\n",
              "<style scoped>\n",
              "    .dataframe tbody tr th:only-of-type {\n",
              "        vertical-align: middle;\n",
              "    }\n",
              "\n",
              "    .dataframe tbody tr th {\n",
              "        vertical-align: top;\n",
              "    }\n",
              "\n",
              "    .dataframe thead th {\n",
              "        text-align: right;\n",
              "    }\n",
              "</style>\n",
              "<table border=\"1\" class=\"dataframe\">\n",
              "  <thead>\n",
              "    <tr style=\"text-align: right;\">\n",
              "      <th></th>\n",
              "      <th>VALUE</th>\n",
              "    </tr>\n",
              "    <tr>\n",
              "      <th>PRODUCT</th>\n",
              "      <th></th>\n",
              "    </tr>\n",
              "  </thead>\n",
              "  <tbody>\n",
              "    <tr>\n",
              "      <th>Voice</th>\n",
              "      <td>52.768678</td>\n",
              "    </tr>\n",
              "    <tr>\n",
              "      <th>data</th>\n",
              "      <td>7.383764</td>\n",
              "    </tr>\n",
              "    <tr>\n",
              "      <th>sms</th>\n",
              "      <td>7.536259</td>\n",
              "    </tr>\n",
              "  </tbody>\n",
              "</table>\n",
              "</div>"
            ],
            "text/plain": [
              "             VALUE\n",
              "PRODUCT           \n",
              "Voice    52.768678\n",
              "data      7.383764\n",
              "sms       7.536259"
            ]
          },
          "metadata": {
            "tags": []
          },
          "execution_count": 79
        }
      ]
    },
    {
      "cell_type": "code",
      "metadata": {
        "colab": {
          "base_uri": "https://localhost:8080/"
        },
        "id": "UPJuGzKehutm",
        "outputId": "311d0232-1047-443b-f29c-cad3e98c2153"
      },
      "source": [
        "# Average voice call usage in the three Telcom datasets\r\n",
        "# Average voice call usage in Telcom dataset 1\r\n",
        "tel1[tel1['PRODUCT']== 'Voice'].VALUE.mean()"
      ],
      "execution_count": null,
      "outputs": [
        {
          "output_type": "execute_result",
          "data": {
            "text/plain": [
              "49.06219017575484"
            ]
          },
          "metadata": {
            "tags": []
          },
          "execution_count": 81
        }
      ]
    },
    {
      "cell_type": "code",
      "metadata": {
        "colab": {
          "base_uri": "https://localhost:8080/"
        },
        "id": "AhqithaQiSMt",
        "outputId": "c747d109-09e0-4610-d899-f770fa66d129"
      },
      "source": [
        "# Average voice call usage in Telcom dataset 2\r\n",
        "tel2[tel2['PRODUCT'] == 'Voice'].VALUE.mean()"
      ],
      "execution_count": null,
      "outputs": [
        {
          "output_type": "execute_result",
          "data": {
            "text/plain": [
              "54.29485834207765"
            ]
          },
          "metadata": {
            "tags": []
          },
          "execution_count": 83
        }
      ]
    },
    {
      "cell_type": "code",
      "metadata": {
        "colab": {
          "base_uri": "https://localhost:8080/"
        },
        "id": "1YG_D3BsjhlQ",
        "outputId": "ba8af73a-e69f-4f1f-c836-2da37eb7a33a"
      },
      "source": [
        "# Average voice call usage in Telcom dataset 3\r\n",
        "tel3[tel3['PRODUCT'] == 'Voice'].VALUE.mean()"
      ],
      "execution_count": null,
      "outputs": [
        {
          "output_type": "execute_result",
          "data": {
            "text/plain": [
              "65.04737183646982"
            ]
          },
          "metadata": {
            "tags": []
          },
          "execution_count": 84
        }
      ]
    },
    {
      "cell_type": "code",
      "metadata": {
        "colab": {
          "base_uri": "https://localhost:8080/"
        },
        "id": "oXQr9D0YjoZ4",
        "outputId": "6ffde574-62a5-4705-c2c3-9ad6a0e36566"
      },
      "source": [
        "# Average sms usage in the 3 Telcom datasets\r\n",
        "# Average sms usage in Telcom dataset 1\r\n",
        "tel1[tel1['PRODUCT']== 'sms'].VALUE.mean()"
      ],
      "execution_count": null,
      "outputs": [
        {
          "output_type": "execute_result",
          "data": {
            "text/plain": [
              "6.821772151898734"
            ]
          },
          "metadata": {
            "tags": []
          },
          "execution_count": 85
        }
      ]
    },
    {
      "cell_type": "code",
      "metadata": {
        "colab": {
          "base_uri": "https://localhost:8080/"
        },
        "id": "bvgUvuN7j0RM",
        "outputId": "28500469-28a0-4f33-9209-bbeba3a418c7"
      },
      "source": [
        "# Average voice call usage in Telcom dataset 2\r\n",
        "tel2[tel2['PRODUCT'] == 'sms'].VALUE.mean()"
      ],
      "execution_count": null,
      "outputs": [
        {
          "output_type": "execute_result",
          "data": {
            "text/plain": [
              "5.458565908115071"
            ]
          },
          "metadata": {
            "tags": []
          },
          "execution_count": 86
        }
      ]
    },
    {
      "cell_type": "code",
      "metadata": {
        "colab": {
          "base_uri": "https://localhost:8080/"
        },
        "id": "FXbwiGfPj538",
        "outputId": "776e22c1-c642-4ba5-d909-3e8ab1b801b7"
      },
      "source": [
        "# Average voice call usage in Telcom dataset 3\r\n",
        "tel3[tel3['PRODUCT'] == 'sms'].VALUE.mean()"
      ],
      "execution_count": null,
      "outputs": [
        {
          "output_type": "execute_result",
          "data": {
            "text/plain": [
              "9.84495843874232"
            ]
          },
          "metadata": {
            "tags": []
          },
          "execution_count": 87
        }
      ]
    },
    {
      "cell_type": "code",
      "metadata": {
        "colab": {
          "base_uri": "https://localhost:8080/"
        },
        "id": "HfU73riWkdfZ",
        "outputId": "f1d59fda-35c1-44b5-e7c8-f8ea0d80414e"
      },
      "source": [
        "# Total voice call usage in the three Telcom datasets\r\n",
        "# Total voice call usage in Telcom dataset 1\r\n",
        "tel1[tel1['PRODUCT'] == 'Voice'].count()"
      ],
      "execution_count": null,
      "outputs": [
        {
          "output_type": "execute_result",
          "data": {
            "text/plain": [
              "PRODUCT            2219\n",
              "VALUE              2219\n",
              "DATE_TIME          2219\n",
              "CELL_ON_SITE       2219\n",
              "DW_A_NUMBER_INT    2219\n",
              "DW_B_NUMBER_INT    2219\n",
              "COUNTRY_A          2219\n",
              "COUNTRY_B          2219\n",
              "CELL_ID            2219\n",
              "SITE_ID            2218\n",
              "dtype: int64"
            ]
          },
          "metadata": {
            "tags": []
          },
          "execution_count": 88
        }
      ]
    },
    {
      "cell_type": "code",
      "metadata": {
        "colab": {
          "base_uri": "https://localhost:8080/"
        },
        "id": "IyKUT5fzDUo5",
        "outputId": "190877a2-f492-44c4-dd94-621fe01a153c"
      },
      "source": [
        "# Total voice call usage in Telcom data set 2\r\n",
        "tel2[tel2['PRODUCT'] == 'Voice'].count()"
      ],
      "execution_count": null,
      "outputs": [
        {
          "output_type": "execute_result",
          "data": {
            "text/plain": [
              "PRODUCT            1906\n",
              "VALUE              1906\n",
              "DATE_TIME          1906\n",
              "CELL_ON_SITE       1906\n",
              "DW_A_NUMBER_INT    1906\n",
              "DW_B_NUMBER_INT    1906\n",
              "COUNTRY_A          1906\n",
              "COUNTRY_B          1906\n",
              "CELL_ID            1906\n",
              "SITE_ID            1906\n",
              "dtype: int64"
            ]
          },
          "metadata": {
            "tags": []
          },
          "execution_count": 89
        }
      ]
    },
    {
      "cell_type": "code",
      "metadata": {
        "colab": {
          "base_uri": "https://localhost:8080/"
        },
        "id": "Pmh9bW8IDbiH",
        "outputId": "831e3829-700a-4ed7-f701-99d4d22ac913"
      },
      "source": [
        "# Total voice call usage in Telcom data set 3\r\n",
        "tel3[tel3['PRODUCT'] == \"Voice\"].count()"
      ],
      "execution_count": null,
      "outputs": [
        {
          "output_type": "execute_result",
          "data": {
            "text/plain": [
              "PRODUCT            1541\n",
              "VALUE              1541\n",
              "DATE_TIME          1541\n",
              "CELL_ON_SITE       1541\n",
              "DW_A_NUMBER_INT    1541\n",
              "DW_B_NUMBER_INT    1541\n",
              "COUNTRY_A          1541\n",
              "COUNTRY_B          1541\n",
              "CELL_ID            1541\n",
              "SITE_ID            1540\n",
              "dtype: int64"
            ]
          },
          "metadata": {
            "tags": []
          },
          "execution_count": 90
        }
      ]
    },
    {
      "cell_type": "code",
      "metadata": {
        "colab": {
          "base_uri": "https://localhost:8080/"
        },
        "id": "KYm7ABy_k8Ow",
        "outputId": "4830f72e-2ec8-44a5-d988-d613bf1a1200"
      },
      "source": [
        "# Total number of SMS from Telcom data set 1\r\n",
        "tel1[tel1['PRODUCT'] == 'sms'].count()"
      ],
      "execution_count": null,
      "outputs": [
        {
          "output_type": "execute_result",
          "data": {
            "text/plain": [
              "PRODUCT                1975\n",
              "PRICE                  1975\n",
              "DATETIME               1975\n",
              "CELL_ON_SITE           1975\n",
              "CALLER                 1975\n",
              "RECEIVER               1975\n",
              "COUNTRY_OF_CALLER      1975\n",
              "COUNTRY_OF_RECEIVER    1975\n",
              "CELL_ID                1975\n",
              "SITE_ID                1975\n",
              "dtype: int64"
            ]
          },
          "metadata": {
            "tags": []
          },
          "execution_count": 67
        }
      ]
    },
    {
      "cell_type": "code",
      "metadata": {
        "colab": {
          "base_uri": "https://localhost:8080/"
        },
        "id": "Md91trwdlQCN",
        "outputId": "b0c37b5e-2e8e-446c-e6f8-fd6484d28ee8"
      },
      "source": [
        "# Total number of SMS from Telcom data set 2\r\n",
        "tel2[tel2['PRODUCT'] == 'sms'].count()"
      ],
      "execution_count": null,
      "outputs": [
        {
          "output_type": "execute_result",
          "data": {
            "text/plain": [
              "PRODUCT                2329\n",
              "PRICE                  2329\n",
              "DATETIME               2329\n",
              "CELL_ON_SITE           2329\n",
              "CALLER                 2329\n",
              "RECEIVER               2329\n",
              "COUNTRY_OF_CALLER      2329\n",
              "COUNTRY_OF_RECEIVER    2329\n",
              "CELL_ID                2329\n",
              "SITE_ID                2329\n",
              "dtype: int64"
            ]
          },
          "metadata": {
            "tags": []
          },
          "execution_count": 69
        }
      ]
    },
    {
      "cell_type": "code",
      "metadata": {
        "colab": {
          "base_uri": "https://localhost:8080/"
        },
        "id": "nfam0PSNlcoZ",
        "outputId": "720059c7-8dae-48b7-d748-83f9a6fb655c"
      },
      "source": [
        "# Total number of SMS from Telcom data set 3\r\n",
        "tel3[tel3['PRODUCT'] == \"sms\"].count()"
      ],
      "execution_count": null,
      "outputs": [
        {
          "output_type": "execute_result",
          "data": {
            "text/plain": [
              "PRODUCT                2767\n",
              "PRICE                  2767\n",
              "DATETIME               2767\n",
              "CELL_ON_SITE           2767\n",
              "CALLER                 2767\n",
              "RECEIVER               2767\n",
              "COUNTRY_OF_CALLER      2767\n",
              "COUNTRY_OF_RECEIVER    2767\n",
              "CELL_ID                2767\n",
              "SITE_ID                2767\n",
              "dtype: int64"
            ]
          },
          "metadata": {
            "tags": []
          },
          "execution_count": 71
        }
      ]
    },
    {
      "cell_type": "code",
      "metadata": {
        "id": "o10jcHrOkBip",
        "colab": {
          "base_uri": "https://localhost:8080/"
        },
        "outputId": "c0733b5b-82e3-4645-bb09-bbe5ac81973e"
      },
      "source": [
        "# Calculating variance of voice, data and sms products\r\n",
        "df['VALUE'].groupby(df['PRODUCT']).var()"
      ],
      "execution_count": null,
      "outputs": [
        {
          "output_type": "execute_result",
          "data": {
            "text/plain": [
              "PRODUCT\n",
              "Voice    26691.726614\n",
              "data      3199.755884\n",
              "sms        215.869098\n",
              "Name: VALUE, dtype: float64"
            ]
          },
          "metadata": {
            "tags": []
          },
          "execution_count": 91
        }
      ]
    },
    {
      "cell_type": "code",
      "metadata": {
        "colab": {
          "base_uri": "https://localhost:8080/"
        },
        "id": "n-K7Qu6DDnDE",
        "outputId": "6ee35fc3-3f8c-47d3-e3cd-87914ece60bf"
      },
      "source": [
        "# Calculating standard deviation of voice, data and sms products\r\n",
        "df['VALUE'].groupby(df['PRODUCT']).std()"
      ],
      "execution_count": null,
      "outputs": [
        {
          "output_type": "execute_result",
          "data": {
            "text/plain": [
              "PRODUCT\n",
              "Voice    163.376028\n",
              "data      56.566385\n",
              "sms       14.692484\n",
              "Name: VALUE, dtype: float64"
            ]
          },
          "metadata": {
            "tags": []
          },
          "execution_count": 92
        }
      ]
    },
    {
      "cell_type": "code",
      "metadata": {
        "colab": {
          "base_uri": "https://localhost:8080/",
          "height": 173
        },
        "id": "-vJSff6HDrda",
        "outputId": "8c3d45ac-225d-4cd9-f905-22a99051c15b"
      },
      "source": [
        "# Showing correlation of different columns  \r\n",
        "df.groupby(df['PRODUCT']).corr()"
      ],
      "execution_count": null,
      "outputs": [
        {
          "output_type": "execute_result",
          "data": {
            "text/html": [
              "<div>\n",
              "<style scoped>\n",
              "    .dataframe tbody tr th:only-of-type {\n",
              "        vertical-align: middle;\n",
              "    }\n",
              "\n",
              "    .dataframe tbody tr th {\n",
              "        vertical-align: top;\n",
              "    }\n",
              "\n",
              "    .dataframe thead th {\n",
              "        text-align: right;\n",
              "    }\n",
              "</style>\n",
              "<table border=\"1\" class=\"dataframe\">\n",
              "  <thead>\n",
              "    <tr style=\"text-align: right;\">\n",
              "      <th></th>\n",
              "      <th></th>\n",
              "      <th>VALUE</th>\n",
              "    </tr>\n",
              "    <tr>\n",
              "      <th>PRODUCT</th>\n",
              "      <th></th>\n",
              "      <th></th>\n",
              "    </tr>\n",
              "  </thead>\n",
              "  <tbody>\n",
              "    <tr>\n",
              "      <th>Voice</th>\n",
              "      <th>VALUE</th>\n",
              "      <td>1.0</td>\n",
              "    </tr>\n",
              "    <tr>\n",
              "      <th>data</th>\n",
              "      <th>VALUE</th>\n",
              "      <td>1.0</td>\n",
              "    </tr>\n",
              "    <tr>\n",
              "      <th>sms</th>\n",
              "      <th>VALUE</th>\n",
              "      <td>1.0</td>\n",
              "    </tr>\n",
              "  </tbody>\n",
              "</table>\n",
              "</div>"
            ],
            "text/plain": [
              "               VALUE\n",
              "PRODUCT             \n",
              "Voice   VALUE    1.0\n",
              "data    VALUE    1.0\n",
              "sms     VALUE    1.0"
            ]
          },
          "metadata": {
            "tags": []
          },
          "execution_count": 93
        }
      ]
    }
  ]
}